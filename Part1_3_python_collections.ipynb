{
  "nbformat": 4,
  "nbformat_minor": 0,
  "metadata": {
    "colab": {
      "name": "Part1.3_python_collections.ipynb",
      "provenance": [],
      "collapsed_sections": [],
      "authorship_tag": "ABX9TyNZ1LRg52snA41Ft7aIGtPS",
      "include_colab_link": true
    },
    "kernelspec": {
      "name": "python3",
      "display_name": "Python 3"
    }
  },
  "cells": [
    {
      "cell_type": "markdown",
      "metadata": {
        "id": "view-in-github",
        "colab_type": "text"
      },
      "source": [
        "<a href=\"https://colab.research.google.com/github/YinGuoX/Deep_Learning_T81_558/blob/master/Part1_3_python_collections.ipynb\" target=\"_parent\"><img src=\"https://colab.research.google.com/assets/colab-badge.svg\" alt=\"Open In Colab\"/></a>"
      ]
    },
    {
      "cell_type": "markdown",
      "metadata": {
        "id": "5wEd6MJJgrXR"
      },
      "source": [
        "# Part1.3 : Python Lists, Dictionaries, Sets and JSON\n",
        "Like most modern programming languages, Python includes Lists,Sets,Dictionaries,and other data structures as built-in types. The syntax appearance of both these is similar ot JSON. Python and JSON compatibility is discussed later in this module. This course will focus primarily on Lists,Sets,and Dictionaries. It is essential to understand the differences between these three fundamental collection types.\n",
        "\n",
        "\n",
        "* **Dictionary**-A dictionary is **a mutable unordered collection** that Python indexes with name and value pairs.\n",
        "* **List**-A list is **a mutable ordered collection** that allow duplicate elements.\n",
        "* **Set**- A set is **a mutable unordered collection** with no duplicate elements.\n",
        "* **Tuple**- A tuple is **an immutable ordered collection** that allow duplicate elements.\n",
        "\n",
        "\n",
        "Most Python collections are mutable, which means that the program can add and remove elements after definition. An immutable collection cannot add or remove items after definition. It is also essential to understand that an ordered collection means that items maintain their order as the program adds them to a collection.This order might not be any specific ordering, such as alphabetic or numeric.\n",
        "\n",
        "Lists and tuples are very similar in Python and are often confused.The significant difference is that a list is mutable,bua a tuple isn't.So,we include a list when we want to contain similiar items,and include a tuple when we know what information goes into it ahead of time.\n",
        "\n",
        "Many programming languages contain a data collection called an array.The array type is noticeably absent in Python.Generally,the programmer will use a list in place of an array in Python. Arrays in most programming languages were fixed-length,requiring the program to know the maximum number of elements needed ahead of time.This restriction leads to the infamous array-overrun bugs and security issues.The Python list is much more flexible in that the prgram can dynamically change the size of a list."
      ]
    },
    {
      "cell_type": "markdown",
      "metadata": {
        "id": "2gUwYhWVlilt"
      },
      "source": [
        "## 1. Google CoLab Instructions\n",
        "The following code ensures that Google CoLab is running the correct version of TensorFlow"
      ]
    },
    {
      "cell_type": "code",
      "metadata": {
        "id": "5Q6Y6NfWgWYT",
        "outputId": "45609df7-d481-4698-d1ee-42e46b303d07",
        "colab": {
          "base_uri": "https://localhost:8080/",
          "height": 34
        }
      },
      "source": [
        "try:\n",
        "  from google.colab import drive\n",
        "  %tensorflow_version 2.x\n",
        "  COLAB = True\n",
        "  print(\"NOTE: using Google CoLab\")\n",
        "except:\n",
        "  print(\"NOTE: not using Google CoLab\")\n",
        "  COLAB = False"
      ],
      "execution_count": null,
      "outputs": [
        {
          "output_type": "stream",
          "text": [
            "NOTE: using Google CoLab\n"
          ],
          "name": "stdout"
        }
      ]
    },
    {
      "cell_type": "markdown",
      "metadata": {
        "id": "UlVaXAtumKd2"
      },
      "source": [
        "## 2. Lists and Tuples\n",
        "For a Python program,lists and tuple are very similar. It is possible to get by as a programmer using only list and ignoring tuples.Both lists and tuples hold an ordered collection of items.\n",
        "\n",
        "The primary difference that you will see synatactically is that a list is enclosed by square braces [] and a tuple enclosed by parenthesis().The following code defines both list and tuple."
      ]
    },
    {
      "cell_type": "code",
      "metadata": {
        "id": "hgTeV0IxmD8p",
        "outputId": "54a285fa-bffa-4f86-d0f0-d0b64722dca2",
        "colab": {
          "base_uri": "https://localhost:8080/",
          "height": 50
        }
      },
      "source": [
        "l = ['a','b','c','d']\n",
        "t = ('a','b','c','d')\n",
        "\n",
        "print(l)\n",
        "print(t)"
      ],
      "execution_count": null,
      "outputs": [
        {
          "output_type": "stream",
          "text": [
            "['a', 'b', 'c', 'd']\n",
            "('a', 'b', 'c', 'd')\n"
          ],
          "name": "stdout"
        }
      ]
    },
    {
      "cell_type": "markdown",
      "metadata": {
        "id": "g5Ft8Xrnngde"
      },
      "source": [
        "The primary difference that you will see programmatically is that a list is mutable, which means the program can change it. A tuple is immutable, which means the program cannot change it. The following code demonstrates that the program can change a list. This code also illustrates that Python indexes lists straing at element 0.Accessing element one modifies the second element in the collection. One advantage of tuple over lists is that tuples are generally slightly faster ot iterate over than lists."
      ]
    },
    {
      "cell_type": "code",
      "metadata": {
        "id": "ee0eNFjanTKY",
        "outputId": "2ed30c45-c918-42bb-c2d9-cb638d1a6398",
        "colab": {
          "base_uri": "https://localhost:8080/",
          "height": 216
        }
      },
      "source": [
        "l[1] = 'change'\n",
        "print(l)\n",
        "\n",
        "# This would result in an error\n",
        "t[1] = 'ad'"
      ],
      "execution_count": null,
      "outputs": [
        {
          "output_type": "stream",
          "text": [
            "['a', 'change', 'c', 'd']\n"
          ],
          "name": "stdout"
        },
        {
          "output_type": "error",
          "ename": "TypeError",
          "evalue": "ignored",
          "traceback": [
            "\u001b[0;31m---------------------------------------------------------------------------\u001b[0m",
            "\u001b[0;31mTypeError\u001b[0m                                 Traceback (most recent call last)",
            "\u001b[0;32m<ipython-input-4-fefa952244c3>\u001b[0m in \u001b[0;36m<module>\u001b[0;34m()\u001b[0m\n\u001b[1;32m      3\u001b[0m \u001b[0;34m\u001b[0m\u001b[0m\n\u001b[1;32m      4\u001b[0m \u001b[0;31m# This would result in an error\u001b[0m\u001b[0;34m\u001b[0m\u001b[0;34m\u001b[0m\u001b[0;34m\u001b[0m\u001b[0m\n\u001b[0;32m----> 5\u001b[0;31m \u001b[0mt\u001b[0m\u001b[0;34m[\u001b[0m\u001b[0;36m1\u001b[0m\u001b[0;34m]\u001b[0m \u001b[0;34m=\u001b[0m \u001b[0;34m'ad'\u001b[0m\u001b[0;34m\u001b[0m\u001b[0;34m\u001b[0m\u001b[0m\n\u001b[0m",
            "\u001b[0;31mTypeError\u001b[0m: 'tuple' object does not support item assignment"
          ]
        }
      ]
    },
    {
      "cell_type": "markdown",
      "metadata": {
        "id": "4mwYi-zcohu_"
      },
      "source": [
        "Like many languages,Python has a for-each statement. This statement allows you to loop over every element in a collection.such as a list or a tuple."
      ]
    },
    {
      "cell_type": "code",
      "metadata": {
        "id": "2zzzKafboYyq",
        "outputId": "87f01494-1c22-4543-9772-490cc34fc7fe",
        "colab": {
          "base_uri": "https://localhost:8080/",
          "height": 84
        }
      },
      "source": [
        "for s in l:\n",
        "  print(s)"
      ],
      "execution_count": null,
      "outputs": [
        {
          "output_type": "stream",
          "text": [
            "a\n",
            "change\n",
            "c\n",
            "d\n"
          ],
          "name": "stdout"
        }
      ]
    },
    {
      "cell_type": "markdown",
      "metadata": {
        "id": "nWjPi2Z7o4Eg"
      },
      "source": [
        "The **enumerate** function is useful for enumerating over a collection and having access to the index of the element that we are currently on."
      ]
    },
    {
      "cell_type": "code",
      "metadata": {
        "id": "mGvW25-Sovd_",
        "outputId": "3667ea88-8ec8-4230-d144-953b00c02fb2",
        "colab": {
          "base_uri": "https://localhost:8080/",
          "height": 84
        }
      },
      "source": [
        "for i,l in enumerate(l):\n",
        "  print(f\"{i}:{l}\")"
      ],
      "execution_count": null,
      "outputs": [
        {
          "output_type": "stream",
          "text": [
            "0:a\n",
            "1:change\n",
            "2:c\n",
            "3:d\n"
          ],
          "name": "stdout"
        }
      ]
    },
    {
      "cell_type": "markdown",
      "metadata": {
        "id": "PyuSLOeBpcgn"
      },
      "source": [
        "A **list** can have multiple objects added to it,such as strings.Duplicate values are allowed.\n",
        "\n",
        "**tuples** do not allow the program to add additional objects after definition."
      ]
    },
    {
      "cell_type": "code",
      "metadata": {
        "id": "__TYJQfrpR74",
        "outputId": "b398f072-8cff-4c05-a072-34f6caf0157c",
        "colab": {
          "base_uri": "https://localhost:8080/",
          "height": 34
        }
      },
      "source": [
        "c = []\n",
        "c.append('a')\n",
        "c.append('b')\n",
        "c.append(100)\n",
        "c.append('ccc')\n",
        "print(c)"
      ],
      "execution_count": null,
      "outputs": [
        {
          "output_type": "stream",
          "text": [
            "['a', 'b', 100, 'ccc']\n"
          ],
          "name": "stdout"
        }
      ]
    },
    {
      "cell_type": "markdown",
      "metadata": {
        "id": "WO_U65miqvyQ"
      },
      "source": [
        "Ordered collections , such as lists and tuples,allow you to access an element by its index number,such as is done in the following code. Unordered collections,such as dictionaries and sets ,do not allow the program to access them in this way."
      ]
    },
    {
      "cell_type": "code",
      "metadata": {
        "id": "u7zTUPJ7pzcv",
        "outputId": "c0b4b748-fb8a-4565-baa2-f880f3d1214f",
        "colab": {
          "base_uri": "https://localhost:8080/",
          "height": 34
        }
      },
      "source": [
        "print(c[1])"
      ],
      "execution_count": null,
      "outputs": [
        {
          "output_type": "stream",
          "text": [
            "b\n"
          ],
          "name": "stdout"
        }
      ]
    },
    {
      "cell_type": "markdown",
      "metadata": {
        "id": "vo6vg7trrjVI"
      },
      "source": [
        "A **list** can have multiple objects added to it, such as strings.Duplicate values are allowed. Tuples do not allow the program to add additional objects after definition. For the insert function, an index, the programmer must specify an index. These operations are not allowed for tuples because they would result in a change."
      ]
    },
    {
      "cell_type": "code",
      "metadata": {
        "id": "l53pRWknrdBg",
        "outputId": "30220f02-1649-4c97-8d5c-df43e0fc03b7",
        "colab": {
          "base_uri": "https://localhost:8080/",
          "height": 67
        }
      },
      "source": [
        "# Insert\n",
        "c = ['a','b','c']\n",
        "c.insert(0,'a0')\n",
        "print(c)\n",
        "\n",
        "# Remove\n",
        "c.remove('b')\n",
        "print(c)\n",
        "# Remove at index\n",
        "del c[0]\n",
        "print(c)"
      ],
      "execution_count": null,
      "outputs": [
        {
          "output_type": "stream",
          "text": [
            "['a0', 'a', 'b', 'c']\n",
            "['a0', 'a', 'c']\n",
            "['a', 'c']\n"
          ],
          "name": "stdout"
        }
      ]
    },
    {
      "cell_type": "markdown",
      "metadata": {
        "id": "v8Vjgu5u4ZSS"
      },
      "source": [
        "## 3. Sets\n",
        "A Python **Set** holds an unordered collection of objects, but sets do not allow duplicates. If a program adds a duplicate item to a set,only one copy of each item remains in the collection. Adding a duplicate item to a set does not result in an error. Any of following techniques will define a set."
      ]
    },
    {
      "cell_type": "code",
      "metadata": {
        "id": "wtPUf1gUscfI",
        "outputId": "77d3ec5b-f609-413d-8276-89ff38ca315c",
        "colab": {
          "base_uri": "https://localhost:8080/",
          "height": 50
        }
      },
      "source": [
        "s = set()\n",
        "print(f'{type(s)}')\n",
        "s = {'a','b','c'}\n",
        "s = set(['a','b','c'])\n",
        "print(s)"
      ],
      "execution_count": null,
      "outputs": [
        {
          "output_type": "stream",
          "text": [
            "<class 'set'>\n",
            "{'a', 'b', 'c'}\n"
          ],
          "name": "stdout"
        }
      ]
    },
    {
      "cell_type": "markdown",
      "metadata": {
        "id": "FP1obWjL5m2X"
      },
      "source": [
        "A **list** is always enclosed in square braces [], a **tuple** in parenthesis (), and now we see that the programmer encloses a set in curly braces. Programs can add items to a **set** as they run. Programs can dynamically add items to a **set** with the **add** function. It is important to note that the **append function** adds items to lists and tuples, whereas the add function adds items to a set."
      ]
    },
    {
      "cell_type": "code",
      "metadata": {
        "id": "l2jGvVP65BzC",
        "outputId": "cad4d0f4-71c9-4d06-fcdc-63f00f38980d",
        "colab": {
          "base_uri": "https://localhost:8080/",
          "height": 34
        }
      },
      "source": [
        "# Manunally add items,sets do not allow duplicates\n",
        "# Sets add,lists append. I find this annoying\n",
        "c = set()\n",
        "c.add('a')\n",
        "c.add('b')\n",
        "c.add('c')\n",
        "c.add('c')\n",
        "print(c)"
      ],
      "execution_count": null,
      "outputs": [
        {
          "output_type": "stream",
          "text": [
            "{'a', 'b', 'c'}\n"
          ],
          "name": "stdout"
        }
      ]
    },
    {
      "cell_type": "markdown",
      "metadata": {
        "id": "LBtIM2Vg6Nve"
      },
      "source": [
        "## 4. Maps or Dictionaries or Hash Tables\n",
        "Many programming languages include the concept of a map,dictionary,or hash table.These are all very related concepts. Python provides a dictionary,that is essentially a collection of name-value pairs.Programs define dictionaries using curly-braces,as seen here."
      ]
    },
    {
      "cell_type": "code",
      "metadata": {
        "id": "I7-FwIQa6LQ7",
        "outputId": "44daadc3-d86d-40b0-9af3-f934da34d31f",
        "colab": {
          "base_uri": "https://localhost:8080/",
          "height": 84
        }
      },
      "source": [
        "d = {'name':'Jeff','address':\"123 Main\",\"hh\":\"sad\"}\n",
        "print(d)\n",
        "print(d['name'])\n",
        "if 'name' in d:\n",
        "  print(\"Name is defined\")\n",
        "\n",
        "if 'age' in d:\n",
        "  print(\"age defined\")\n",
        "else:\n",
        "  print(\"age undefined\")"
      ],
      "execution_count": null,
      "outputs": [
        {
          "output_type": "stream",
          "text": [
            "{'name': 'Jeff', 'address': '123 Main', 'hh': 'sad'}\n",
            "Jeff\n",
            "Name is defined\n",
            "age undefined\n"
          ],
          "name": "stdout"
        }
      ]
    },
    {
      "cell_type": "markdown",
      "metadata": {
        "id": "1Ac7NpH67MCy"
      },
      "source": [
        "Be careful that you do not attempt to access an undefined key,as this will result in an error.You can check to see if a key is defined, as demonstrated above.You can also access the directory and provide a default value,as the following code demonstrate."
      ]
    },
    {
      "cell_type": "code",
      "metadata": {
        "id": "l-zh3vSb67HT",
        "outputId": "1f443620-2d09-4a5e-f1ad-8f3e8f9197c2",
        "colab": {
          "base_uri": "https://localhost:8080/",
          "height": 50
        }
      },
      "source": [
        "print(d.get('name','default'))\n",
        "\n",
        "print(d.get('unknown_key', 'default'))"
      ],
      "execution_count": null,
      "outputs": [
        {
          "output_type": "stream",
          "text": [
            "Jeff\n",
            "default\n"
          ],
          "name": "stdout"
        }
      ]
    },
    {
      "cell_type": "markdown",
      "metadata": {
        "id": "V7wqMA0x7664"
      },
      "source": [
        "You can also access the individual keys and values of a dictionary."
      ]
    },
    {
      "cell_type": "code",
      "metadata": {
        "id": "JZ71ObGo7syu",
        "outputId": "4d0a739d-e0a8-406f-b25d-2c005ee65797",
        "colab": {
          "base_uri": "https://localhost:8080/",
          "height": 50
        }
      },
      "source": [
        "d = {'name': \"Jeff\", 'address':\"123 Main\"}\n",
        "# All of the keys\n",
        "print(f\"Key:{d.keys()}\")\n",
        "\n",
        "# All of the values\n",
        "print(f\"Valuse:{d.values()}\")"
      ],
      "execution_count": null,
      "outputs": [
        {
          "output_type": "stream",
          "text": [
            "Key:dict_keys(['name', 'address'])\n",
            "Valuse:dict_values(['Jeff', '123 Main'])\n"
          ],
          "name": "stdout"
        }
      ]
    },
    {
      "cell_type": "markdown",
      "metadata": {
        "id": "prtwSdYY8xxh"
      },
      "source": [
        "Dictionaries and lists can be combined. This syntax is closely related to [JSON](https://en.wikipedia.org/wiki/JSON). Dictionaries and lists together are a good way to build very complex data structures. While Python allows quotes (\") and apostrophe (') for strings, JSON only allows double-quotes (\").We will cover JSON in much greater detail later in this module.\n",
        "\n",
        "The following code shows a hybrid usage of dictionaries and lists."
      ]
    },
    {
      "cell_type": "code",
      "metadata": {
        "id": "ImqkttuG8Gno",
        "outputId": "1c856e70-b24b-41e7-d5ec-33b4bb69d24d",
        "colab": {
          "base_uri": "https://localhost:8080/",
          "height": 104
        }
      },
      "source": [
        "# Python list & map structures\n",
        "customers = [\n",
        "  {'name':'Jeff & Tracy Heaton','pets':['Wynton','Cricket','Hikory']},\n",
        "  {'name':'John Simith','pets':['rover']},\n",
        "  {'name':'Jane Doe'}\n",
        "]\n",
        "\n",
        "print(customers)\n",
        "\n",
        "for customer in customers:\n",
        "  print(f\"{customer['name']}:{customer.get('pets','no pets')}\")"
      ],
      "execution_count": null,
      "outputs": [
        {
          "output_type": "stream",
          "text": [
            "[{'name': 'Jeff & Tracy Heaton', 'pets': ['Wynton', 'Cricket', 'Hikory']}, {'name': 'John Simith', 'pets': ['rover']}, {'name': 'Jane Doe'}]\n",
            "Jeff & Tracy Heaton:['Wynton', 'Cricket', 'Hikory']\n",
            "John Simith:['rover']\n",
            "Jane Doe:no pets\n"
          ],
          "name": "stdout"
        }
      ]
    },
    {
      "cell_type": "markdown",
      "metadata": {
        "id": "swn-BLYx-eXK"
      },
      "source": [
        "The variable **customers** is a list that holds three dictionaries that represent customers. You can think of these dictionaries as record in a table. The fields in these individual records are the keys of the dictionary. Here the keys name and pets are fields.However, the field pets holds a list of pet names. There is no limit to how deep you might choose to nest lists and maps.It is also possible to nest a map inside of a map or a list inside of another list."
      ]
    },
    {
      "cell_type": "markdown",
      "metadata": {
        "id": "w7CzGl4E_Wg8"
      },
      "source": [
        "## 5. More Advanced Lists features\n",
        "### 5.1 Zip\n",
        "Several advanced features are availables for lists that this section introduces. One such function is **zip**. Tow lists can be combined into a single list by the **zip** command. The following code demonstrates the **zip** command."
      ]
    },
    {
      "cell_type": "code",
      "metadata": {
        "id": "whRB3XX4-bZ_",
        "outputId": "93d5222f-6853-42ca-b742-d93bf62f16f9",
        "colab": {
          "base_uri": "https://localhost:8080/",
          "height": 34
        }
      },
      "source": [
        "a = [1,2,3,4,5]\n",
        "b = [5,4,3,2,1]\n",
        "\n",
        "print(zip(a,b))"
      ],
      "execution_count": null,
      "outputs": [
        {
          "output_type": "stream",
          "text": [
            "<zip object at 0x7f85e036dc08>\n"
          ],
          "name": "stdout"
        }
      ]
    },
    {
      "cell_type": "markdown",
      "metadata": {
        "id": "_b6q9QmOAjNR"
      },
      "source": [
        "To see the results of the **zip** function. We convert the returned zip object into a list.As you can see,the **zip** function returns a list of tuples.Each tuple represents a pair of items that the function zipped together.The order in the two lists was maintained."
      ]
    },
    {
      "cell_type": "code",
      "metadata": {
        "id": "frVhF5KrAiBy",
        "outputId": "d8d61204-e197-41b2-b830-2dc2620b7142",
        "colab": {
          "base_uri": "https://localhost:8080/",
          "height": 34
        }
      },
      "source": [
        "a = [1,2,3,4,5]\n",
        "b = [5,4,3,2,1]\n",
        "\n",
        "print(list(zip(a,b)))"
      ],
      "execution_count": null,
      "outputs": [
        {
          "output_type": "stream",
          "text": [
            "[(1, 5), (2, 4), (3, 3), (4, 2), (5, 1)]\n"
          ],
          "name": "stdout"
        }
      ]
    },
    {
      "cell_type": "markdown",
      "metadata": {
        "id": "KzR1CdWkBNQr"
      },
      "source": [
        "The usual method for using the zip command is inside of a for-loop.The following code shows how a for-loop can assign a variable to each collection that the program is iterating."
      ]
    },
    {
      "cell_type": "code",
      "metadata": {
        "id": "BPosEBggBKvV",
        "outputId": "37167b35-6e6d-4d39-bbb9-f85b7d2d3341",
        "colab": {
          "base_uri": "https://localhost:8080/",
          "height": 101
        }
      },
      "source": [
        "a = [1,2,3,4,5]\n",
        "b = [5,4,3,2,1]\n",
        "\n",
        "for x,y in zip(a,b):\n",
        "  print(f'{x}-{y}')"
      ],
      "execution_count": null,
      "outputs": [
        {
          "output_type": "stream",
          "text": [
            "1-5\n",
            "2-4\n",
            "3-3\n",
            "4-2\n",
            "5-1\n"
          ],
          "name": "stdout"
        }
      ]
    },
    {
      "cell_type": "markdown",
      "metadata": {
        "id": "XI5KA4paBjmP"
      },
      "source": [
        "Usually,both collections will be of the same length when passed to the zip command. It is not an error to have collections of different lengths.As the following code illustrates, the zip command will only process elements up to the length of the smaller collection.\n"
      ]
    },
    {
      "cell_type": "code",
      "metadata": {
        "id": "pTEZwvKCBftU",
        "outputId": "5eb49508-1764-427a-d5d3-163db82c4a10",
        "colab": {
          "base_uri": "https://localhost:8080/",
          "height": 34
        }
      },
      "source": [
        "a = [1,2,3,4,5]\n",
        "b = [5,4,3]\n",
        "print(list(zip(a,b)))"
      ],
      "execution_count": null,
      "outputs": [
        {
          "output_type": "stream",
          "text": [
            "[(1, 5), (2, 4), (3, 3)]\n"
          ],
          "name": "stdout"
        }
      ]
    },
    {
      "cell_type": "markdown",
      "metadata": {
        "id": "SD5bKoQtCJDf"
      },
      "source": [
        "### 5.2 enumerate\n",
        "Sometimes you may wish to know the current numeric index when a for-loop is iterating through an ordered collection.Use the **enumerate** command to track the index location for a clollection element.Because the **enumerate** command deals with numeric indexes of the collection, the zip command will assign arbitrary indexes to elements from unordered collections.\n",
        "\n",
        "Consider how you might construct a Python program to change every element greater than 5 to the value of 5.The following program performs this transformation. The enumerate command allows the loop to know which element index it is currently on,thus allowing the program to be able to change the value of the current element of the collection."
      ]
    },
    {
      "cell_type": "code",
      "metadata": {
        "id": "Fg8XWc9xB_zY",
        "outputId": "8757d950-a2cc-46de-8bd5-54c330d672cc",
        "colab": {
          "base_uri": "https://localhost:8080/",
          "height": 34
        }
      },
      "source": [
        "a = [2,10,3,11,10,3,1,2]\n",
        "for i,x in enumerate(a):\n",
        "  if x>5:\n",
        "    a[i] = 5\n",
        "print(a)"
      ],
      "execution_count": null,
      "outputs": [
        {
          "output_type": "stream",
          "text": [
            "[2, 5, 3, 5, 5, 3, 1, 2]\n"
          ],
          "name": "stdout"
        }
      ]
    },
    {
      "cell_type": "markdown",
      "metadata": {
        "id": "YpaYnHoSD2bb"
      },
      "source": [
        "### 5.3 Dynamically Build\n",
        "The comprehension command can dynamically build up a list. The comprehension below counts from 0 to 9 and adds each value(multiplied by 10) to a list."
      ]
    },
    {
      "cell_type": "code",
      "metadata": {
        "id": "78jKSei_DzsS",
        "outputId": "ab90afe8-266c-4573-885b-b2cb466e5362",
        "colab": {
          "base_uri": "https://localhost:8080/",
          "height": 34
        }
      },
      "source": [
        "lst = [x*10 for x in range(10)]\n",
        "print(lst)"
      ],
      "execution_count": null,
      "outputs": [
        {
          "output_type": "stream",
          "text": [
            "[0, 10, 20, 30, 40, 50, 60, 70, 80, 90]\n"
          ],
          "name": "stdout"
        }
      ]
    },
    {
      "cell_type": "markdown",
      "metadata": {
        "id": "yP-hXN2uEZrT"
      },
      "source": [
        "A dictionary can also be a  comprehension. The general format for this is:\n",
        "\n",
        "\n",
        "```\n",
        "dict_variable = {key:value for (key,value) in dictionary.items()}\n",
        "```\n",
        "A common use for this is to build up an index to symbolic column names.\n"
      ]
    },
    {
      "cell_type": "code",
      "metadata": {
        "id": "Qumg8gFHEO2Q",
        "outputId": "e390da18-bc53-45a2-c4f2-7b7e86037dd5",
        "colab": {
          "base_uri": "https://localhost:8080/",
          "height": 34
        }
      },
      "source": [
        "text = ['col-zero','col-one','col-two','col-three']\n",
        "\n",
        "lookup = {key:value for (value,key) in enumerate(text)}\n",
        "print(lookup)"
      ],
      "execution_count": null,
      "outputs": [
        {
          "output_type": "stream",
          "text": [
            "{'col-zero': 0, 'col-one': 1, 'col-two': 2, 'col-three': 3}\n"
          ],
          "name": "stdout"
        }
      ]
    },
    {
      "cell_type": "markdown",
      "metadata": {
        "id": "KTARTv3eFCj3"
      },
      "source": [
        "This can be used to easily find the index of a column by name."
      ]
    },
    {
      "cell_type": "code",
      "metadata": {
        "id": "JPU8BQb5FBks",
        "outputId": "04c7fb10-dfd1-4d70-91f9-76a0525ca15e",
        "colab": {
          "base_uri": "https://localhost:8080/",
          "height": 34
        }
      },
      "source": [
        "print(f'The index of \"col-two\" is {lookup[\"col-two\"]}')"
      ],
      "execution_count": null,
      "outputs": [
        {
          "output_type": "stream",
          "text": [
            "The index of \"col-two\" is 2\n"
          ],
          "name": "stdout"
        }
      ]
    },
    {
      "cell_type": "markdown",
      "metadata": {
        "id": "83kXJmqaEHxr"
      },
      "source": [
        "## 6. An Introduction to JSON\n",
        "Data stored in a CSV file must be flat;that is,it must fit into rows and columns.Most people refer to this type of data as structure or tabular.This data is tabular because the number of columns is the same for every row.Individual rows may be missing a value for column;however,these rows still have the same columns.\n",
        "\n",
        "This sort of data is convenient for machine learning because most models,such as neural networks,also expect incoming data to be of fixed dimensions.Real-world information is not always so tabular.Consider if the rows represent customers.These people might have multiple phone numbers and addresses.How would you describe such data using a fixed number of columns?It would be useful to have a list of these courses in each row that can be of a variable length for each row,or student.\n",
        "\n",
        "JavaScript Object Notation(JSON) is a standard file format that stores data in hierarchical format similar to eXtensible Markup Language(XML).JSON is nothing more than a hierarchy of lists and dictionaries.Programmers refer to this sort of data as semi-structured data or hierarchical data.The following is a sample JSON file.\n",
        "\n",
        "\n",
        "\n",
        "```\n",
        "{\n",
        "  \"firstName\": \"John\",\n",
        "  \"lastName\": \"Smith\",\n",
        "  \"isAlive\": true,\n",
        "  \"age\": 27,\n",
        "  \"address\": {\n",
        "    \"streetAddress\": \"21 2nd Street\",\n",
        "    \"city\": \"New York\",\n",
        "    \"state\": \"NY\",\n",
        "    \"postalCode\": \"10021-3100\"\n",
        "  },\n",
        "  \"phoneNumbers\": [\n",
        "    {\n",
        "      \"type\": \"home\",\n",
        "      \"number\": \"212 555-1234\"\n",
        "    },\n",
        "    {\n",
        "      \"type\": \"office\",\n",
        "      \"number\": \"646 555-4567\"\n",
        "    },\n",
        "    {\n",
        "      \"type\": \"mobile\",\n",
        "      \"number\": \"123 456-7890\"\n",
        "    }\n",
        "  ],\n",
        "  \"children\": [],\n",
        "  \"spouse\": null\n",
        "}\n",
        "\n",
        "```\n",
        "\n"
      ]
    },
    {
      "cell_type": "markdown",
      "metadata": {
        "id": "47U8f4-wIeLP"
      },
      "source": [
        "The above file may look somewhat like Python code.You can see curly braces that define dictionaries and square brackets that define lists. JSON does require there to be a single root element, A list or dictionary can fulfill this role.**JSON requires double-quotes to enclose strings and names.Single quotes are not allowed in JSON.**\n",
        "\n",
        "JSON files are always legal JaveScripy syntax.JSON is also generally valid as Python code, as demonstrated by the following Python program."
      ]
    },
    {
      "cell_type": "code",
      "metadata": {
        "id": "QvYNlL6VG6wu"
      },
      "source": [
        "\n",
        "jsonHardCoded = {\n",
        "    \"firstName\": \"John\",\n",
        "    \"lastName\": \"Smith\",\n",
        "    \"isAlive\": True,\n",
        "    \"age\": 27,\n",
        "    \"address\": {\n",
        "      \"streetAddress\": \"21 2nd Street\",\n",
        "      \"city\": \"New York\",\n",
        "      \"state\": \"NY\",\n",
        "      \"postalCode\": \"10021-3100\"\n",
        "    },\n",
        "    \"phoneNumbers\": [\n",
        "      {\n",
        "        \"type\": \"home\",\n",
        "        \"number\": \"212 555-1234\"\n",
        "      },\n",
        "      {\n",
        "        \"type\": \"office\",\n",
        "        \"number\": \"646 555-4567\"\n",
        "      },\n",
        "      {\n",
        "        \"type\": \"mobile\",\n",
        "        \"number\": \"123 456-7890\"\n",
        "      }\n",
        "    ],\n",
        "    \"children\": [],\n",
        "    \"spouse\": None\n",
        "  }"
      ],
      "execution_count": null,
      "outputs": []
    },
    {
      "cell_type": "markdown",
      "metadata": {
        "id": "mc1KB6zqJZNW"
      },
      "source": [
        "Generally, it is better to read JSON from files,strings,or the Internet than hard coding, as demonstrated here. However, for internal data structures,sometimes such hard-coding can be useful.\n",
        "\n",
        "Python contains support for JSON. When a Python program loads a JSON the root list or dictionary is returned,as demonstrated by the following code."
      ]
    },
    {
      "cell_type": "code",
      "metadata": {
        "id": "aB_dVhOJJwGP",
        "outputId": "35291f0b-25ea-4883-c8a7-e107e82a7454",
        "colab": {
          "base_uri": "https://localhost:8080/",
          "height": 67
        }
      },
      "source": [
        "import json\n",
        "\n",
        "\n",
        "json_string = '{\"first\":\"Jeff\",\"last\":\"Heaton\"}'\n",
        "obj = json.loads(json_string)\n",
        "print(obj)\n",
        "print(f\"First name:{obj['first']}\")\n",
        "\n",
        "print(f\"Last name: {obj['last']}\")"
      ],
      "execution_count": null,
      "outputs": [
        {
          "output_type": "stream",
          "text": [
            "{'first': 'Jeff', 'last': 'Heaton'}\n",
            "First name:Jeff\n",
            "Last name: Heaton\n"
          ],
          "name": "stdout"
        }
      ]
    },
    {
      "cell_type": "markdown",
      "metadata": {
        "id": "5nVFOdy2Kr4T"
      },
      "source": [
        "Python programs can also load JSON from a file or URL"
      ]
    },
    {
      "cell_type": "code",
      "metadata": {
        "id": "_Ux0wfOoKyQn",
        "outputId": "489e1554-3018-46a3-f3f6-0a872cf6643b",
        "colab": {
          "base_uri": "https://localhost:8080/",
          "height": 54
        }
      },
      "source": [
        "\n",
        "import requests\n",
        "\n",
        "r = requests.get(\"https://raw.githubusercontent.com/jeffheaton/\"\n",
        "                 +\"t81_558_deep_learning/master/person.json\")\n",
        "print(r.json())"
      ],
      "execution_count": null,
      "outputs": [
        {
          "output_type": "stream",
          "text": [
            "{'firstName': 'John', 'lastName': 'Smith', 'isAlive': True, 'age': 27, 'address': {'streetAddress': '21 2nd Street', 'city': 'New York', 'state': 'NY', 'postalCode': '10021-3100'}, 'phoneNumbers': [{'type': 'home', 'number': '212 555-1234'}, {'type': 'office', 'number': '646 555-4567'}, {'type': 'mobile', 'number': '123 456-7890'}], 'children': [], 'spouse': None}\n"
          ],
          "name": "stdout"
        }
      ]
    },
    {
      "cell_type": "markdown",
      "metadata": {
        "id": "nO9BYedkK1QX"
      },
      "source": [
        "Python programs can easily generate JSON strings from Python objects of dictionaries and lists."
      ]
    },
    {
      "cell_type": "code",
      "metadata": {
        "id": "_2am5skGK8MN",
        "outputId": "0de3c2ed-8163-487c-dad7-b9675cff158b",
        "colab": {
          "base_uri": "https://localhost:8080/",
          "height": 34
        }
      },
      "source": [
        "\n",
        "python_obj = {\"first\":\"Jeff\",\"last\":\"Heaton\"}\n",
        "print(json.dumps(python_obj))"
      ],
      "execution_count": null,
      "outputs": [
        {
          "output_type": "stream",
          "text": [
            "{\"first\": \"Jeff\", \"last\": \"Heaton\"}\n"
          ],
          "name": "stdout"
        }
      ]
    },
    {
      "cell_type": "markdown",
      "metadata": {
        "id": "mV0RqcVmLDUj"
      },
      "source": [
        "A data scientist will generally encounter JSON when they access web services to get their data.A data scientist might use the techniques presented in this section to convert the semi-structured JSON data into tabular data for the program to use with a model such as a neural network.\n"
      ]
    },
    {
      "cell_type": "code",
      "metadata": {
        "id": "63uESnDOLeN-"
      },
      "source": [
        ""
      ],
      "execution_count": null,
      "outputs": []
    }
  ]
}