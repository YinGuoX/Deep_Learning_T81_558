{
  "nbformat": 4,
  "nbformat_minor": 0,
  "metadata": {
    "colab": {
      "name": "Part2.2_Pandas_cat.ipynb",
      "provenance": [],
      "collapsed_sections": [],
      "authorship_tag": "ABX9TyOmPwdtp6gCH7GjjsAUH+gS",
      "include_colab_link": true
    },
    "kernelspec": {
      "name": "python3",
      "display_name": "Python 3"
    }
  },
  "cells": [
    {
      "cell_type": "markdown",
      "metadata": {
        "id": "view-in-github",
        "colab_type": "text"
      },
      "source": [
        "<a href=\"https://colab.research.google.com/github/YinGuoX/Deep_Learning_T81_558/blob/master/Part2_2_Pandas_cat.ipynb\" target=\"_parent\"><img src=\"https://colab.research.google.com/assets/colab-badge.svg\" alt=\"Open In Colab\"/></a>"
      ]
    },
    {
      "cell_type": "markdown",
      "metadata": {
        "id": "bQc0knZi5cK5"
      },
      "source": [
        "# Part2.2: Categorical and Continuous Values\n",
        "神经网络一般要求输入固定数量的列，这种输入格式与电子表格数据很类似。但是这种输入必须是数字。\n",
        "\n",
        "因此必须以神经网络可以训练的方式来输入数据，在之后的课程中会介绍更多预处理数据的方式，但是现在，我们将主要介绍几种最基本的方法来预处理数据使之可以输入到神经网络。\n",
        "\n",
        "在我们研究预处理数据的特定方法之前，重要的是要考虑四种基本数据类型，如[[Cite：stevens1946theory]](https://psychology.okstate.edu/faculty/jgrice/psyc3214/Stevens_FourScales_1946.pdf)所定义。 统计人员通常将其称为[度量级别](https://en.wikipedia.org/wiki/Level_of_measurement)：\n",
        "\n",
        "* 字符数据(字符串):\n",
        "  * 标称-单个离散项目，无序。 例如，颜色，邮政编码，形状。\n",
        "  * 序数-个别的不同的项目有一个隐含的顺序。例如等级、职位头衔、星巴克(tm)咖啡大小(高杯、超大杯、大杯)\n",
        "* 数值数据：\n",
        "  * 区间-数值，没有定义开始。例如：温度。你永远不会说:“昨天是今天的两倍热。”\n",
        "  * 比率-数值，明确定义开始。例如,速度。你会说“第一辆车的速度是第二辆的两倍。”"
      ]
    },
    {
      "cell_type": "markdown",
      "metadata": {
        "id": "GvVz6eu87UAW"
      },
      "source": [
        "## 1. 编码连续值\n",
        "一种常见的转换是对输入进行标准化。 有时对于将数字输入标准化为标准形式很有价值，这样程序可以轻松比较这两个值。 考虑是否有一位朋友告诉您他得到了10美元的折扣。 这很划算吗？ 也许。 但是成本并未标准化。 如果您的朋友购买了汽车，那么折扣并不是那么好。 如果您的朋友买了晚餐，这是一个很大的折扣！\n",
        "\n",
        "百分比是一种普遍的标准化形式。如果你的朋友告诉你他们得到了10%的折扣，我们知道这个折扣比5%要好。购买价格多少并不重要。一种广泛使用的机器学习标准化是Z-Score:\n",
        "\n",
        "$z = \\frac{x-\\mu}{\\sigma}$\n",
        "\n",
        "要计算Z-Score，还需要计算平均值($\\mu$)和标准差($\\sigma$)。均值($$\\mu)计算如下:\n",
        "\n",
        "$\\mu = \\bar{x} = \\frac{x_1+x_2+...+x_n}{n}$\n",
        "\n",
        "标准差($\\sigma$)计算如下：\n",
        "\n",
        "$\\sigma = \\sqrt{\\frac{1}{N}\\sum_{i=1}^{N}{(x_i-\\mu)}^2}$\n",
        "\n",
        "下面的Python代码将mpg替换为Z-score。平均MPG将接近于零，高于零就是高于平均值，低于零就是低于平均值。Z-Score在-3以下和3以上非常罕见，这些是异常值。"
      ]
    },
    {
      "cell_type": "code",
      "metadata": {
        "id": "MRVz3Ac95Sgg",
        "outputId": "042a15c9-b234-493a-8c80-aa94ee4f1479",
        "colab": {
          "base_uri": "https://localhost:8080/",
          "height": 448
        }
      },
      "source": [
        "import os\n",
        "import pandas as pd\n",
        "from scipy.stats import zscore\n",
        "\n",
        "df = pd.read_csv(\n",
        "    \"https://data.heatonresearch.com/data/t81-558/auto-mpg.csv\",\n",
        "    na_values=['NA','?'])\n",
        "\n",
        "pd.set_option('display.max_columns',7)\n",
        "pd.set_option('display.max_rows',5)\n",
        "\n",
        "display(df)\n",
        "df['mpg'] = zscore(df['mpg'])\n",
        "display(df)"
      ],
      "execution_count": null,
      "outputs": [
        {
          "output_type": "display_data",
          "data": {
            "text/html": [
              "<div>\n",
              "<style scoped>\n",
              "    .dataframe tbody tr th:only-of-type {\n",
              "        vertical-align: middle;\n",
              "    }\n",
              "\n",
              "    .dataframe tbody tr th {\n",
              "        vertical-align: top;\n",
              "    }\n",
              "\n",
              "    .dataframe thead th {\n",
              "        text-align: right;\n",
              "    }\n",
              "</style>\n",
              "<table border=\"1\" class=\"dataframe\">\n",
              "  <thead>\n",
              "    <tr style=\"text-align: right;\">\n",
              "      <th></th>\n",
              "      <th>mpg</th>\n",
              "      <th>cylinders</th>\n",
              "      <th>displacement</th>\n",
              "      <th>...</th>\n",
              "      <th>year</th>\n",
              "      <th>origin</th>\n",
              "      <th>name</th>\n",
              "    </tr>\n",
              "  </thead>\n",
              "  <tbody>\n",
              "    <tr>\n",
              "      <th>0</th>\n",
              "      <td>18.0</td>\n",
              "      <td>8</td>\n",
              "      <td>307.0</td>\n",
              "      <td>...</td>\n",
              "      <td>70</td>\n",
              "      <td>1</td>\n",
              "      <td>chevrolet chevelle malibu</td>\n",
              "    </tr>\n",
              "    <tr>\n",
              "      <th>1</th>\n",
              "      <td>15.0</td>\n",
              "      <td>8</td>\n",
              "      <td>350.0</td>\n",
              "      <td>...</td>\n",
              "      <td>70</td>\n",
              "      <td>1</td>\n",
              "      <td>buick skylark 320</td>\n",
              "    </tr>\n",
              "    <tr>\n",
              "      <th>...</th>\n",
              "      <td>...</td>\n",
              "      <td>...</td>\n",
              "      <td>...</td>\n",
              "      <td>...</td>\n",
              "      <td>...</td>\n",
              "      <td>...</td>\n",
              "      <td>...</td>\n",
              "    </tr>\n",
              "    <tr>\n",
              "      <th>396</th>\n",
              "      <td>28.0</td>\n",
              "      <td>4</td>\n",
              "      <td>120.0</td>\n",
              "      <td>...</td>\n",
              "      <td>82</td>\n",
              "      <td>1</td>\n",
              "      <td>ford ranger</td>\n",
              "    </tr>\n",
              "    <tr>\n",
              "      <th>397</th>\n",
              "      <td>31.0</td>\n",
              "      <td>4</td>\n",
              "      <td>119.0</td>\n",
              "      <td>...</td>\n",
              "      <td>82</td>\n",
              "      <td>1</td>\n",
              "      <td>chevy s-10</td>\n",
              "    </tr>\n",
              "  </tbody>\n",
              "</table>\n",
              "<p>398 rows × 9 columns</p>\n",
              "</div>"
            ],
            "text/plain": [
              "      mpg  cylinders  displacement  ...  year  origin  \\\n",
              "0    18.0          8         307.0  ...    70       1   \n",
              "1    15.0          8         350.0  ...    70       1   \n",
              "..    ...        ...           ...  ...   ...     ...   \n",
              "396  28.0          4         120.0  ...    82       1   \n",
              "397  31.0          4         119.0  ...    82       1   \n",
              "\n",
              "                          name  \n",
              "0    chevrolet chevelle malibu  \n",
              "1            buick skylark 320  \n",
              "..                         ...  \n",
              "396                ford ranger  \n",
              "397                 chevy s-10  \n",
              "\n",
              "[398 rows x 9 columns]"
            ]
          },
          "metadata": {
            "tags": []
          }
        },
        {
          "output_type": "display_data",
          "data": {
            "text/html": [
              "<div>\n",
              "<style scoped>\n",
              "    .dataframe tbody tr th:only-of-type {\n",
              "        vertical-align: middle;\n",
              "    }\n",
              "\n",
              "    .dataframe tbody tr th {\n",
              "        vertical-align: top;\n",
              "    }\n",
              "\n",
              "    .dataframe thead th {\n",
              "        text-align: right;\n",
              "    }\n",
              "</style>\n",
              "<table border=\"1\" class=\"dataframe\">\n",
              "  <thead>\n",
              "    <tr style=\"text-align: right;\">\n",
              "      <th></th>\n",
              "      <th>mpg</th>\n",
              "      <th>cylinders</th>\n",
              "      <th>displacement</th>\n",
              "      <th>...</th>\n",
              "      <th>year</th>\n",
              "      <th>origin</th>\n",
              "      <th>name</th>\n",
              "    </tr>\n",
              "  </thead>\n",
              "  <tbody>\n",
              "    <tr>\n",
              "      <th>0</th>\n",
              "      <td>-0.706439</td>\n",
              "      <td>8</td>\n",
              "      <td>307.0</td>\n",
              "      <td>...</td>\n",
              "      <td>70</td>\n",
              "      <td>1</td>\n",
              "      <td>chevrolet chevelle malibu</td>\n",
              "    </tr>\n",
              "    <tr>\n",
              "      <th>1</th>\n",
              "      <td>-1.090751</td>\n",
              "      <td>8</td>\n",
              "      <td>350.0</td>\n",
              "      <td>...</td>\n",
              "      <td>70</td>\n",
              "      <td>1</td>\n",
              "      <td>buick skylark 320</td>\n",
              "    </tr>\n",
              "    <tr>\n",
              "      <th>...</th>\n",
              "      <td>...</td>\n",
              "      <td>...</td>\n",
              "      <td>...</td>\n",
              "      <td>...</td>\n",
              "      <td>...</td>\n",
              "      <td>...</td>\n",
              "      <td>...</td>\n",
              "    </tr>\n",
              "    <tr>\n",
              "      <th>396</th>\n",
              "      <td>0.574601</td>\n",
              "      <td>4</td>\n",
              "      <td>120.0</td>\n",
              "      <td>...</td>\n",
              "      <td>82</td>\n",
              "      <td>1</td>\n",
              "      <td>ford ranger</td>\n",
              "    </tr>\n",
              "    <tr>\n",
              "      <th>397</th>\n",
              "      <td>0.958913</td>\n",
              "      <td>4</td>\n",
              "      <td>119.0</td>\n",
              "      <td>...</td>\n",
              "      <td>82</td>\n",
              "      <td>1</td>\n",
              "      <td>chevy s-10</td>\n",
              "    </tr>\n",
              "  </tbody>\n",
              "</table>\n",
              "<p>398 rows × 9 columns</p>\n",
              "</div>"
            ],
            "text/plain": [
              "          mpg  cylinders  displacement  ...  year  origin  \\\n",
              "0   -0.706439          8         307.0  ...    70       1   \n",
              "1   -1.090751          8         350.0  ...    70       1   \n",
              "..        ...        ...           ...  ...   ...     ...   \n",
              "396  0.574601          4         120.0  ...    82       1   \n",
              "397  0.958913          4         119.0  ...    82       1   \n",
              "\n",
              "                          name  \n",
              "0    chevrolet chevelle malibu  \n",
              "1            buick skylark 320  \n",
              "..                         ...  \n",
              "396                ford ranger  \n",
              "397                 chevy s-10  \n",
              "\n",
              "[398 rows x 9 columns]"
            ]
          },
          "metadata": {
            "tags": []
          }
        }
      ]
    },
    {
      "cell_type": "markdown",
      "metadata": {
        "id": "c-Fkkpru9odr"
      },
      "source": [
        "## 2. 编码分类值--->伪变量\n",
        "传统的分类值编码方法是将分类值设为虚拟变量。这种技术也称为单热编码(one-hot-encoding)。考虑以下数据集。\n",
        "\n"
      ]
    },
    {
      "cell_type": "code",
      "metadata": {
        "id": "iJblhF579S1i",
        "outputId": "eddc952b-7d72-4a62-80a8-a4c3050cd4c2",
        "colab": {
          "base_uri": "https://localhost:8080/",
          "height": 224
        }
      },
      "source": [
        "import pandas as pd\n",
        "\n",
        "df = pd.read_csv(\n",
        "    \"https://data.heatonresearch.com/data/t81-558/jh-simple-dataset.csv\",\n",
        "    na_values=['NA','?'])\n",
        "\n",
        "pd.set_option('display.max_columns', 7)\n",
        "pd.set_option('display.max_rows', 5)\n",
        "\n",
        "display(df)"
      ],
      "execution_count": null,
      "outputs": [
        {
          "output_type": "display_data",
          "data": {
            "text/html": [
              "<div>\n",
              "<style scoped>\n",
              "    .dataframe tbody tr th:only-of-type {\n",
              "        vertical-align: middle;\n",
              "    }\n",
              "\n",
              "    .dataframe tbody tr th {\n",
              "        vertical-align: top;\n",
              "    }\n",
              "\n",
              "    .dataframe thead th {\n",
              "        text-align: right;\n",
              "    }\n",
              "</style>\n",
              "<table border=\"1\" class=\"dataframe\">\n",
              "  <thead>\n",
              "    <tr style=\"text-align: right;\">\n",
              "      <th></th>\n",
              "      <th>id</th>\n",
              "      <th>job</th>\n",
              "      <th>area</th>\n",
              "      <th>...</th>\n",
              "      <th>retail_dense</th>\n",
              "      <th>crime</th>\n",
              "      <th>product</th>\n",
              "    </tr>\n",
              "  </thead>\n",
              "  <tbody>\n",
              "    <tr>\n",
              "      <th>0</th>\n",
              "      <td>1</td>\n",
              "      <td>vv</td>\n",
              "      <td>c</td>\n",
              "      <td>...</td>\n",
              "      <td>0.492126</td>\n",
              "      <td>0.071100</td>\n",
              "      <td>b</td>\n",
              "    </tr>\n",
              "    <tr>\n",
              "      <th>1</th>\n",
              "      <td>2</td>\n",
              "      <td>kd</td>\n",
              "      <td>c</td>\n",
              "      <td>...</td>\n",
              "      <td>0.342520</td>\n",
              "      <td>0.400809</td>\n",
              "      <td>c</td>\n",
              "    </tr>\n",
              "    <tr>\n",
              "      <th>...</th>\n",
              "      <td>...</td>\n",
              "      <td>...</td>\n",
              "      <td>...</td>\n",
              "      <td>...</td>\n",
              "      <td>...</td>\n",
              "      <td>...</td>\n",
              "      <td>...</td>\n",
              "    </tr>\n",
              "    <tr>\n",
              "      <th>1998</th>\n",
              "      <td>1999</td>\n",
              "      <td>qp</td>\n",
              "      <td>c</td>\n",
              "      <td>...</td>\n",
              "      <td>0.598425</td>\n",
              "      <td>0.117803</td>\n",
              "      <td>c</td>\n",
              "    </tr>\n",
              "    <tr>\n",
              "      <th>1999</th>\n",
              "      <td>2000</td>\n",
              "      <td>pe</td>\n",
              "      <td>c</td>\n",
              "      <td>...</td>\n",
              "      <td>0.539370</td>\n",
              "      <td>0.451973</td>\n",
              "      <td>c</td>\n",
              "    </tr>\n",
              "  </tbody>\n",
              "</table>\n",
              "<p>2000 rows × 14 columns</p>\n",
              "</div>"
            ],
            "text/plain": [
              "        id job area  ...  retail_dense     crime  product\n",
              "0        1  vv    c  ...      0.492126  0.071100        b\n",
              "1        2  kd    c  ...      0.342520  0.400809        c\n",
              "...    ...  ..  ...  ...           ...       ...      ...\n",
              "1998  1999  qp    c  ...      0.598425  0.117803        c\n",
              "1999  2000  pe    c  ...      0.539370  0.451973        c\n",
              "\n",
              "[2000 rows x 14 columns]"
            ]
          },
          "metadata": {
            "tags": []
          }
        }
      ]
    },
    {
      "cell_type": "code",
      "metadata": {
        "id": "4URhF4f3-PG5",
        "outputId": "749a88e1-adff-47d8-ff55-7f0fb10aebfb",
        "colab": {
          "base_uri": "https://localhost:8080/",
          "height": 50
        }
      },
      "source": [
        "areas = list(df['area'].unique())\n",
        "print(f'Number of areas : {len(areas)}')\n",
        "print(f\"Areas : {areas}\")"
      ],
      "execution_count": null,
      "outputs": [
        {
          "output_type": "stream",
          "text": [
            "Number of areas : 4\n",
            "Areas : ['c', 'd', 'a', 'b']\n"
          ],
          "name": "stdout"
        }
      ]
    },
    {
      "cell_type": "markdown",
      "metadata": {
        "id": "vN0y9Rn-_QoQ"
      },
      "source": [
        "在areas列中有四个惟一的值。为了将这些编码为虚拟变量，我们将使用四列，每列将代表一个区域。对于每一行，一列的值为1，其余为0。由于这个原因，这种类型的编码有时被称为单热编码。下面的代码展示了如何对值“a”到“d”进行编码。值A变成[1,0,0,0]，值B变成[0,1,0,0]。"
      ]
    },
    {
      "cell_type": "code",
      "metadata": {
        "id": "jG3bn4wB-shA",
        "outputId": "83785aba-9bfa-4f24-9757-64c4e52943b0",
        "colab": {
          "base_uri": "https://localhost:8080/",
          "height": 101
        }
      },
      "source": [
        "dummies = pd.get_dummies(['a','b','c','d'],prefix='area')\n",
        "print(dummies)"
      ],
      "execution_count": null,
      "outputs": [
        {
          "output_type": "stream",
          "text": [
            "   area_a  area_b  area_c  area_d\n",
            "0       1       0       0       0\n",
            "1       0       1       0       0\n",
            "2       0       0       1       0\n",
            "3       0       0       0       1\n"
          ],
          "name": "stdout"
        }
      ]
    },
    {
      "cell_type": "code",
      "metadata": {
        "id": "SLnLuGxZ_dt4",
        "outputId": "9defefbe-3d11-4b42-ccd3-04e2ecae6ec6",
        "colab": {
          "base_uri": "https://localhost:8080/",
          "height": 151
        }
      },
      "source": [
        "dummies = pd.get_dummies(df['area'],prefix='area')\n",
        "print(dummies[:12])"
      ],
      "execution_count": null,
      "outputs": [
        {
          "output_type": "stream",
          "text": [
            "    area_a  area_b  area_c  area_d\n",
            "0        0       0       1       0\n",
            "1        0       0       1       0\n",
            "..     ...     ...     ...     ...\n",
            "10       1       0       0       0\n",
            "11       0       0       1       0\n",
            "\n",
            "[12 rows x 4 columns]\n"
          ],
          "name": "stdout"
        }
      ]
    },
    {
      "cell_type": "markdown",
      "metadata": {
        "id": "i-syI-sLASZj"
      },
      "source": [
        "为了对“区域”列进行编码，我们使用以下代码。 \n",
        "\n",
        "**注**：有必要将这些虚拟变量合并回数据帧。"
      ]
    },
    {
      "cell_type": "code",
      "metadata": {
        "id": "uOLldk3Z_8-I",
        "outputId": "aa7afc3b-3e8b-47e7-8332-f484b2a39e8a",
        "colab": {
          "base_uri": "https://localhost:8080/",
          "height": 402
        }
      },
      "source": [
        "df = pd.concat([df,dummies],axis=1)\n",
        "pd.set_option('display.max_columns', 0)\n",
        "pd.set_option('display.max_rows', 10)\n",
        "\n",
        "display(df[['id','job','area','income','area_a','area_b','area_c','area_d']])"
      ],
      "execution_count": null,
      "outputs": [
        {
          "output_type": "display_data",
          "data": {
            "text/html": [
              "<div>\n",
              "<style scoped>\n",
              "    .dataframe tbody tr th:only-of-type {\n",
              "        vertical-align: middle;\n",
              "    }\n",
              "\n",
              "    .dataframe tbody tr th {\n",
              "        vertical-align: top;\n",
              "    }\n",
              "\n",
              "    .dataframe thead th {\n",
              "        text-align: right;\n",
              "    }\n",
              "</style>\n",
              "<table border=\"1\" class=\"dataframe\">\n",
              "  <thead>\n",
              "    <tr style=\"text-align: right;\">\n",
              "      <th></th>\n",
              "      <th>id</th>\n",
              "      <th>job</th>\n",
              "      <th>area</th>\n",
              "      <th>income</th>\n",
              "      <th>area_a</th>\n",
              "      <th>area_b</th>\n",
              "      <th>area_c</th>\n",
              "      <th>area_d</th>\n",
              "    </tr>\n",
              "  </thead>\n",
              "  <tbody>\n",
              "    <tr>\n",
              "      <th>0</th>\n",
              "      <td>1</td>\n",
              "      <td>vv</td>\n",
              "      <td>c</td>\n",
              "      <td>50876.0</td>\n",
              "      <td>0</td>\n",
              "      <td>0</td>\n",
              "      <td>1</td>\n",
              "      <td>0</td>\n",
              "    </tr>\n",
              "    <tr>\n",
              "      <th>1</th>\n",
              "      <td>2</td>\n",
              "      <td>kd</td>\n",
              "      <td>c</td>\n",
              "      <td>60369.0</td>\n",
              "      <td>0</td>\n",
              "      <td>0</td>\n",
              "      <td>1</td>\n",
              "      <td>0</td>\n",
              "    </tr>\n",
              "    <tr>\n",
              "      <th>2</th>\n",
              "      <td>3</td>\n",
              "      <td>pe</td>\n",
              "      <td>c</td>\n",
              "      <td>55126.0</td>\n",
              "      <td>0</td>\n",
              "      <td>0</td>\n",
              "      <td>1</td>\n",
              "      <td>0</td>\n",
              "    </tr>\n",
              "    <tr>\n",
              "      <th>3</th>\n",
              "      <td>4</td>\n",
              "      <td>11</td>\n",
              "      <td>c</td>\n",
              "      <td>51690.0</td>\n",
              "      <td>0</td>\n",
              "      <td>0</td>\n",
              "      <td>1</td>\n",
              "      <td>0</td>\n",
              "    </tr>\n",
              "    <tr>\n",
              "      <th>4</th>\n",
              "      <td>5</td>\n",
              "      <td>kl</td>\n",
              "      <td>d</td>\n",
              "      <td>28347.0</td>\n",
              "      <td>0</td>\n",
              "      <td>0</td>\n",
              "      <td>0</td>\n",
              "      <td>1</td>\n",
              "    </tr>\n",
              "    <tr>\n",
              "      <th>...</th>\n",
              "      <td>...</td>\n",
              "      <td>...</td>\n",
              "      <td>...</td>\n",
              "      <td>...</td>\n",
              "      <td>...</td>\n",
              "      <td>...</td>\n",
              "      <td>...</td>\n",
              "      <td>...</td>\n",
              "    </tr>\n",
              "    <tr>\n",
              "      <th>1995</th>\n",
              "      <td>1996</td>\n",
              "      <td>vv</td>\n",
              "      <td>c</td>\n",
              "      <td>51017.0</td>\n",
              "      <td>0</td>\n",
              "      <td>0</td>\n",
              "      <td>1</td>\n",
              "      <td>0</td>\n",
              "    </tr>\n",
              "    <tr>\n",
              "      <th>1996</th>\n",
              "      <td>1997</td>\n",
              "      <td>kl</td>\n",
              "      <td>d</td>\n",
              "      <td>26576.0</td>\n",
              "      <td>0</td>\n",
              "      <td>0</td>\n",
              "      <td>0</td>\n",
              "      <td>1</td>\n",
              "    </tr>\n",
              "    <tr>\n",
              "      <th>1997</th>\n",
              "      <td>1998</td>\n",
              "      <td>kl</td>\n",
              "      <td>d</td>\n",
              "      <td>28595.0</td>\n",
              "      <td>0</td>\n",
              "      <td>0</td>\n",
              "      <td>0</td>\n",
              "      <td>1</td>\n",
              "    </tr>\n",
              "    <tr>\n",
              "      <th>1998</th>\n",
              "      <td>1999</td>\n",
              "      <td>qp</td>\n",
              "      <td>c</td>\n",
              "      <td>67949.0</td>\n",
              "      <td>0</td>\n",
              "      <td>0</td>\n",
              "      <td>1</td>\n",
              "      <td>0</td>\n",
              "    </tr>\n",
              "    <tr>\n",
              "      <th>1999</th>\n",
              "      <td>2000</td>\n",
              "      <td>pe</td>\n",
              "      <td>c</td>\n",
              "      <td>61467.0</td>\n",
              "      <td>0</td>\n",
              "      <td>0</td>\n",
              "      <td>1</td>\n",
              "      <td>0</td>\n",
              "    </tr>\n",
              "  </tbody>\n",
              "</table>\n",
              "<p>2000 rows × 8 columns</p>\n",
              "</div>"
            ],
            "text/plain": [
              "        id job area   income  area_a  area_b  area_c  area_d\n",
              "0        1  vv    c  50876.0       0       0       1       0\n",
              "1        2  kd    c  60369.0       0       0       1       0\n",
              "2        3  pe    c  55126.0       0       0       1       0\n",
              "3        4  11    c  51690.0       0       0       1       0\n",
              "4        5  kl    d  28347.0       0       0       0       1\n",
              "...    ...  ..  ...      ...     ...     ...     ...     ...\n",
              "1995  1996  vv    c  51017.0       0       0       1       0\n",
              "1996  1997  kl    d  26576.0       0       0       0       1\n",
              "1997  1998  kl    d  28595.0       0       0       0       1\n",
              "1998  1999  qp    c  67949.0       0       0       1       0\n",
              "1999  2000  pe    c  61467.0       0       0       1       0\n",
              "\n",
              "[2000 rows x 8 columns]"
            ]
          },
          "metadata": {
            "tags": []
          }
        }
      ]
    },
    {
      "cell_type": "markdown",
      "metadata": {
        "id": "IZz_mr1fA9M3"
      },
      "source": [
        "通常，将删除原始列('area')，因为它的目标是让神经网络的数据帧完全是数字的。"
      ]
    },
    {
      "cell_type": "code",
      "metadata": {
        "id": "NJqK-WXaA05P",
        "outputId": "91dbb27b-edba-4ba7-b0d4-f8134d8b97b2",
        "colab": {
          "base_uri": "https://localhost:8080/",
          "height": 151
        }
      },
      "source": [
        "pd.set_option('display.max_columns', 0)\n",
        "pd.set_option('display.max_rows', 5)\n",
        "\n",
        "# inplace=True，使其作用到原Data Frame\n",
        "df.drop('area',axis=1,inplace=True)\n",
        "print(df)"
      ],
      "execution_count": null,
      "outputs": [
        {
          "output_type": "stream",
          "text": [
            "        id job   income     aspect  ...  area_a  area_b  area_c  area_d\n",
            "0        1  vv  50876.0  13.100000  ...       0       0       1       0\n",
            "1        2  kd  60369.0  18.625000  ...       0       0       1       0\n",
            "...    ...  ..      ...        ...  ...     ...     ...     ...     ...\n",
            "1998  1999  qp  67949.0   5.733333  ...       0       0       1       0\n",
            "1999  2000  pe  61467.0  16.891667  ...       0       0       1       0\n",
            "\n",
            "[2000 rows x 17 columns]\n"
          ],
          "name": "stdout"
        }
      ]
    },
    {
      "cell_type": "markdown",
      "metadata": {
        "id": "91TkvQDfCD5h"
      },
      "source": [
        "## 3. 编码分类值-->目标编码\n",
        "目标编码有时可以增加机器学习模型的预测能力。然而，它也极大地增加了过拟合的风险。\n",
        "因为目标编码是根据目标值来重新赋予训练值，所以很容易出现过拟合。\n",
        "\n",
        "由于这种风险，您在使用这种方法时必须小心。目标编码是Kaggle比赛中流行的一种技术。\n",
        "\n",
        "通常，仅当机器学习模型的输出为数字（回归）时，目标编码只能用于分类特征。\n",
        "\n",
        "目标编码的概念很简单。 对于每个类别，我们计算该类别的平均目标价值。 然后进行编码，我们替换与分类值具有的类别相对应的百分比。 与伪变量不同，在伪变量中，每个类别都有一列，使用目标编码，程序仅需要一列。 这样，目标编码比伪变量更有效"
      ]
    },
    {
      "cell_type": "code",
      "metadata": {
        "id": "hu9cWO1MBOEQ",
        "outputId": "5e56347e-e85a-415d-f654-77712498d78c",
        "colab": {
          "base_uri": "https://localhost:8080/",
          "height": 343
        }
      },
      "source": [
        "# Create a small sample dataset\n",
        "import pandas as pd\n",
        "import numpy as np\n",
        "\n",
        "np.random.seed(43)\n",
        "df = pd.DataFrame({\n",
        "    'cont_9':np.random.rand(10)*100,\n",
        "    'cat_0':['dog']*5 + ['cat']*5,\n",
        "    'cat_1':['wolf']*9 + ['tiger']*1,\n",
        "    'y':[1,0,1,1,1,1,0,0,0,0]\n",
        "})\n",
        "pd.set_option('display.max_columns',0)\n",
        "pd.set_option('display.max_rows',0)\n",
        "display(df)"
      ],
      "execution_count": null,
      "outputs": [
        {
          "output_type": "display_data",
          "data": {
            "text/html": [
              "<div>\n",
              "<style scoped>\n",
              "    .dataframe tbody tr th:only-of-type {\n",
              "        vertical-align: middle;\n",
              "    }\n",
              "\n",
              "    .dataframe tbody tr th {\n",
              "        vertical-align: top;\n",
              "    }\n",
              "\n",
              "    .dataframe thead th {\n",
              "        text-align: right;\n",
              "    }\n",
              "</style>\n",
              "<table border=\"1\" class=\"dataframe\">\n",
              "  <thead>\n",
              "    <tr style=\"text-align: right;\">\n",
              "      <th></th>\n",
              "      <th>cont_9</th>\n",
              "      <th>cat_0</th>\n",
              "      <th>cat_1</th>\n",
              "      <th>y</th>\n",
              "    </tr>\n",
              "  </thead>\n",
              "  <tbody>\n",
              "    <tr>\n",
              "      <th>0</th>\n",
              "      <td>11.505457</td>\n",
              "      <td>dog</td>\n",
              "      <td>wolf</td>\n",
              "      <td>1</td>\n",
              "    </tr>\n",
              "    <tr>\n",
              "      <th>1</th>\n",
              "      <td>60.906654</td>\n",
              "      <td>dog</td>\n",
              "      <td>wolf</td>\n",
              "      <td>0</td>\n",
              "    </tr>\n",
              "    <tr>\n",
              "      <th>2</th>\n",
              "      <td>13.339096</td>\n",
              "      <td>dog</td>\n",
              "      <td>wolf</td>\n",
              "      <td>1</td>\n",
              "    </tr>\n",
              "    <tr>\n",
              "      <th>3</th>\n",
              "      <td>24.058962</td>\n",
              "      <td>dog</td>\n",
              "      <td>wolf</td>\n",
              "      <td>1</td>\n",
              "    </tr>\n",
              "    <tr>\n",
              "      <th>4</th>\n",
              "      <td>32.713906</td>\n",
              "      <td>dog</td>\n",
              "      <td>wolf</td>\n",
              "      <td>1</td>\n",
              "    </tr>\n",
              "    <tr>\n",
              "      <th>5</th>\n",
              "      <td>85.913749</td>\n",
              "      <td>cat</td>\n",
              "      <td>wolf</td>\n",
              "      <td>1</td>\n",
              "    </tr>\n",
              "    <tr>\n",
              "      <th>6</th>\n",
              "      <td>66.609021</td>\n",
              "      <td>cat</td>\n",
              "      <td>wolf</td>\n",
              "      <td>0</td>\n",
              "    </tr>\n",
              "    <tr>\n",
              "      <th>7</th>\n",
              "      <td>54.116221</td>\n",
              "      <td>cat</td>\n",
              "      <td>wolf</td>\n",
              "      <td>0</td>\n",
              "    </tr>\n",
              "    <tr>\n",
              "      <th>8</th>\n",
              "      <td>2.901382</td>\n",
              "      <td>cat</td>\n",
              "      <td>wolf</td>\n",
              "      <td>0</td>\n",
              "    </tr>\n",
              "    <tr>\n",
              "      <th>9</th>\n",
              "      <td>73.374830</td>\n",
              "      <td>cat</td>\n",
              "      <td>tiger</td>\n",
              "      <td>0</td>\n",
              "    </tr>\n",
              "  </tbody>\n",
              "</table>\n",
              "</div>"
            ],
            "text/plain": [
              "      cont_9 cat_0  cat_1  y\n",
              "0  11.505457   dog   wolf  1\n",
              "1  60.906654   dog   wolf  0\n",
              "2  13.339096   dog   wolf  1\n",
              "3  24.058962   dog   wolf  1\n",
              "4  32.713906   dog   wolf  1\n",
              "5  85.913749   cat   wolf  1\n",
              "6  66.609021   cat   wolf  0\n",
              "7  54.116221   cat   wolf  0\n",
              "8   2.901382   cat   wolf  0\n",
              "9  73.374830   cat  tiger  0"
            ]
          },
          "metadata": {
            "tags": []
          }
        }
      ]
    },
    {
      "cell_type": "markdown",
      "metadata": {
        "id": "LEK9poBbOEdB"
      },
      "source": [
        "与为“狗”和“猫”创建虚拟变量不同，我们希望将其更改为一个数字。我们可以用0表示猫，1表示狗。然而，我们可以编码更多的信息。简单的0或1也只适用于一种动物。考虑一下猫和狗的平均目标值是多少。"
      ]
    },
    {
      "cell_type": "code",
      "metadata": {
        "id": "1NkbxKKUDs-o",
        "outputId": "5939aca9-6fad-4358-93e5-6c4bbbf44412",
        "colab": {
          "base_uri": "https://localhost:8080/",
          "height": 118
        }
      },
      "source": [
        "print(type(df.groupby('cat_0')['y'].mean()))\n",
        "print(df.groupby('cat_0')['y'].mean())\n",
        "\n",
        "# 按照'cat_0'列进行分组，然后计算每个组中以'y'为值的平均值，最后将其转换为字典\n",
        "means0 = df.groupby('cat_0')['y'].mean().to_dict()\n",
        "print(means0)"
      ],
      "execution_count": null,
      "outputs": [
        {
          "output_type": "stream",
          "text": [
            "<class 'pandas.core.series.Series'>\n",
            "cat_0\n",
            "cat    0.2\n",
            "dog    0.8\n",
            "Name: y, dtype: float64\n",
            "{'cat': 0.2, 'dog': 0.8}\n"
          ],
          "name": "stdout"
        }
      ]
    },
    {
      "cell_type": "markdown",
      "metadata": {
        "id": "5UlnNKqJPgNr"
      },
      "source": [
        "如果我们现在正在使用目标值进行训练。则此技术可能会导致过度拟合。 如果特定类别的数量很少，则过度拟合的可能性甚至更大。 为了防止这种情况的发生，我们使用加权因子。 权重越强，具有较少数量值的类别将多于y的总体平均值。 您可以按以下方式执行此计算。"
      ]
    },
    {
      "cell_type": "code",
      "metadata": {
        "id": "RloN1gQiOwm3",
        "outputId": "71b09cce-b643-410f-a090-d29d6f05d69e",
        "colab": {
          "base_uri": "https://localhost:8080/",
          "height": 34
        }
      },
      "source": [
        "df['y'].mean()"
      ],
      "execution_count": null,
      "outputs": [
        {
          "output_type": "execute_result",
          "data": {
            "text/plain": [
              "0.5"
            ]
          },
          "metadata": {
            "tags": []
          },
          "execution_count": 23
        }
      ]
    },
    {
      "cell_type": "markdown",
      "metadata": {
        "id": "bnF7n8dOPv_v"
      },
      "source": [
        "您可以按照以下方式实现目标编码。有关目标编码的更多信息，请参考文章[ \"Target Encoding Done the Right Way\"]()，这段代码就是基于这篇文章编写的。"
      ]
    },
    {
      "cell_type": "code",
      "metadata": {
        "id": "wW8JALViPpTx"
      },
      "source": [
        "def calc_smooth_mean(df1,df2,cat_name,target,weight):\n",
        "  # 计算全部的平均值\n",
        "  mean = df1[target].mean()\n",
        "\n",
        "  # 计算cat_name组的target的数目和平均值\n",
        "  # print(\"XXX\")\n",
        "  agg = df1.groupby(cat_name)[target].agg(['count','mean'])\n",
        "  counts = agg['count']\n",
        "  means = agg['mean']\n",
        "\n",
        "  # 计算平滑均值\n",
        "  smooth = (counts*means + weight*mean)/(counts+weight)\n",
        "\n",
        "  # 将cat_name的值替换为smooth\n",
        "  if df2 is None:\n",
        "    return df1[cat_name].map(smooth)\n",
        "  else:\n",
        "    return df1[cat_name].map(smooth),df2[cat_name].map(smooth.to_dict())\n"
      ],
      "execution_count": null,
      "outputs": []
    },
    {
      "cell_type": "markdown",
      "metadata": {
        "id": "lwYXcp8-Sulr"
      },
      "source": [
        "以下代码对两个类别进行编码："
      ]
    },
    {
      "cell_type": "code",
      "metadata": {
        "id": "zXr9lLz7SrPN",
        "outputId": "53dd2623-0694-4bfa-c7d1-b38e83e8eb3b",
        "colab": {
          "base_uri": "https://localhost:8080/",
          "height": 528
        }
      },
      "source": [
        "WEIGHT= 5\n",
        "print(df)\n",
        "df['cat_0_enc'] = calc_smooth_mean(df1=df,df2=None,cat_name='cat_0',target='y',weight=WEIGHT)\n",
        "\n",
        "df['cat_1_enc'] = calc_smooth_mean(df1=df,df2=None,cat_name='cat_1',target='y',weight=WEIGHT)\n",
        "\n",
        "pd.set_option('display.max_columns',0)\n",
        "pd.set_option('display.max_rows',0)\n",
        "\n",
        "display(df)"
      ],
      "execution_count": null,
      "outputs": [
        {
          "output_type": "stream",
          "text": [
            "      cont_9 cat_0  cat_1  y\n",
            "0  11.505457   dog   wolf  1\n",
            "1  60.906654   dog   wolf  0\n",
            "2  13.339096   dog   wolf  1\n",
            "3  24.058962   dog   wolf  1\n",
            "4  32.713906   dog   wolf  1\n",
            "5  85.913749   cat   wolf  1\n",
            "6  66.609021   cat   wolf  0\n",
            "7  54.116221   cat   wolf  0\n",
            "8   2.901382   cat   wolf  0\n",
            "9  73.374830   cat  tiger  0\n"
          ],
          "name": "stdout"
        },
        {
          "output_type": "display_data",
          "data": {
            "text/html": [
              "<div>\n",
              "<style scoped>\n",
              "    .dataframe tbody tr th:only-of-type {\n",
              "        vertical-align: middle;\n",
              "    }\n",
              "\n",
              "    .dataframe tbody tr th {\n",
              "        vertical-align: top;\n",
              "    }\n",
              "\n",
              "    .dataframe thead th {\n",
              "        text-align: right;\n",
              "    }\n",
              "</style>\n",
              "<table border=\"1\" class=\"dataframe\">\n",
              "  <thead>\n",
              "    <tr style=\"text-align: right;\">\n",
              "      <th></th>\n",
              "      <th>cont_9</th>\n",
              "      <th>cat_0</th>\n",
              "      <th>cat_1</th>\n",
              "      <th>y</th>\n",
              "      <th>cat_0_enc</th>\n",
              "      <th>cat_1_enc</th>\n",
              "    </tr>\n",
              "  </thead>\n",
              "  <tbody>\n",
              "    <tr>\n",
              "      <th>0</th>\n",
              "      <td>11.505457</td>\n",
              "      <td>dog</td>\n",
              "      <td>wolf</td>\n",
              "      <td>1</td>\n",
              "      <td>0.65</td>\n",
              "      <td>0.535714</td>\n",
              "    </tr>\n",
              "    <tr>\n",
              "      <th>1</th>\n",
              "      <td>60.906654</td>\n",
              "      <td>dog</td>\n",
              "      <td>wolf</td>\n",
              "      <td>0</td>\n",
              "      <td>0.65</td>\n",
              "      <td>0.535714</td>\n",
              "    </tr>\n",
              "    <tr>\n",
              "      <th>2</th>\n",
              "      <td>13.339096</td>\n",
              "      <td>dog</td>\n",
              "      <td>wolf</td>\n",
              "      <td>1</td>\n",
              "      <td>0.65</td>\n",
              "      <td>0.535714</td>\n",
              "    </tr>\n",
              "    <tr>\n",
              "      <th>3</th>\n",
              "      <td>24.058962</td>\n",
              "      <td>dog</td>\n",
              "      <td>wolf</td>\n",
              "      <td>1</td>\n",
              "      <td>0.65</td>\n",
              "      <td>0.535714</td>\n",
              "    </tr>\n",
              "    <tr>\n",
              "      <th>4</th>\n",
              "      <td>32.713906</td>\n",
              "      <td>dog</td>\n",
              "      <td>wolf</td>\n",
              "      <td>1</td>\n",
              "      <td>0.65</td>\n",
              "      <td>0.535714</td>\n",
              "    </tr>\n",
              "    <tr>\n",
              "      <th>5</th>\n",
              "      <td>85.913749</td>\n",
              "      <td>cat</td>\n",
              "      <td>wolf</td>\n",
              "      <td>1</td>\n",
              "      <td>0.35</td>\n",
              "      <td>0.535714</td>\n",
              "    </tr>\n",
              "    <tr>\n",
              "      <th>6</th>\n",
              "      <td>66.609021</td>\n",
              "      <td>cat</td>\n",
              "      <td>wolf</td>\n",
              "      <td>0</td>\n",
              "      <td>0.35</td>\n",
              "      <td>0.535714</td>\n",
              "    </tr>\n",
              "    <tr>\n",
              "      <th>7</th>\n",
              "      <td>54.116221</td>\n",
              "      <td>cat</td>\n",
              "      <td>wolf</td>\n",
              "      <td>0</td>\n",
              "      <td>0.35</td>\n",
              "      <td>0.535714</td>\n",
              "    </tr>\n",
              "    <tr>\n",
              "      <th>8</th>\n",
              "      <td>2.901382</td>\n",
              "      <td>cat</td>\n",
              "      <td>wolf</td>\n",
              "      <td>0</td>\n",
              "      <td>0.35</td>\n",
              "      <td>0.535714</td>\n",
              "    </tr>\n",
              "    <tr>\n",
              "      <th>9</th>\n",
              "      <td>73.374830</td>\n",
              "      <td>cat</td>\n",
              "      <td>tiger</td>\n",
              "      <td>0</td>\n",
              "      <td>0.35</td>\n",
              "      <td>0.416667</td>\n",
              "    </tr>\n",
              "  </tbody>\n",
              "</table>\n",
              "</div>"
            ],
            "text/plain": [
              "      cont_9 cat_0  cat_1  y  cat_0_enc  cat_1_enc\n",
              "0  11.505457   dog   wolf  1       0.65   0.535714\n",
              "1  60.906654   dog   wolf  0       0.65   0.535714\n",
              "2  13.339096   dog   wolf  1       0.65   0.535714\n",
              "3  24.058962   dog   wolf  1       0.65   0.535714\n",
              "4  32.713906   dog   wolf  1       0.65   0.535714\n",
              "5  85.913749   cat   wolf  1       0.35   0.535714\n",
              "6  66.609021   cat   wolf  0       0.35   0.535714\n",
              "7  54.116221   cat   wolf  0       0.35   0.535714\n",
              "8   2.901382   cat   wolf  0       0.35   0.535714\n",
              "9  73.374830   cat  tiger  0       0.35   0.416667"
            ]
          },
          "metadata": {
            "tags": []
          }
        }
      ]
    },
    {
      "cell_type": "markdown",
      "metadata": {
        "id": "agWQ64_qUAbw"
      },
      "source": [
        "## 4. 编码分类值作为顺序值\n",
        "通常，分类将被编码为伪变量。 但是，可能存在其他将类别转换为数字的技术。 只要有分类的顺序，就应该使用数字。 考虑一下您是否有描述个人当前教育水平的分类：\n",
        "* 幼稚园（0）\n",
        "* 一年级（1）\n",
        "* 二年级（2）\n",
        "* 三年级（3）\n",
        "* 四年级（4）\n",
        "* 五年级（5）\n",
        "* 六年级（6）\n",
        "* 七年级（7）\n",
        "* 八年级（8）\n",
        "* 高中新生（9）\n",
        "* 高二（10）\n",
        "* 高中生（11）\n",
        "* 高中生（12）\n",
        "* 大学新生（13）\n",
        "* 大学二年级（14）\n",
        "* 大三（15）\n",
        "* 大四（16）\n",
        "* 研究生（17）\n",
        "* 博士候选人（18）\n",
        "* 博士学位（19）\n",
        "* 博士学位后（20）\n",
        "\n",
        "上面的列表有21个级别。 这将需要21个虚拟变量。 但是，仅将其编码为虚拟变量将丢失顺序信息。 也许最简单的方法是给它们简单地编号，并为类别分配一个与上面括号中的值相等的数字。 但是，我们也许可以做得更好。 研究生可能需要一年以上的时间，因此您可能不仅增加一个值。"
      ]
    },
    {
      "cell_type": "code",
      "metadata": {
        "id": "TW_BZe5LS01h"
      },
      "source": [
        ""
      ],
      "execution_count": null,
      "outputs": []
    }
  ]
}