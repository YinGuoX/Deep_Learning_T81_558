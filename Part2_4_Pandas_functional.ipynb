{
  "nbformat": 4,
  "nbformat_minor": 0,
  "metadata": {
    "colab": {
      "name": "Part2.4_Pandas_functional.ipynb",
      "provenance": [],
      "collapsed_sections": [],
      "authorship_tag": "ABX9TyMcW6Msi/p4UnMkCLn1Cd64",
      "include_colab_link": true
    },
    "kernelspec": {
      "name": "python3",
      "display_name": "Python 3"
    }
  },
  "cells": [
    {
      "cell_type": "markdown",
      "metadata": {
        "id": "view-in-github",
        "colab_type": "text"
      },
      "source": [
        "<a href=\"https://colab.research.google.com/github/YinGuoX/Deep_Learning_T81_558/blob/master/Part2_4_Pandas_functional.ipynb\" target=\"_parent\"><img src=\"https://colab.research.google.com/assets/colab-badge.svg\" alt=\"Open In Colab\"/></a>"
      ]
    },
    {
      "cell_type": "markdown",
      "metadata": {
        "id": "9BtbZqqgCmdz"
      },
      "source": [
        "# Part2.4 : Apply and Map\n",
        "如果您曾经使用过大数据或函数式编程语言，则可能听说过map / reduce。 map和reduce是将您创建的函数应用于data frames的两个功能。 Pandas支持函数式编程技术，可让您跨整个data frames使用函数。 除了编写的功能外，Pandas还提供了一些用于data frames的标准功能。"
      ]
    },
    {
      "cell_type": "markdown",
      "metadata": {
        "id": "ez6Qipf1DN2l"
      },
      "source": [
        "## 1. 在Dataframes中使用Map\n",
        "map函数允许将列中的某些值映射到其他值来转换列。考虑Auto-MPG数据集，该数据集包含一个字段origin_name，该字段名称包含一个在1到3之间的值，该值表示每辆车的地理原点。我们可以看到如何使用map函数将这个数字原点转换为每个原点的文本名称.\n",
        "\n",
        "首先加载数据集"
      ]
    },
    {
      "cell_type": "code",
      "metadata": {
        "id": "QV_hTWNVCgwv",
        "outputId": "196b3245-ea61-456e-ef37-811dc5b27e22",
        "colab": {
          "base_uri": "https://localhost:8080/",
          "height": 224
        }
      },
      "source": [
        "import os \n",
        "import pandas as pd\n",
        "import numpy as np\n",
        "\n",
        "df = pd.read_csv(\n",
        "    \"https://data.heatonresearch.com/data/t81-558/auto-mpg.csv\", \n",
        "    na_values=['NA', '?'])\n",
        "\n",
        "pd.set_option('display.max_columns', 7)\n",
        "pd.set_option('display.max_rows', 5)\n",
        "\n",
        "display(df)"
      ],
      "execution_count": null,
      "outputs": [
        {
          "output_type": "display_data",
          "data": {
            "text/html": [
              "<div>\n",
              "<style scoped>\n",
              "    .dataframe tbody tr th:only-of-type {\n",
              "        vertical-align: middle;\n",
              "    }\n",
              "\n",
              "    .dataframe tbody tr th {\n",
              "        vertical-align: top;\n",
              "    }\n",
              "\n",
              "    .dataframe thead th {\n",
              "        text-align: right;\n",
              "    }\n",
              "</style>\n",
              "<table border=\"1\" class=\"dataframe\">\n",
              "  <thead>\n",
              "    <tr style=\"text-align: right;\">\n",
              "      <th></th>\n",
              "      <th>mpg</th>\n",
              "      <th>cylinders</th>\n",
              "      <th>displacement</th>\n",
              "      <th>...</th>\n",
              "      <th>year</th>\n",
              "      <th>origin</th>\n",
              "      <th>name</th>\n",
              "    </tr>\n",
              "  </thead>\n",
              "  <tbody>\n",
              "    <tr>\n",
              "      <th>0</th>\n",
              "      <td>18.0</td>\n",
              "      <td>8</td>\n",
              "      <td>307.0</td>\n",
              "      <td>...</td>\n",
              "      <td>70</td>\n",
              "      <td>1</td>\n",
              "      <td>chevrolet chevelle malibu</td>\n",
              "    </tr>\n",
              "    <tr>\n",
              "      <th>1</th>\n",
              "      <td>15.0</td>\n",
              "      <td>8</td>\n",
              "      <td>350.0</td>\n",
              "      <td>...</td>\n",
              "      <td>70</td>\n",
              "      <td>1</td>\n",
              "      <td>buick skylark 320</td>\n",
              "    </tr>\n",
              "    <tr>\n",
              "      <th>...</th>\n",
              "      <td>...</td>\n",
              "      <td>...</td>\n",
              "      <td>...</td>\n",
              "      <td>...</td>\n",
              "      <td>...</td>\n",
              "      <td>...</td>\n",
              "      <td>...</td>\n",
              "    </tr>\n",
              "    <tr>\n",
              "      <th>396</th>\n",
              "      <td>28.0</td>\n",
              "      <td>4</td>\n",
              "      <td>120.0</td>\n",
              "      <td>...</td>\n",
              "      <td>82</td>\n",
              "      <td>1</td>\n",
              "      <td>ford ranger</td>\n",
              "    </tr>\n",
              "    <tr>\n",
              "      <th>397</th>\n",
              "      <td>31.0</td>\n",
              "      <td>4</td>\n",
              "      <td>119.0</td>\n",
              "      <td>...</td>\n",
              "      <td>82</td>\n",
              "      <td>1</td>\n",
              "      <td>chevy s-10</td>\n",
              "    </tr>\n",
              "  </tbody>\n",
              "</table>\n",
              "<p>398 rows × 9 columns</p>\n",
              "</div>"
            ],
            "text/plain": [
              "      mpg  cylinders  displacement  ...  year  origin  \\\n",
              "0    18.0          8         307.0  ...    70       1   \n",
              "1    15.0          8         350.0  ...    70       1   \n",
              "..    ...        ...           ...  ...   ...     ...   \n",
              "396  28.0          4         120.0  ...    82       1   \n",
              "397  31.0          4         119.0  ...    82       1   \n",
              "\n",
              "                          name  \n",
              "0    chevrolet chevelle malibu  \n",
              "1            buick skylark 320  \n",
              "..                         ...  \n",
              "396                ford ranger  \n",
              "397                 chevy s-10  \n",
              "\n",
              "[398 rows x 9 columns]"
            ]
          },
          "metadata": {
            "tags": []
          }
        }
      ]
    },
    {
      "cell_type": "markdown",
      "metadata": {
        "id": "mr46sjmjEBUC"
      },
      "source": [
        "Pandas中的map函数是对单个列进行操作。可以为map提供一个字典，以转换目标列。map中字典的key指定要处理列中的值，value指定应该转换为这些key的值。\n",
        "\n",
        "下面的代码显示了map函数如何将数字值1、2和3转换为北美、欧洲和亚洲的字符串值。"
      ]
    },
    {
      "cell_type": "code",
      "metadata": {
        "id": "2Zvgw7sYDwxU",
        "outputId": "ee8a36a6-ee65-42bf-951d-9a349b62ce44",
        "colab": {
          "base_uri": "https://localhost:8080/",
          "height": 536
        }
      },
      "source": [
        "# 对dataframes创建一个新列\n",
        "df['origin_name'] = df['origin'].map({1:\"North America\",2:\"Europe\",3:'Asia'})\n",
        "\n",
        "# 混洗数据\n",
        "df = df.reindex(np.random.permutation(df.index))\n",
        "\n",
        "# 显示处理后的数据\n",
        "pd.set_option('display.max_columns',7)\n",
        "pd.set_option('display.max_rows',10)\n",
        "\n",
        "display(df)"
      ],
      "execution_count": null,
      "outputs": [
        {
          "output_type": "display_data",
          "data": {
            "text/html": [
              "<div>\n",
              "<style scoped>\n",
              "    .dataframe tbody tr th:only-of-type {\n",
              "        vertical-align: middle;\n",
              "    }\n",
              "\n",
              "    .dataframe tbody tr th {\n",
              "        vertical-align: top;\n",
              "    }\n",
              "\n",
              "    .dataframe thead th {\n",
              "        text-align: right;\n",
              "    }\n",
              "</style>\n",
              "<table border=\"1\" class=\"dataframe\">\n",
              "  <thead>\n",
              "    <tr style=\"text-align: right;\">\n",
              "      <th></th>\n",
              "      <th>mpg</th>\n",
              "      <th>cylinders</th>\n",
              "      <th>displacement</th>\n",
              "      <th>...</th>\n",
              "      <th>origin</th>\n",
              "      <th>name</th>\n",
              "      <th>origin_name</th>\n",
              "    </tr>\n",
              "  </thead>\n",
              "  <tbody>\n",
              "    <tr>\n",
              "      <th>77</th>\n",
              "      <td>22.0</td>\n",
              "      <td>4</td>\n",
              "      <td>121.0</td>\n",
              "      <td>...</td>\n",
              "      <td>2</td>\n",
              "      <td>volkswagen 411 (sw)</td>\n",
              "      <td>Europe</td>\n",
              "    </tr>\n",
              "    <tr>\n",
              "      <th>350</th>\n",
              "      <td>34.7</td>\n",
              "      <td>4</td>\n",
              "      <td>105.0</td>\n",
              "      <td>...</td>\n",
              "      <td>1</td>\n",
              "      <td>plymouth horizon 4</td>\n",
              "      <td>North America</td>\n",
              "    </tr>\n",
              "    <tr>\n",
              "      <th>124</th>\n",
              "      <td>11.0</td>\n",
              "      <td>8</td>\n",
              "      <td>350.0</td>\n",
              "      <td>...</td>\n",
              "      <td>1</td>\n",
              "      <td>oldsmobile omega</td>\n",
              "      <td>North America</td>\n",
              "    </tr>\n",
              "    <tr>\n",
              "      <th>169</th>\n",
              "      <td>20.0</td>\n",
              "      <td>6</td>\n",
              "      <td>232.0</td>\n",
              "      <td>...</td>\n",
              "      <td>1</td>\n",
              "      <td>amc gremlin</td>\n",
              "      <td>North America</td>\n",
              "    </tr>\n",
              "    <tr>\n",
              "      <th>90</th>\n",
              "      <td>12.0</td>\n",
              "      <td>8</td>\n",
              "      <td>429.0</td>\n",
              "      <td>...</td>\n",
              "      <td>1</td>\n",
              "      <td>mercury marquis brougham</td>\n",
              "      <td>North America</td>\n",
              "    </tr>\n",
              "    <tr>\n",
              "      <th>...</th>\n",
              "      <td>...</td>\n",
              "      <td>...</td>\n",
              "      <td>...</td>\n",
              "      <td>...</td>\n",
              "      <td>...</td>\n",
              "      <td>...</td>\n",
              "      <td>...</td>\n",
              "    </tr>\n",
              "    <tr>\n",
              "      <th>321</th>\n",
              "      <td>32.2</td>\n",
              "      <td>4</td>\n",
              "      <td>108.0</td>\n",
              "      <td>...</td>\n",
              "      <td>3</td>\n",
              "      <td>toyota corolla</td>\n",
              "      <td>Asia</td>\n",
              "    </tr>\n",
              "    <tr>\n",
              "      <th>82</th>\n",
              "      <td>23.0</td>\n",
              "      <td>4</td>\n",
              "      <td>120.0</td>\n",
              "      <td>...</td>\n",
              "      <td>3</td>\n",
              "      <td>toyouta corona mark ii (sw)</td>\n",
              "      <td>Asia</td>\n",
              "    </tr>\n",
              "    <tr>\n",
              "      <th>286</th>\n",
              "      <td>17.6</td>\n",
              "      <td>8</td>\n",
              "      <td>302.0</td>\n",
              "      <td>...</td>\n",
              "      <td>1</td>\n",
              "      <td>ford ltd landau</td>\n",
              "      <td>North America</td>\n",
              "    </tr>\n",
              "    <tr>\n",
              "      <th>69</th>\n",
              "      <td>12.0</td>\n",
              "      <td>8</td>\n",
              "      <td>350.0</td>\n",
              "      <td>...</td>\n",
              "      <td>1</td>\n",
              "      <td>oldsmobile delta 88 royale</td>\n",
              "      <td>North America</td>\n",
              "    </tr>\n",
              "    <tr>\n",
              "      <th>80</th>\n",
              "      <td>22.0</td>\n",
              "      <td>4</td>\n",
              "      <td>122.0</td>\n",
              "      <td>...</td>\n",
              "      <td>1</td>\n",
              "      <td>ford pinto (sw)</td>\n",
              "      <td>North America</td>\n",
              "    </tr>\n",
              "  </tbody>\n",
              "</table>\n",
              "<p>398 rows × 10 columns</p>\n",
              "</div>"
            ],
            "text/plain": [
              "      mpg  cylinders  displacement  ...  origin                         name  \\\n",
              "77   22.0          4         121.0  ...       2          volkswagen 411 (sw)   \n",
              "350  34.7          4         105.0  ...       1           plymouth horizon 4   \n",
              "124  11.0          8         350.0  ...       1             oldsmobile omega   \n",
              "169  20.0          6         232.0  ...       1                  amc gremlin   \n",
              "90   12.0          8         429.0  ...       1     mercury marquis brougham   \n",
              "..    ...        ...           ...  ...     ...                          ...   \n",
              "321  32.2          4         108.0  ...       3               toyota corolla   \n",
              "82   23.0          4         120.0  ...       3  toyouta corona mark ii (sw)   \n",
              "286  17.6          8         302.0  ...       1              ford ltd landau   \n",
              "69   12.0          8         350.0  ...       1   oldsmobile delta 88 royale   \n",
              "80   22.0          4         122.0  ...       1              ford pinto (sw)   \n",
              "\n",
              "       origin_name  \n",
              "77          Europe  \n",
              "350  North America  \n",
              "124  North America  \n",
              "169  North America  \n",
              "90   North America  \n",
              "..             ...  \n",
              "321           Asia  \n",
              "82            Asia  \n",
              "286  North America  \n",
              "69   North America  \n",
              "80   North America  \n",
              "\n",
              "[398 rows x 10 columns]"
            ]
          },
          "metadata": {
            "tags": []
          }
        }
      ]
    },
    {
      "cell_type": "markdown",
      "metadata": {
        "id": "REZ767RBFRZl"
      },
      "source": [
        "## 2. 在Dataframes中使用Apply\n",
        "Dataframes的apply()可以在整个数据帧上运行一个函数。该函数可以使用传统的命名函数，也可以使用lambda函数。Python也将对Dataframes中的每一行或每一列执行提供的函数。函数的axis参数指定跨行或跨列运行即可。(eg:axis = 1，使用行)。\n",
        "\n",
        "**注：**在Pandas中的函数的axis = 0是指行，而在Python、Numpy中是指列\n",
        "\n",
        "下面的代码计算一个称为efficiency的级数，即displacement除以horsepower。"
      ]
    },
    {
      "cell_type": "code",
      "metadata": {
        "id": "ToGR7-Q4Ev1t",
        "outputId": "65a805d2-a2a4-4e24-c9f3-1b5c14be714d",
        "colab": {
          "base_uri": "https://localhost:8080/",
          "height": 202
        }
      },
      "source": [
        "# 在pandas中的函数是axis=1是列操作\n",
        "efficiency = df.apply(lambda x: x['displacement']/x['horsepower'], axis=1)\n",
        "display(efficiency[0:10])"
      ],
      "execution_count": null,
      "outputs": [
        {
          "output_type": "display_data",
          "data": {
            "text/plain": [
              "77     1.592105\n",
              "350    1.666667\n",
              "124    1.944444\n",
              "169    2.320000\n",
              "90     2.166667\n",
              "141    1.180723\n",
              "79     1.391304\n",
              "227    2.250000\n",
              "306    1.504348\n",
              "87     2.413793\n",
              "dtype: float64"
            ]
          },
          "metadata": {
            "tags": []
          }
        }
      ]
    },
    {
      "cell_type": "markdown",
      "metadata": {
        "id": "ADrzrZbuHaZU"
      },
      "source": [
        "现在，可以将这个Serise作为新列或替换现有列插入到dataframes中。\n",
        "\n",
        "下面的代码将这个新serise插入到dataframes中。"
      ]
    },
    {
      "cell_type": "code",
      "metadata": {
        "id": "EmSWNUJsHJ2d",
        "outputId": "3fe33dd2-f428-42c5-b28b-05c3000947fe",
        "colab": {
          "base_uri": "https://localhost:8080/",
          "height": 553
        }
      },
      "source": [
        "df['efficiency'] = efficiency\n",
        "display(df)"
      ],
      "execution_count": null,
      "outputs": [
        {
          "output_type": "display_data",
          "data": {
            "text/html": [
              "<div>\n",
              "<style scoped>\n",
              "    .dataframe tbody tr th:only-of-type {\n",
              "        vertical-align: middle;\n",
              "    }\n",
              "\n",
              "    .dataframe tbody tr th {\n",
              "        vertical-align: top;\n",
              "    }\n",
              "\n",
              "    .dataframe thead th {\n",
              "        text-align: right;\n",
              "    }\n",
              "</style>\n",
              "<table border=\"1\" class=\"dataframe\">\n",
              "  <thead>\n",
              "    <tr style=\"text-align: right;\">\n",
              "      <th></th>\n",
              "      <th>mpg</th>\n",
              "      <th>cylinders</th>\n",
              "      <th>displacement</th>\n",
              "      <th>...</th>\n",
              "      <th>name</th>\n",
              "      <th>origin_name</th>\n",
              "      <th>efficiency</th>\n",
              "    </tr>\n",
              "  </thead>\n",
              "  <tbody>\n",
              "    <tr>\n",
              "      <th>77</th>\n",
              "      <td>22.0</td>\n",
              "      <td>4</td>\n",
              "      <td>121.0</td>\n",
              "      <td>...</td>\n",
              "      <td>volkswagen 411 (sw)</td>\n",
              "      <td>Europe</td>\n",
              "      <td>1.592105</td>\n",
              "    </tr>\n",
              "    <tr>\n",
              "      <th>350</th>\n",
              "      <td>34.7</td>\n",
              "      <td>4</td>\n",
              "      <td>105.0</td>\n",
              "      <td>...</td>\n",
              "      <td>plymouth horizon 4</td>\n",
              "      <td>North America</td>\n",
              "      <td>1.666667</td>\n",
              "    </tr>\n",
              "    <tr>\n",
              "      <th>124</th>\n",
              "      <td>11.0</td>\n",
              "      <td>8</td>\n",
              "      <td>350.0</td>\n",
              "      <td>...</td>\n",
              "      <td>oldsmobile omega</td>\n",
              "      <td>North America</td>\n",
              "      <td>1.944444</td>\n",
              "    </tr>\n",
              "    <tr>\n",
              "      <th>169</th>\n",
              "      <td>20.0</td>\n",
              "      <td>6</td>\n",
              "      <td>232.0</td>\n",
              "      <td>...</td>\n",
              "      <td>amc gremlin</td>\n",
              "      <td>North America</td>\n",
              "      <td>2.320000</td>\n",
              "    </tr>\n",
              "    <tr>\n",
              "      <th>90</th>\n",
              "      <td>12.0</td>\n",
              "      <td>8</td>\n",
              "      <td>429.0</td>\n",
              "      <td>...</td>\n",
              "      <td>mercury marquis brougham</td>\n",
              "      <td>North America</td>\n",
              "      <td>2.166667</td>\n",
              "    </tr>\n",
              "    <tr>\n",
              "      <th>...</th>\n",
              "      <td>...</td>\n",
              "      <td>...</td>\n",
              "      <td>...</td>\n",
              "      <td>...</td>\n",
              "      <td>...</td>\n",
              "      <td>...</td>\n",
              "      <td>...</td>\n",
              "    </tr>\n",
              "    <tr>\n",
              "      <th>321</th>\n",
              "      <td>32.2</td>\n",
              "      <td>4</td>\n",
              "      <td>108.0</td>\n",
              "      <td>...</td>\n",
              "      <td>toyota corolla</td>\n",
              "      <td>Asia</td>\n",
              "      <td>1.440000</td>\n",
              "    </tr>\n",
              "    <tr>\n",
              "      <th>82</th>\n",
              "      <td>23.0</td>\n",
              "      <td>4</td>\n",
              "      <td>120.0</td>\n",
              "      <td>...</td>\n",
              "      <td>toyouta corona mark ii (sw)</td>\n",
              "      <td>Asia</td>\n",
              "      <td>1.237113</td>\n",
              "    </tr>\n",
              "    <tr>\n",
              "      <th>286</th>\n",
              "      <td>17.6</td>\n",
              "      <td>8</td>\n",
              "      <td>302.0</td>\n",
              "      <td>...</td>\n",
              "      <td>ford ltd landau</td>\n",
              "      <td>North America</td>\n",
              "      <td>2.341085</td>\n",
              "    </tr>\n",
              "    <tr>\n",
              "      <th>69</th>\n",
              "      <td>12.0</td>\n",
              "      <td>8</td>\n",
              "      <td>350.0</td>\n",
              "      <td>...</td>\n",
              "      <td>oldsmobile delta 88 royale</td>\n",
              "      <td>North America</td>\n",
              "      <td>2.187500</td>\n",
              "    </tr>\n",
              "    <tr>\n",
              "      <th>80</th>\n",
              "      <td>22.0</td>\n",
              "      <td>4</td>\n",
              "      <td>122.0</td>\n",
              "      <td>...</td>\n",
              "      <td>ford pinto (sw)</td>\n",
              "      <td>North America</td>\n",
              "      <td>1.418605</td>\n",
              "    </tr>\n",
              "  </tbody>\n",
              "</table>\n",
              "<p>398 rows × 11 columns</p>\n",
              "</div>"
            ],
            "text/plain": [
              "      mpg  cylinders  displacement  ...                         name  \\\n",
              "77   22.0          4         121.0  ...          volkswagen 411 (sw)   \n",
              "350  34.7          4         105.0  ...           plymouth horizon 4   \n",
              "124  11.0          8         350.0  ...             oldsmobile omega   \n",
              "169  20.0          6         232.0  ...                  amc gremlin   \n",
              "90   12.0          8         429.0  ...     mercury marquis brougham   \n",
              "..    ...        ...           ...  ...                          ...   \n",
              "321  32.2          4         108.0  ...               toyota corolla   \n",
              "82   23.0          4         120.0  ...  toyouta corona mark ii (sw)   \n",
              "286  17.6          8         302.0  ...              ford ltd landau   \n",
              "69   12.0          8         350.0  ...   oldsmobile delta 88 royale   \n",
              "80   22.0          4         122.0  ...              ford pinto (sw)   \n",
              "\n",
              "       origin_name  efficiency  \n",
              "77          Europe    1.592105  \n",
              "350  North America    1.666667  \n",
              "124  North America    1.944444  \n",
              "169  North America    2.320000  \n",
              "90   North America    2.166667  \n",
              "..             ...         ...  \n",
              "321           Asia    1.440000  \n",
              "82            Asia    1.237113  \n",
              "286  North America    2.341085  \n",
              "69   North America    2.187500  \n",
              "80   North America    1.418605  \n",
              "\n",
              "[398 rows x 11 columns]"
            ]
          },
          "metadata": {
            "tags": []
          }
        }
      ]
    },
    {
      "cell_type": "markdown",
      "metadata": {
        "id": "NJTH-bOpJ6FI"
      },
      "source": [
        "## 3. 在特征工程中使用Map、Apply\n",
        "我们将看到如何使用map、apply和grouping计算复杂的特征。数据集是以下CSV:\n",
        "* [https://www.irs.gov/pub/irs-soi/16zpallagi.csv](https://www.irs.gov/pub/irs-soi/16zpallagi.csv)\n",
        "\n",
        "此URL包含“SOI税收统计-个人所得税统计”的美国政府公共数据。网站的入口点在这里\n",
        "* [https://www.irs.gov/statistics/soi-tax-stats-individual-income-tax-statistics-2016-zip-code-data-soi](https://www.irs.gov/statistics/soi-tax-stats-individual-income-tax-statistics-2016-zip-code-data-soi)\n",
        "\n",
        "描述该数据的文档在上面的链接中。\n",
        "\n",
        "\n",
        "对于这些特征，我们将尝试估算每个邮政编码的调整后总收入（adjusted gross income -AGI）。 数据文件包含许多列。 但是，您将仅使用以下内容：\n",
        "\n",
        "* STATE： 州\n",
        "* zipcode：邮政编码\n",
        "* agi_stub：六种不同的年收入等级(1至6)\n",
        "* N1：每个agi存根的报税表数目\n",
        "\n",
        "**注：**对于每个zipcode和每个agi_stub，将有6行。你可以用0或99999跳过邮政编码。\n",
        "\n",
        "我们将用这些列创建一个输出CSV;但是，每个邮政编码只有一行。计算收入等级的加权平均值。例如，以下六行用于63017:\n",
        "\n",
        "\n",
        "|zipcode |agi_stub | N1 |\n",
        "|--|--|-- |\n",
        "|63017     |1 | 4710 |\n",
        "|63017     |2 | 2780 |\n",
        "|63017     |3 | 2130 |\n",
        "|63017     |4 | 2010 |\n",
        "|63017     |5 | 5240 |\n",
        "|63017     |6 | 3510 |\n",
        "\n",
        "\n",
        "我们必须将这六行合并为一。 出于隐私原因，AGI分为6个存储桶。 我们需要组合各个存储桶，并估算邮政编码的实际AGI。 为此，请考虑N1的值：\n",
        "\n",
        "* 1 = 1 to 25,000\n",
        "* 2 = 25,000 to 50,000\n",
        "* 3 = 50,000 to 75,000\n",
        "* 4 = 75,000 to 100,000\n",
        "* 5 = 100,000 to 200,000\n",
        "* 6 = 200,000 or more\n",
        "\n",
        "每个范围的中值大约为：\n",
        "\n",
        "* 1 = 12,500\n",
        "* 2 = 37,500\n",
        "* 3 = 62,500 \n",
        "* 4 = 87,500\n",
        "* 5 = 112,500\n",
        "* 6 = 212,500\n",
        "\n",
        "使用它，您可以估计63017的平均AGI\n",
        "\n",
        "\n",
        "```\n",
        ">>> totalCount = 4710 + 2780 + 2130 + 2010 + 5240 + 3510\n",
        ">>> totalAGI = 4710 * 12500 + 2780 * 37500 + 2130 * 62500 \n",
        "    + 2010 * 87500 + 5240 * 112500 + 3510 * 212500\n",
        ">>> print(totalAGI / totalCount)\n",
        "\n",
        "88689.89205103042\n",
        "```\n",
        "\n"
      ]
    },
    {
      "cell_type": "code",
      "metadata": {
        "id": "evhz3DtrHobF"
      },
      "source": [
        "# 读取数据\n",
        "import pandas as pd\n",
        "df=pd.read_csv('https://www.irs.gov/pub/irs-soi/16zpallagi.csv')"
      ],
      "execution_count": null,
      "outputs": []
    },
    {
      "cell_type": "markdown",
      "metadata": {
        "id": "lWXSwS-02ncc"
      },
      "source": [
        "首先，删除所有为0或99999的邮政编码。并且选择了我们需要的三个字段。"
      ]
    },
    {
      "cell_type": "code",
      "metadata": {
        "id": "PEoa6AtJ2hf7",
        "outputId": "cef31ac3-2db2-4e52-da94-84ec9e709479",
        "colab": {
          "base_uri": "https://localhost:8080/",
          "height": 402
        }
      },
      "source": [
        "# df.loc[]:通过标签或布尔数组访问一组行和列\n",
        "df = df.loc[(df['zipcode']!=0) & (df['zipcode']!=99999),['STATE','zipcode','agi_stub','N1']]\n",
        "\n",
        "pd.set_option('display.max_columns', 0)\n",
        "pd.set_option('display.max_rows', 10)\n",
        "\n",
        "display(df)"
      ],
      "execution_count": null,
      "outputs": [
        {
          "output_type": "display_data",
          "data": {
            "text/html": [
              "<div>\n",
              "<style scoped>\n",
              "    .dataframe tbody tr th:only-of-type {\n",
              "        vertical-align: middle;\n",
              "    }\n",
              "\n",
              "    .dataframe tbody tr th {\n",
              "        vertical-align: top;\n",
              "    }\n",
              "\n",
              "    .dataframe thead th {\n",
              "        text-align: right;\n",
              "    }\n",
              "</style>\n",
              "<table border=\"1\" class=\"dataframe\">\n",
              "  <thead>\n",
              "    <tr style=\"text-align: right;\">\n",
              "      <th></th>\n",
              "      <th>STATE</th>\n",
              "      <th>zipcode</th>\n",
              "      <th>agi_stub</th>\n",
              "      <th>N1</th>\n",
              "    </tr>\n",
              "  </thead>\n",
              "  <tbody>\n",
              "    <tr>\n",
              "      <th>6</th>\n",
              "      <td>AL</td>\n",
              "      <td>35004</td>\n",
              "      <td>1</td>\n",
              "      <td>1510</td>\n",
              "    </tr>\n",
              "    <tr>\n",
              "      <th>7</th>\n",
              "      <td>AL</td>\n",
              "      <td>35004</td>\n",
              "      <td>2</td>\n",
              "      <td>1410</td>\n",
              "    </tr>\n",
              "    <tr>\n",
              "      <th>8</th>\n",
              "      <td>AL</td>\n",
              "      <td>35004</td>\n",
              "      <td>3</td>\n",
              "      <td>950</td>\n",
              "    </tr>\n",
              "    <tr>\n",
              "      <th>9</th>\n",
              "      <td>AL</td>\n",
              "      <td>35004</td>\n",
              "      <td>4</td>\n",
              "      <td>650</td>\n",
              "    </tr>\n",
              "    <tr>\n",
              "      <th>10</th>\n",
              "      <td>AL</td>\n",
              "      <td>35004</td>\n",
              "      <td>5</td>\n",
              "      <td>630</td>\n",
              "    </tr>\n",
              "    <tr>\n",
              "      <th>...</th>\n",
              "      <td>...</td>\n",
              "      <td>...</td>\n",
              "      <td>...</td>\n",
              "      <td>...</td>\n",
              "    </tr>\n",
              "    <tr>\n",
              "      <th>179785</th>\n",
              "      <td>WY</td>\n",
              "      <td>83414</td>\n",
              "      <td>2</td>\n",
              "      <td>40</td>\n",
              "    </tr>\n",
              "    <tr>\n",
              "      <th>179786</th>\n",
              "      <td>WY</td>\n",
              "      <td>83414</td>\n",
              "      <td>3</td>\n",
              "      <td>40</td>\n",
              "    </tr>\n",
              "    <tr>\n",
              "      <th>179787</th>\n",
              "      <td>WY</td>\n",
              "      <td>83414</td>\n",
              "      <td>4</td>\n",
              "      <td>0</td>\n",
              "    </tr>\n",
              "    <tr>\n",
              "      <th>179788</th>\n",
              "      <td>WY</td>\n",
              "      <td>83414</td>\n",
              "      <td>5</td>\n",
              "      <td>40</td>\n",
              "    </tr>\n",
              "    <tr>\n",
              "      <th>179789</th>\n",
              "      <td>WY</td>\n",
              "      <td>83414</td>\n",
              "      <td>6</td>\n",
              "      <td>30</td>\n",
              "    </tr>\n",
              "  </tbody>\n",
              "</table>\n",
              "<p>179184 rows × 4 columns</p>\n",
              "</div>"
            ],
            "text/plain": [
              "       STATE  zipcode  agi_stub    N1\n",
              "6         AL    35004         1  1510\n",
              "7         AL    35004         2  1410\n",
              "8         AL    35004         3   950\n",
              "9         AL    35004         4   650\n",
              "10        AL    35004         5   630\n",
              "...      ...      ...       ...   ...\n",
              "179785    WY    83414         2    40\n",
              "179786    WY    83414         3    40\n",
              "179787    WY    83414         4     0\n",
              "179788    WY    83414         5    40\n",
              "179789    WY    83414         6    30\n",
              "\n",
              "[179184 rows x 4 columns]"
            ]
          },
          "metadata": {
            "tags": []
          }
        }
      ]
    },
    {
      "cell_type": "markdown",
      "metadata": {
        "id": "q-upDCt_3hHq"
      },
      "source": [
        "我们用map函数将所有的agi_stub替换为正确的中值。"
      ]
    },
    {
      "cell_type": "code",
      "metadata": {
        "id": "diDwndk43Auz",
        "outputId": "7da0b839-37a3-4283-beab-6474daa0b40f",
        "colab": {
          "base_uri": "https://localhost:8080/",
          "height": 402
        }
      },
      "source": [
        "medians = {1:12500,2:37500,3:62500,4:87500,5:112500,6:212500}\n",
        "df['agi_stub']  = df['agi_stub'].map(medians)\n",
        "\n",
        "pd.set_option('display.max_columns', 0)\n",
        "pd.set_option('display.max_rows', 10)\n",
        "display(df)"
      ],
      "execution_count": null,
      "outputs": [
        {
          "output_type": "display_data",
          "data": {
            "text/html": [
              "<div>\n",
              "<style scoped>\n",
              "    .dataframe tbody tr th:only-of-type {\n",
              "        vertical-align: middle;\n",
              "    }\n",
              "\n",
              "    .dataframe tbody tr th {\n",
              "        vertical-align: top;\n",
              "    }\n",
              "\n",
              "    .dataframe thead th {\n",
              "        text-align: right;\n",
              "    }\n",
              "</style>\n",
              "<table border=\"1\" class=\"dataframe\">\n",
              "  <thead>\n",
              "    <tr style=\"text-align: right;\">\n",
              "      <th></th>\n",
              "      <th>STATE</th>\n",
              "      <th>zipcode</th>\n",
              "      <th>agi_stub</th>\n",
              "      <th>N1</th>\n",
              "    </tr>\n",
              "  </thead>\n",
              "  <tbody>\n",
              "    <tr>\n",
              "      <th>6</th>\n",
              "      <td>AL</td>\n",
              "      <td>35004</td>\n",
              "      <td>12500</td>\n",
              "      <td>1510</td>\n",
              "    </tr>\n",
              "    <tr>\n",
              "      <th>7</th>\n",
              "      <td>AL</td>\n",
              "      <td>35004</td>\n",
              "      <td>37500</td>\n",
              "      <td>1410</td>\n",
              "    </tr>\n",
              "    <tr>\n",
              "      <th>8</th>\n",
              "      <td>AL</td>\n",
              "      <td>35004</td>\n",
              "      <td>62500</td>\n",
              "      <td>950</td>\n",
              "    </tr>\n",
              "    <tr>\n",
              "      <th>9</th>\n",
              "      <td>AL</td>\n",
              "      <td>35004</td>\n",
              "      <td>87500</td>\n",
              "      <td>650</td>\n",
              "    </tr>\n",
              "    <tr>\n",
              "      <th>10</th>\n",
              "      <td>AL</td>\n",
              "      <td>35004</td>\n",
              "      <td>112500</td>\n",
              "      <td>630</td>\n",
              "    </tr>\n",
              "    <tr>\n",
              "      <th>...</th>\n",
              "      <td>...</td>\n",
              "      <td>...</td>\n",
              "      <td>...</td>\n",
              "      <td>...</td>\n",
              "    </tr>\n",
              "    <tr>\n",
              "      <th>179785</th>\n",
              "      <td>WY</td>\n",
              "      <td>83414</td>\n",
              "      <td>37500</td>\n",
              "      <td>40</td>\n",
              "    </tr>\n",
              "    <tr>\n",
              "      <th>179786</th>\n",
              "      <td>WY</td>\n",
              "      <td>83414</td>\n",
              "      <td>62500</td>\n",
              "      <td>40</td>\n",
              "    </tr>\n",
              "    <tr>\n",
              "      <th>179787</th>\n",
              "      <td>WY</td>\n",
              "      <td>83414</td>\n",
              "      <td>87500</td>\n",
              "      <td>0</td>\n",
              "    </tr>\n",
              "    <tr>\n",
              "      <th>179788</th>\n",
              "      <td>WY</td>\n",
              "      <td>83414</td>\n",
              "      <td>112500</td>\n",
              "      <td>40</td>\n",
              "    </tr>\n",
              "    <tr>\n",
              "      <th>179789</th>\n",
              "      <td>WY</td>\n",
              "      <td>83414</td>\n",
              "      <td>212500</td>\n",
              "      <td>30</td>\n",
              "    </tr>\n",
              "  </tbody>\n",
              "</table>\n",
              "<p>179184 rows × 4 columns</p>\n",
              "</div>"
            ],
            "text/plain": [
              "       STATE  zipcode  agi_stub    N1\n",
              "6         AL    35004     12500  1510\n",
              "7         AL    35004     37500  1410\n",
              "8         AL    35004     62500   950\n",
              "9         AL    35004     87500   650\n",
              "10        AL    35004    112500   630\n",
              "...      ...      ...       ...   ...\n",
              "179785    WY    83414     37500    40\n",
              "179786    WY    83414     62500    40\n",
              "179787    WY    83414     87500     0\n",
              "179788    WY    83414    112500    40\n",
              "179789    WY    83414    212500    30\n",
              "\n",
              "[179184 rows x 4 columns]"
            ]
          },
          "metadata": {
            "tags": []
          }
        }
      ]
    },
    {
      "cell_type": "markdown",
      "metadata": {
        "id": "JGVk28Ti4ZJU"
      },
      "source": [
        "我们根据邮政编码对Datafranes进行分组。"
      ]
    },
    {
      "cell_type": "code",
      "metadata": {
        "id": "WgsYi13t3wjT",
        "outputId": "44c212a9-9869-499f-afca-79003454e5cb",
        "colab": {
          "base_uri": "https://localhost:8080/",
          "height": 34
        }
      },
      "source": [
        "groups = df.groupby(by='zipcode')\n",
        "print(groups)"
      ],
      "execution_count": null,
      "outputs": [
        {
          "output_type": "stream",
          "text": [
            "<pandas.core.groupby.generic.DataFrameGroupBy object at 0x7f0153191e10>\n"
          ],
          "name": "stdout"
        }
      ]
    },
    {
      "cell_type": "markdown",
      "metadata": {
        "id": "M_kzYOwp4r8g"
      },
      "source": [
        "使用apply(),并且使用lambda函数计算AGI估计。"
      ]
    },
    {
      "cell_type": "code",
      "metadata": {
        "id": "ce_rAmxk4icb"
      },
      "source": [
        "df = pd.DataFrame(groups.apply( \n",
        "    lambda x:sum(x['N1']*x['agi_stub'])/sum(x['N1']))) \\\n",
        "    .reset_index()"
      ],
      "execution_count": null,
      "outputs": []
    },
    {
      "cell_type": "code",
      "metadata": {
        "id": "GQJQdDc846_7",
        "outputId": "e7528c82-3256-41fa-ef18-dabdc8e0c42c",
        "colab": {
          "base_uri": "https://localhost:8080/",
          "height": 402
        }
      },
      "source": [
        "pd.set_option('display.max_columns', 0)\n",
        "pd.set_option('display.max_rows', 10)\n",
        "\n",
        "display(df)"
      ],
      "execution_count": null,
      "outputs": [
        {
          "output_type": "display_data",
          "data": {
            "text/html": [
              "<div>\n",
              "<style scoped>\n",
              "    .dataframe tbody tr th:only-of-type {\n",
              "        vertical-align: middle;\n",
              "    }\n",
              "\n",
              "    .dataframe tbody tr th {\n",
              "        vertical-align: top;\n",
              "    }\n",
              "\n",
              "    .dataframe thead th {\n",
              "        text-align: right;\n",
              "    }\n",
              "</style>\n",
              "<table border=\"1\" class=\"dataframe\">\n",
              "  <thead>\n",
              "    <tr style=\"text-align: right;\">\n",
              "      <th></th>\n",
              "      <th>zipcode</th>\n",
              "      <th>0</th>\n",
              "    </tr>\n",
              "  </thead>\n",
              "  <tbody>\n",
              "    <tr>\n",
              "      <th>0</th>\n",
              "      <td>1001</td>\n",
              "      <td>52895.322940</td>\n",
              "    </tr>\n",
              "    <tr>\n",
              "      <th>1</th>\n",
              "      <td>1002</td>\n",
              "      <td>64528.451001</td>\n",
              "    </tr>\n",
              "    <tr>\n",
              "      <th>2</th>\n",
              "      <td>1003</td>\n",
              "      <td>15441.176471</td>\n",
              "    </tr>\n",
              "    <tr>\n",
              "      <th>3</th>\n",
              "      <td>1005</td>\n",
              "      <td>54694.092827</td>\n",
              "    </tr>\n",
              "    <tr>\n",
              "      <th>4</th>\n",
              "      <td>1007</td>\n",
              "      <td>63654.353562</td>\n",
              "    </tr>\n",
              "    <tr>\n",
              "      <th>...</th>\n",
              "      <td>...</td>\n",
              "      <td>...</td>\n",
              "    </tr>\n",
              "    <tr>\n",
              "      <th>29867</th>\n",
              "      <td>99921</td>\n",
              "      <td>48042.168675</td>\n",
              "    </tr>\n",
              "    <tr>\n",
              "      <th>29868</th>\n",
              "      <td>99922</td>\n",
              "      <td>32954.545455</td>\n",
              "    </tr>\n",
              "    <tr>\n",
              "      <th>29869</th>\n",
              "      <td>99925</td>\n",
              "      <td>45639.534884</td>\n",
              "    </tr>\n",
              "    <tr>\n",
              "      <th>29870</th>\n",
              "      <td>99926</td>\n",
              "      <td>41136.363636</td>\n",
              "    </tr>\n",
              "    <tr>\n",
              "      <th>29871</th>\n",
              "      <td>99929</td>\n",
              "      <td>45911.214953</td>\n",
              "    </tr>\n",
              "  </tbody>\n",
              "</table>\n",
              "<p>29872 rows × 2 columns</p>\n",
              "</div>"
            ],
            "text/plain": [
              "       zipcode             0\n",
              "0         1001  52895.322940\n",
              "1         1002  64528.451001\n",
              "2         1003  15441.176471\n",
              "3         1005  54694.092827\n",
              "4         1007  63654.353562\n",
              "...        ...           ...\n",
              "29867    99921  48042.168675\n",
              "29868    99922  32954.545455\n",
              "29869    99925  45639.534884\n",
              "29870    99926  41136.363636\n",
              "29871    99929  45911.214953\n",
              "\n",
              "[29872 rows x 2 columns]"
            ]
          },
          "metadata": {
            "tags": []
          }
        }
      ]
    },
    {
      "cell_type": "markdown",
      "metadata": {
        "id": "Xxbh-kiE5Cl9"
      },
      "source": [
        "现在，我们可以重命名新的agi_estimate列。"
      ]
    },
    {
      "cell_type": "code",
      "metadata": {
        "id": "8IHb8ji74-BD"
      },
      "source": [
        "df.columns = ['zipcode','agi_estimate']"
      ],
      "execution_count": null,
      "outputs": []
    },
    {
      "cell_type": "code",
      "metadata": {
        "id": "Kmz6QSiW5E7k",
        "outputId": "a7b91733-807f-4bba-d3ae-a52ecec4d08f",
        "colab": {
          "base_uri": "https://localhost:8080/",
          "height": 402
        }
      },
      "source": [
        "pd.set_option('display.max_columns', 0)\n",
        "pd.set_option('display.max_rows', 10)\n",
        "\n",
        "display(df)"
      ],
      "execution_count": null,
      "outputs": [
        {
          "output_type": "display_data",
          "data": {
            "text/html": [
              "<div>\n",
              "<style scoped>\n",
              "    .dataframe tbody tr th:only-of-type {\n",
              "        vertical-align: middle;\n",
              "    }\n",
              "\n",
              "    .dataframe tbody tr th {\n",
              "        vertical-align: top;\n",
              "    }\n",
              "\n",
              "    .dataframe thead th {\n",
              "        text-align: right;\n",
              "    }\n",
              "</style>\n",
              "<table border=\"1\" class=\"dataframe\">\n",
              "  <thead>\n",
              "    <tr style=\"text-align: right;\">\n",
              "      <th></th>\n",
              "      <th>zipcode</th>\n",
              "      <th>agi_estimate</th>\n",
              "    </tr>\n",
              "  </thead>\n",
              "  <tbody>\n",
              "    <tr>\n",
              "      <th>0</th>\n",
              "      <td>1001</td>\n",
              "      <td>52895.322940</td>\n",
              "    </tr>\n",
              "    <tr>\n",
              "      <th>1</th>\n",
              "      <td>1002</td>\n",
              "      <td>64528.451001</td>\n",
              "    </tr>\n",
              "    <tr>\n",
              "      <th>2</th>\n",
              "      <td>1003</td>\n",
              "      <td>15441.176471</td>\n",
              "    </tr>\n",
              "    <tr>\n",
              "      <th>3</th>\n",
              "      <td>1005</td>\n",
              "      <td>54694.092827</td>\n",
              "    </tr>\n",
              "    <tr>\n",
              "      <th>4</th>\n",
              "      <td>1007</td>\n",
              "      <td>63654.353562</td>\n",
              "    </tr>\n",
              "    <tr>\n",
              "      <th>...</th>\n",
              "      <td>...</td>\n",
              "      <td>...</td>\n",
              "    </tr>\n",
              "    <tr>\n",
              "      <th>29867</th>\n",
              "      <td>99921</td>\n",
              "      <td>48042.168675</td>\n",
              "    </tr>\n",
              "    <tr>\n",
              "      <th>29868</th>\n",
              "      <td>99922</td>\n",
              "      <td>32954.545455</td>\n",
              "    </tr>\n",
              "    <tr>\n",
              "      <th>29869</th>\n",
              "      <td>99925</td>\n",
              "      <td>45639.534884</td>\n",
              "    </tr>\n",
              "    <tr>\n",
              "      <th>29870</th>\n",
              "      <td>99926</td>\n",
              "      <td>41136.363636</td>\n",
              "    </tr>\n",
              "    <tr>\n",
              "      <th>29871</th>\n",
              "      <td>99929</td>\n",
              "      <td>45911.214953</td>\n",
              "    </tr>\n",
              "  </tbody>\n",
              "</table>\n",
              "<p>29872 rows × 2 columns</p>\n",
              "</div>"
            ],
            "text/plain": [
              "       zipcode  agi_estimate\n",
              "0         1001  52895.322940\n",
              "1         1002  64528.451001\n",
              "2         1003  15441.176471\n",
              "3         1005  54694.092827\n",
              "4         1007  63654.353562\n",
              "...        ...           ...\n",
              "29867    99921  48042.168675\n",
              "29868    99922  32954.545455\n",
              "29869    99925  45639.534884\n",
              "29870    99926  41136.363636\n",
              "29871    99929  45911.214953\n",
              "\n",
              "[29872 rows x 2 columns]"
            ]
          },
          "metadata": {
            "tags": []
          }
        }
      ]
    },
    {
      "cell_type": "markdown",
      "metadata": {
        "id": "axJOZhO35PSb"
      },
      "source": [
        "最后，检查邮政编码63017的值是否正确。"
      ]
    },
    {
      "cell_type": "code",
      "metadata": {
        "id": "ItOgE0_85F_q",
        "outputId": "8e83c375-11bc-4ae0-aef9-a300b0177178",
        "colab": {
          "base_uri": "https://localhost:8080/",
          "height": 77
        }
      },
      "source": [
        "df[ df['zipcode']==63017 ]"
      ],
      "execution_count": null,
      "outputs": [
        {
          "output_type": "execute_result",
          "data": {
            "text/html": [
              "<div>\n",
              "<style scoped>\n",
              "    .dataframe tbody tr th:only-of-type {\n",
              "        vertical-align: middle;\n",
              "    }\n",
              "\n",
              "    .dataframe tbody tr th {\n",
              "        vertical-align: top;\n",
              "    }\n",
              "\n",
              "    .dataframe thead th {\n",
              "        text-align: right;\n",
              "    }\n",
              "</style>\n",
              "<table border=\"1\" class=\"dataframe\">\n",
              "  <thead>\n",
              "    <tr style=\"text-align: right;\">\n",
              "      <th></th>\n",
              "      <th>zipcode</th>\n",
              "      <th>agi_estimate</th>\n",
              "    </tr>\n",
              "  </thead>\n",
              "  <tbody>\n",
              "    <tr>\n",
              "      <th>19909</th>\n",
              "      <td>63017</td>\n",
              "      <td>88689.892051</td>\n",
              "    </tr>\n",
              "  </tbody>\n",
              "</table>\n",
              "</div>"
            ],
            "text/plain": [
              "       zipcode  agi_estimate\n",
              "19909    63017  88689.892051"
            ]
          },
          "metadata": {
            "tags": []
          },
          "execution_count": 21
        }
      ]
    },
    {
      "cell_type": "code",
      "metadata": {
        "id": "hRhU_IzW5R18"
      },
      "source": [
        ""
      ],
      "execution_count": null,
      "outputs": []
    }
  ]
}