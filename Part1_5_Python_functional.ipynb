{
  "nbformat": 4,
  "nbformat_minor": 0,
  "metadata": {
    "colab": {
      "name": "Part1.5_Python_functional.ipynb",
      "provenance": [],
      "collapsed_sections": [],
      "authorship_tag": "ABX9TyON/MRvAsfpn7R5DXNYllyh",
      "include_colab_link": true
    },
    "kernelspec": {
      "name": "python3",
      "display_name": "Python 3"
    }
  },
  "cells": [
    {
      "cell_type": "markdown",
      "metadata": {
        "id": "view-in-github",
        "colab_type": "text"
      },
      "source": [
        "<a href=\"https://colab.research.google.com/github/YinGuoX/Deep_Learning_T81_558/blob/master/Part1_5_Python_functional.ipynb\" target=\"_parent\"><img src=\"https://colab.research.google.com/assets/colab-badge.svg\" alt=\"Open In Colab\"/></a>"
      ]
    },
    {
      "cell_type": "markdown",
      "metadata": {
        "id": "Dl8X1ev6rBR5"
      },
      "source": [
        "# Part1.5:Functions,Lambdas,and Map/Reduce\n",
        "functions、lambdas、map/reduce这些技术可以以更高级的方式处理数据，在这节中将简单介绍一下它们的使用，在下个模块中将会在Pandas中扩展学习。\n",
        "\n",
        "确保使用的是Google CoLab： 以下代码将确保在Google CoLab中运行的TensorFlow版本和连接到Google Drive上"
      ]
    },
    {
      "cell_type": "code",
      "metadata": {
        "id": "Ia90qVycqzoI",
        "outputId": "70438934-5f03-4af5-b295-d02aaa406a34",
        "colab": {
          "base_uri": "https://localhost:8080/",
          "height": 34
        }
      },
      "source": [
        "try:\n",
        "    from google.colab import drive\n",
        "    %tensorflow_version 2.x\n",
        "    COLAB = True\n",
        "    print(\"Note: using Google CoLab\")\n",
        "except:\n",
        "    print(\"Note: not using Google CoLab\")\n",
        "    COLAB = False"
      ],
      "execution_count": null,
      "outputs": [
        {
          "output_type": "stream",
          "text": [
            "Note: using Google CoLab\n"
          ],
          "name": "stdout"
        }
      ]
    },
    {
      "cell_type": "markdown",
      "metadata": {
        "id": "KDgTNBkmr3wE"
      },
      "source": [
        "## 1.Function\n",
        "在Python中，一个函数的参数可以命名，也可以不命名，也可以使用默认值，理解以下代码："
      ]
    },
    {
      "cell_type": "code",
      "metadata": {
        "id": "9U5cFsUpsHJz",
        "outputId": "4ee1b94b-0db9-4f98-b8bb-051341696d5c",
        "colab": {
          "base_uri": "https://localhost:8080/",
          "height": 67
        }
      },
      "source": [
        "def say_hello(speaker, person_to_greet,greeting = 'Hello'):\n",
        "  print(f'{greeting} {person_to_greet},this is {speaker}.')\n",
        "\n",
        "    \n",
        "say_hello('Jeff', \"John\")\n",
        "say_hello('Jeff', \"John\", \"Goodbye\")\n",
        "say_hello(speaker='Jeff', person_to_greet=\"John\", greeting = \"Goodbye\")"
      ],
      "execution_count": null,
      "outputs": [
        {
          "output_type": "stream",
          "text": [
            "Hello John,this is Jeff.\n",
            "Goodbye John,this is Jeff.\n",
            "Goodbye John,this is Jeff.\n"
          ],
          "name": "stdout"
        }
      ]
    },
    {
      "cell_type": "markdown",
      "metadata": {
        "id": "GlQ0-ek6shjx"
      },
      "source": [
        "函数是捕获经常执行的代码的一种方法。考虑使用下面的函数来修剪字符串中的空格，并且使第一个字母大写。"
      ]
    },
    {
      "cell_type": "code",
      "metadata": {
        "id": "zn94Bua7sZET",
        "outputId": "720b36f8-8860-4ef8-e6fd-e1e477c1e1e9",
        "colab": {
          "base_uri": "https://localhost:8080/",
          "height": 34
        }
      },
      "source": [
        "def process_string(str):\n",
        "  # 删除所有前导（开头的空格）和结尾（末尾的空格）字符\n",
        "  # （空格是要删除的默认前导字符）\n",
        "  t = str.strip()\n",
        "  return t[0].upper()+t[1:]\n",
        "\n",
        "# 现在这个函数可以轻松的在各个代码中使用\n",
        "str = process_string(\" hello hhh hh exiting\")\n",
        "print(f'\"{str}\"\"')"
      ],
      "execution_count": null,
      "outputs": [
        {
          "output_type": "stream",
          "text": [
            "\"Hello hhh hh exiting\"\"\n"
          ],
          "name": "stdout"
        }
      ]
    },
    {
      "cell_type": "markdown",
      "metadata": {
        "id": "j16zv2cAtTWJ"
      },
      "source": [
        "## 2. Map\n",
        "Python中的map是一个非常有用的函数，许多编程语言都提供了这个函数。\n",
        "\n",
        "map函数接受一个列表，并对列表的每一个元素应用一个函数，然后返回与输入列表相同大小的列表"
      ]
    },
    {
      "cell_type": "code",
      "metadata": {
        "id": "-uc9sNS9s8wU",
        "outputId": "6848ccac-2593-414c-f585-82ce7928bd1b",
        "colab": {
          "base_uri": "https://localhost:8080/",
          "height": 67
        }
      },
      "source": [
        "l = ['   apple  ', 'pear ', 'orange', 'pine apple  ']\n",
        "strlist = map(process_string, l)\n",
        "print(type(strlist))\n",
        "print(strlist)\n",
        "print(list(strlist))"
      ],
      "execution_count": null,
      "outputs": [
        {
          "output_type": "stream",
          "text": [
            "<class 'map'>\n",
            "<map object at 0x7f9971c08550>\n",
            "['Apple', 'Pear', 'Orange', 'Pine apple']\n"
          ],
          "name": "stdout"
        }
      ]
    },
    {
      "cell_type": "code",
      "metadata": {
        "id": "awzr2Vueuh9h",
        "outputId": "02203c52-f860-4b9d-cc14-b828da997936",
        "colab": {
          "base_uri": "https://localhost:8080/",
          "height": 34
        }
      },
      "source": [
        "# 与上面的map函数类似\n",
        "l = ['   apple  ', 'pear ', 'orange', 'pine apple  ']\n",
        "l2 = [process_string(x) for x in l]\n",
        "print(l2)"
      ],
      "execution_count": null,
      "outputs": [
        {
          "output_type": "stream",
          "text": [
            "['Apple', 'Pear', 'Orange', 'Pine apple']\n"
          ],
          "name": "stdout"
        }
      ]
    },
    {
      "cell_type": "markdown",
      "metadata": {
        "id": "Z0En678xuudi"
      },
      "source": [
        "选择使用map函数还是普通的语言理解是由程序员决定的。我倾向于使用map，因为它在其他编程语言中非常常见。"
      ]
    },
    {
      "cell_type": "markdown",
      "metadata": {
        "id": "bFLcF409u3N6"
      },
      "source": [
        "## 3.Filter\n",
        "map函数总是创建与原始列表相同大小的新列表，而filter函数创建的列表可能更小。\n",
        "filter()接收两个参数，第一个为函数，第二个为序列，序列的每个元素作为参数传递给函数进行判断，然后返回 True 或 False，最后将返回 True 的元素放到新列表中。\n"
      ]
    },
    {
      "cell_type": "code",
      "metadata": {
        "id": "sqdCvFQOtzS6",
        "outputId": "33a3c132-18fa-4db6-e93b-d4ea4ac94fce",
        "colab": {
          "base_uri": "https://localhost:8080/",
          "height": 34
        }
      },
      "source": [
        "def greater_than_five(x):\n",
        "  return x>5\n",
        "\n",
        "l = [1,10,20,3,-2,0]\n",
        "l2 = list(filter(greater_than_five,l))\n",
        "print(l2)"
      ],
      "execution_count": null,
      "outputs": [
        {
          "output_type": "stream",
          "text": [
            "[10, 20]\n"
          ],
          "name": "stdout"
        }
      ]
    },
    {
      "cell_type": "markdown",
      "metadata": {
        "id": "AmcWmop0vOWK"
      },
      "source": [
        "## 4.Lambda\n",
        "为了检查某个值是否大于5而创建整个函数似乎有些乏味。lambda为您节省了这方面的工作。lambda本质上是一个未命名的函数。\n"
      ]
    },
    {
      "cell_type": "code",
      "metadata": {
        "id": "RrFUS3HOvLzj",
        "outputId": "8aca9c38-6c73-4067-a2c3-817935ab86f9",
        "colab": {
          "base_uri": "https://localhost:8080/",
          "height": 34
        }
      },
      "source": [
        "l = [ 1, 10, 20, 3, -2, 0]\n",
        "l2 = list(filter(lambda x:x>5, l))\n",
        "print(l2)"
      ],
      "execution_count": null,
      "outputs": [
        {
          "output_type": "stream",
          "text": [
            "[10, 20]\n"
          ],
          "name": "stdout"
        }
      ]
    },
    {
      "cell_type": "markdown",
      "metadata": {
        "id": "hntkjcIOvdcq"
      },
      "source": [
        "## 5. Reduce\n",
        "最后，我们将使用reduce函数。像filter()和map()一样，reduce函数也可用于列表。 但是返回的结果是单一的值。 考虑是否要对列表的值求和，该求和函数可由lambda实现。\n",
        "\n",
        "reduce()将一个数据集合（链表，元组等）中的所有数据进行下列操作：用传给 reduce() 中的函数 function（有两个参数）先对集合中的第 1、2 个元素进行操作，得到的结果再与第三个数据用 function 函数运算，最后得到一个结果。"
      ]
    },
    {
      "cell_type": "code",
      "metadata": {
        "id": "G2xKzWrTvcIC",
        "outputId": "e91ffb52-28ef-4642-8280-0f8e129bab66",
        "colab": {
          "base_uri": "https://localhost:8080/",
          "height": 34
        }
      },
      "source": [
        "from functools import reduce\n",
        "\n",
        "l = [ 1, 10, 20, 3, -2, 0]\n",
        "\n",
        "result = reduce(lambda x,y : x+y,l)\n",
        "print(result)"
      ],
      "execution_count": null,
      "outputs": [
        {
          "output_type": "stream",
          "text": [
            "32\n"
          ],
          "name": "stdout"
        }
      ]
    },
    {
      "cell_type": "code",
      "metadata": {
        "id": "mPm8hc-ZwHUS"
      },
      "source": [
        ""
      ],
      "execution_count": null,
      "outputs": []
    }
  ]
}