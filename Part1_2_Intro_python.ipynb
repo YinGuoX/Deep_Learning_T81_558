{
  "nbformat": 4,
  "nbformat_minor": 0,
  "metadata": {
    "colab": {
      "name": "Part1.2_Intro_python.ipynb",
      "provenance": [],
      "collapsed_sections": [],
      "authorship_tag": "ABX9TyPVQ7LuNK3sEcuc9uFdXSdd",
      "include_colab_link": true
    },
    "kernelspec": {
      "name": "python3",
      "display_name": "Python 3"
    }
  },
  "cells": [
    {
      "cell_type": "markdown",
      "metadata": {
        "id": "view-in-github",
        "colab_type": "text"
      },
      "source": [
        "<a href=\"https://colab.research.google.com/github/YinGuoX/Deep_Learning_T81_558/blob/master/Part1_2_Intro_python.ipynb\" target=\"_parent\"><img src=\"https://colab.research.google.com/assets/colab-badge.svg\" alt=\"Open In Colab\"/></a>"
      ]
    },
    {
      "cell_type": "markdown",
      "metadata": {
        "id": "SeWdMtRPqkDA"
      },
      "source": [
        "# Part1.2 : Introduction to Python\n",
        "Python is an interpreted, high-level, general-purpose programming language.Create by Guido van Rossum and first released in 1991,Python's design philosophy emphasizes code readability with its notable use of significant whitespace. Its language constructs and object-oriented approach aim to help programmers write clear, logical code for small and large-scale projects. Python has become a common language for machine learning research and is the primary language for TensorFlow.\n",
        "\n",
        "Python 3.0, released in 2008, was a significant of the language that is not entirely backward-compatible, and much Python 2 code does not run unmodified on Python 3. This course makes use of Python3. Furthermore, TensorFlow is not compatible with versions of Python earlier than 3. A non-profit organization, the Python Software Foundation(PSF), manages and directs resources for Python development. On janury 1, 2020, the PSF discontinued the Python 2 language and no longer provide security patches and other improvements. Python interpreters are availabelfor many operating systems.\n",
        "\n",
        "The first two modules of this course provide an introduction to some aspects of the Python programming language. However, entire books focus on Python. Two modules will not cover every detail of this language. The reader is encouraged to consult additional sources on the Python language.\n",
        "\n",
        "Like most tutorials, we will begin by printing Hello World.\n"
      ]
    },
    {
      "cell_type": "markdown",
      "metadata": {
        "id": "IDzt3Bboq94h"
      },
      "source": [
        "## 1. Google CoLab Instruction\n",
        "The following code ensures that Google Colab is running the correct version of TensorFlow\n"
      ]
    },
    {
      "cell_type": "code",
      "metadata": {
        "id": "cC3qFFl-qHBe",
        "outputId": "e8f3d334-c1fc-4a24-a540-965088bdfad7",
        "colab": {
          "base_uri": "https://localhost:8080/",
          "height": 34
        }
      },
      "source": [
        "try:\n",
        "  from google.colab import drive\n",
        "  %tensorflow_version 2.x\n",
        "  COLAB = True\n",
        "  print(\"Note : using Google CoLab\")\n",
        "except:\n",
        "  print(\"Note : not using Google CoLab\")\n",
        "  COLAB = False"
      ],
      "execution_count": null,
      "outputs": [
        {
          "output_type": "stream",
          "text": [
            "Note : using Google CoLab\n"
          ],
          "name": "stdout"
        }
      ]
    },
    {
      "cell_type": "markdown",
      "metadata": {
        "id": "Vez8xaxVyKz-"
      },
      "source": [
        "## 2. Print - Hello World\n",
        "The below code passes a constant string, containing the text 'hello world' to a function that is named print."
      ]
    },
    {
      "cell_type": "code",
      "metadata": {
        "id": "JO-D1EeLyRqU",
        "outputId": "b4eee630-bac9-40b8-f07a-3fb196ba3dda",
        "colab": {
          "base_uri": "https://localhost:8080/",
          "height": 34
        }
      },
      "source": [
        "print(\"Hello World\")"
      ],
      "execution_count": null,
      "outputs": [
        {
          "output_type": "stream",
          "text": [
            "Hello World\n"
          ],
          "name": "stdout"
        }
      ]
    },
    {
      "cell_type": "markdown",
      "metadata": {
        "id": "biepVLk8y1jI"
      },
      "source": [
        "You can also leave comments in your code to explain what you are doing.Comments can begin anywhere in a line."
      ]
    },
    {
      "cell_type": "code",
      "metadata": {
        "id": "OjLt_9bIyzXX",
        "outputId": "485c1bb9-b5c9-4bab-fda5-84ef97aced4d",
        "colab": {
          "base_uri": "https://localhost:8080/",
          "height": 34
        }
      },
      "source": [
        "# This is a single line comment(and has no effect on your program)\n",
        "print(\"Hello World\") # say hello"
      ],
      "execution_count": null,
      "outputs": [
        {
          "output_type": "stream",
          "text": [
            "Hello World\n"
          ],
          "name": "stdout"
        }
      ]
    },
    {
      "cell_type": "markdown",
      "metadata": {
        "id": "d6pI0TY7zRTW"
      },
      "source": [
        "Strings are very versatile and allow your program to process textual information. Constant string, enclosed in quotes, define literal string values inside your program. Sometimes you may wish to define a larger amount of literal text inside of your program. This text might consist of multiple lines.\n",
        "The triple quote allows for multiple lines of text."
      ]
    },
    {
      "cell_type": "code",
      "metadata": {
        "id": "HzyS2YWxzHmZ",
        "outputId": "ffb37896-fb64-4afa-9075-8cade7a45ed7",
        "colab": {
          "base_uri": "https://localhost:8080/",
          "height": 118
        }
      },
      "source": [
        "print(\"\"\"\n",
        "Print\n",
        "+Multi\\nple\n",
        "Lines\n",
        "\"\"\")"
      ],
      "execution_count": null,
      "outputs": [
        {
          "output_type": "stream",
          "text": [
            "\n",
            "Print\n",
            "+Multi\n",
            "ple\n",
            "Lines\n",
            "\n"
          ],
          "name": "stdout"
        }
      ]
    },
    {
      "cell_type": "markdown",
      "metadata": {
        "id": "QXZH4PIy0alp"
      },
      "source": [
        "Like many languages uses single (') and double (\") quotes interchangeably to denote literal string constants. The general convention is that double quotes should enclose actual text, shuch as words or sentences. Single quotes should enclose symbolic text, such as error codes. An example of an error code might be 'HTTP404'.\n",
        "\n",
        "However, there is no difference between single and double quotes in Python, and you may use whichever you like. The following code makes use of a single quote."
      ]
    },
    {
      "cell_type": "code",
      "metadata": {
        "id": "naXb_iLk0K8O",
        "outputId": "7a598140-4e45-4572-cf8e-7844fbaf053d",
        "colab": {
          "base_uri": "https://localhost:8080/",
          "height": 34
        }
      },
      "source": [
        "print('Hello World')"
      ],
      "execution_count": null,
      "outputs": [
        {
          "output_type": "stream",
          "text": [
            "Hello World\n"
          ],
          "name": "stdout"
        }
      ]
    },
    {
      "cell_type": "markdown",
      "metadata": {
        "id": "9rYZet8o1d_2"
      },
      "source": [
        "In addition to strings, Python allows numbers as literal constants in programs. Python includes support for floating-point, integer, complex, and other types of numbers. This course will not make use of complex numbers. Unlike strings, quotes do not enclose numbers.\n",
        "\n",
        "The presence of a decimal point differentiates floating-point and integer numbers. For example, the value 42 is an integer. Similarly, 42.5 is a floating-point number. If you wish to have a floating-number, without a fraction part, you should specify a zero fraction. The value 42.0 is a floating-point number, although it has no fractional part. As an example, the following code prints two numbers."
      ]
    },
    {
      "cell_type": "code",
      "metadata": {
        "id": "HVhT81bP1aLW",
        "outputId": "46b6a51c-f467-4c6b-bdf9-1fb0a122564b",
        "colab": {
          "base_uri": "https://localhost:8080/",
          "height": 50
        }
      },
      "source": [
        "print(42)\n",
        "print(42.5)"
      ],
      "execution_count": null,
      "outputs": [
        {
          "output_type": "stream",
          "text": [
            "42\n",
            "42.5\n"
          ],
          "name": "stdout"
        }
      ]
    },
    {
      "cell_type": "markdown",
      "metadata": {
        "id": "je3zd8si32Vu"
      },
      "source": [
        "So far, we have only seen how to define literal numeric and string values. These literal values are constant and do not change as your program runs. Variables allow your program to hold values that can change as the program runs. Variables have names that allow you to reference their values. The following code assigns an integer value to a variable named \"a\" and a string value to a variable named \"b\"."
      ]
    },
    {
      "cell_type": "code",
      "metadata": {
        "id": "I6B12M_J3oxS",
        "outputId": "1ef846c8-aaa8-4b55-e8b2-bec86dd43df9",
        "colab": {
          "base_uri": "https://localhost:8080/",
          "height": 50
        }
      },
      "source": [
        "a = 10\n",
        "b = \"ten\"\n",
        "print(a)\n",
        "print(b)"
      ],
      "execution_count": null,
      "outputs": [
        {
          "output_type": "stream",
          "text": [
            "10\n",
            "ten\n"
          ],
          "name": "stdout"
        }
      ]
    },
    {
      "cell_type": "markdown",
      "metadata": {
        "id": "CxKU0P3D4pCS"
      },
      "source": [
        "The key feature of variables is that they can change. The following code demonstrates how to change the values held by variables."
      ]
    },
    {
      "cell_type": "code",
      "metadata": {
        "id": "NkzUKT3Z4lLo",
        "outputId": "3beff3c2-e13e-4f9f-ecc4-55b74c0dd8f1",
        "colab": {
          "base_uri": "https://localhost:8080/",
          "height": 50
        }
      },
      "source": [
        "a = 10 \n",
        "print(a)\n",
        "a = a + 1\n",
        "print(a)"
      ],
      "execution_count": null,
      "outputs": [
        {
          "output_type": "stream",
          "text": [
            "10\n",
            "11\n"
          ],
          "name": "stdout"
        }
      ]
    },
    {
      "cell_type": "markdown",
      "metadata": {
        "id": "Od3Y5qLp5YT1"
      },
      "source": [
        "You can mix strings and variables for printing. This technique is called a formatted or interpolated string. The variables must be inside of the curly braces. In Python, this type of string is generally called an f-string. The f-string is denoted by placing an \"f\" just in front of the opening single or double quote that begins the string. The following code demostrates the use of an f-string to mix several variables with a literal string."
      ]
    },
    {
      "cell_type": "code",
      "metadata": {
        "id": "lqVMFwTc5Muu",
        "outputId": "2aa864e6-a0ef-4d1b-f0e2-f7296b2b9713",
        "colab": {
          "base_uri": "https://localhost:8080/",
          "height": 34
        }
      },
      "source": [
        "a = 10\n",
        "print(f'The value of a is {a}')"
      ],
      "execution_count": null,
      "outputs": [
        {
          "output_type": "stream",
          "text": [
            "The value of a is 10\n"
          ],
          "name": "stdout"
        }
      ]
    },
    {
      "cell_type": "markdown",
      "metadata": {
        "id": "0X0PDxj16ZbG"
      },
      "source": [
        "You can also use f-strings with math(called an expression). Curly braces can enclose any valid Python exprossion for printing. The following code demonstrates the use of an expression inside of the curly braces of an f-string,"
      ]
    },
    {
      "cell_type": "code",
      "metadata": {
        "id": "IXg64tBv6R8P",
        "outputId": "9b1cf262-2ff3-46cf-dd8b-7f436e39b37a",
        "colab": {
          "base_uri": "https://localhost:8080/",
          "height": 34
        }
      },
      "source": [
        "a = 10\n",
        "print(f'The value of a plus is {a+5}')"
      ],
      "execution_count": null,
      "outputs": [
        {
          "output_type": "stream",
          "text": [
            "The value of a plus is 15\n"
          ],
          "name": "stdout"
        }
      ]
    },
    {
      "cell_type": "markdown",
      "metadata": {
        "id": "MGP6Npip8Zps"
      },
      "source": [
        "Python has many ways to print numbers; these are all correct. However, for this course, we will use f-strings. The following code demonstrates some of the varied methods of printing numbers in Python."
      ]
    },
    {
      "cell_type": "code",
      "metadata": {
        "id": "yDEbA0vT8Vks",
        "outputId": "f5062e81-7851-4d72-e3a8-e2ce19794d4e",
        "colab": {
          "base_uri": "https://localhost:8080/",
          "height": 84
        }
      },
      "source": [
        "a = 5\n",
        "\n",
        "print(f'a is {a}')\n",
        "print(\"a is {}\".format(a))\n",
        "print(\"a is \"+ str(a))\n",
        "print(\"a is %d\"%a)"
      ],
      "execution_count": null,
      "outputs": [
        {
          "output_type": "stream",
          "text": [
            "a is 5\n",
            "a is 5\n",
            "a is 5\n",
            "a is 5\n"
          ],
          "name": "stdout"
        }
      ]
    },
    {
      "cell_type": "markdown",
      "metadata": {
        "id": "1mkBlRv79bJN"
      },
      "source": [
        "## 3.  If\n",
        "You can use if-statements to perform logic. Notice the indents? These if-statements are how Python defines blocks of code to execute together. A block usually begins after a colon and includes any lines at the same level of indent. Unlike many other programming languages, Python uses whitespace to define blocks of code. The fact that whitespace is significant to the meaning of program code is frequent source of annoyance for new programmers of Python. Tabs and spcaes are both used to define the scope in a Python program. Mixing both spaces and tabs in the same program is not recommended."
      ]
    },
    {
      "cell_type": "code",
      "metadata": {
        "id": "z3H41gQe85nQ",
        "outputId": "8e18267f-6371-4100-eb87-51045e76d8cb",
        "colab": {
          "base_uri": "https://localhost:8080/",
          "height": 34
        }
      },
      "source": [
        "a = 5\n",
        "if a>5:\n",
        "  print(\"The variable a is greater than 5.\")\n",
        "else:\n",
        "  print(\"The variable a is not greater than 5\")"
      ],
      "execution_count": null,
      "outputs": [
        {
          "output_type": "stream",
          "text": [
            "The variable a is not greater than 5\n"
          ],
          "name": "stdout"
        }
      ]
    },
    {
      "cell_type": "markdown",
      "metadata": {
        "id": "2_q4ZZ7D-5sl"
      },
      "source": [
        "The following if-statement has multiple levels. It can be easy to indent these levels improperly,so be careful. This code contains a nested if-statement under the first \"a==5\" if-statement. Only if a is equal to 5 will the nested \"b==6\" if-statement be executed. Also, not that the \"elif\" command means \"else if\"."
      ]
    },
    {
      "cell_type": "code",
      "metadata": {
        "id": "TCGtlijU-u74",
        "outputId": "b9e31026-7c1f-481c-c9a8-15d004776de2",
        "colab": {
          "base_uri": "https://localhost:8080/",
          "height": 50
        }
      },
      "source": [
        "a = 5\n",
        "b = 6\n",
        "\n",
        "if a==5:\n",
        "  print(\"The variable a is 5\")\n",
        "  if b == 6:\n",
        "    print(\"The variable b is also 6\")\n",
        "elif a==6:\n",
        "  print(\"The variable a is 6\")"
      ],
      "execution_count": null,
      "outputs": [
        {
          "output_type": "stream",
          "text": [
            "The variable a is 5\n",
            "The variable b is also 6\n"
          ],
          "name": "stdout"
        }
      ]
    },
    {
      "cell_type": "markdown",
      "metadata": {
        "id": "rU3II3fXAA4t"
      },
      "source": [
        "* It is also important to note that the double equal(\"==\") operator is used to test the equality of two expression.\n",
        "* The single equal(\"=\") operator is only used to assign values to variables in Python.\n",
        "* Testing for inequality is performed with the not equal (\"!=\") operator."
      ]
    },
    {
      "cell_type": "markdown",
      "metadata": {
        "id": "kOaZdvZwAcps"
      },
      "source": [
        "## 4.Loop\n",
        "It is common in programming languages to loop over a range of numbers. Python accomplishes this through the use of the **range** operation. Here you can see a **for** loop and a **range** operation that causes the ptogram to loop between 1 and 9."
      ]
    },
    {
      "cell_type": "code",
      "metadata": {
        "id": "o6xXArKU_9Db",
        "outputId": "de7a6263-1a89-4ce6-9e04-a29fb4554eaf",
        "colab": {
          "base_uri": "https://localhost:8080/",
          "height": 168
        }
      },
      "source": [
        "# if you ever see xrange, you are in Python 2 \n",
        "for x in range(1,10):\n",
        "  # if you ever see print x (no parenthesis),you are in Python 2\n",
        "  print(x)"
      ],
      "execution_count": null,
      "outputs": [
        {
          "output_type": "stream",
          "text": [
            "1\n",
            "2\n",
            "3\n",
            "4\n",
            "5\n",
            "6\n",
            "7\n",
            "8\n",
            "9\n"
          ],
          "name": "stdout"
        }
      ]
    },
    {
      "cell_type": "markdown",
      "metadata": {
        "id": "bmkVkbQRBVaE"
      },
      "source": [
        "This code illustrates some incompatibilites between Python2 and Python 3. Before Python 3, it was acceptable to leave the patentheses off of a print function call. Thois method of invoking the print command is no longer allowed in Python 3. Similarly, it used to be a  performance improvement to use the xrange command in place of range command at times. Python 3 incorporated all of the functionality of xrange Python 2 command into the normal range command. As a result, the programmer should not use the xrange command in Python 3. If you see either of these constructs used in example code, then you are looking ar an older Python 2 era example.\n",
        "\n",
        "The range command is used in conjunction with loops to pass over a specific range of numbers.Cases, where you must loop over specific number ranges, are somewhat uncommon. Generally, programmers use loops on collections of items, rather than hard-coding numeric values into your code.Collection, as well as the operations that loops can perform on them, is coverd later in this module.\n",
        "\n",
        "The following is a further example of a looped printing of strings and numbers."
      ]
    },
    {
      "cell_type": "code",
      "metadata": {
        "id": "UKQD2OF3BT4n",
        "outputId": "edc8dbfa-0a50-4c88-d002-0941a0de1c80",
        "colab": {
          "base_uri": "https://localhost:8080/",
          "height": 185
        }
      },
      "source": [
        "acc = 0\n",
        "for x in range(1,10):\n",
        "  acc += x\n",
        "  print(f'Adding {x},sum so far is {acc}')\n",
        "\n",
        "print(f'Final sum:{acc}')"
      ],
      "execution_count": null,
      "outputs": [
        {
          "output_type": "stream",
          "text": [
            "Adding 1,sum so far is 1\n",
            "Adding 2,sum so far is 3\n",
            "Adding 3,sum so far is 6\n",
            "Adding 4,sum so far is 10\n",
            "Adding 5,sum so far is 15\n",
            "Adding 6,sum so far is 21\n",
            "Adding 7,sum so far is 28\n",
            "Adding 8,sum so far is 36\n",
            "Adding 9,sum so far is 45\n",
            "Final sum:45\n"
          ],
          "name": "stdout"
        }
      ]
    },
    {
      "cell_type": "code",
      "metadata": {
        "id": "wPnBLvB6DWIH"
      },
      "source": [
        ""
      ],
      "execution_count": null,
      "outputs": []
    }
  ]
}