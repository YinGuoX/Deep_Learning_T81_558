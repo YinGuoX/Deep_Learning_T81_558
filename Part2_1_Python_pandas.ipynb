{
  "nbformat": 4,
  "nbformat_minor": 0,
  "metadata": {
    "colab": {
      "name": "Part2.1_Python_pandas.ipynb",
      "provenance": [],
      "collapsed_sections": [],
      "authorship_tag": "ABX9TyO0i/jmVkRNq8e7RLrC4Aoc",
      "include_colab_link": true
    },
    "kernelspec": {
      "name": "python3",
      "display_name": "Python 3"
    }
  },
  "cells": [
    {
      "cell_type": "markdown",
      "metadata": {
        "id": "view-in-github",
        "colab_type": "text"
      },
      "source": [
        "<a href=\"https://colab.research.google.com/github/YinGuoX/Deep_Learning_T81_558/blob/master/Part2_1_Python_pandas.ipynb\" target=\"_parent\"><img src=\"https://colab.research.google.com/assets/colab-badge.svg\" alt=\"Open In Colab\"/></a>"
      ]
    },
    {
      "cell_type": "markdown",
      "metadata": {
        "id": "6UFh3qyVc05L"
      },
      "source": [
        "# Part2.1:Introduction to Pandas\n",
        "[Pandas](https://pandas.pydata.org/)是一个开源库，可以为Python编程语言提供高性能，易使用的数据结构和数据分析工具。Pandas是基于[R语言](https://www.r-project.org/about.html)中的[dataframe](https://pandas.pydata.org/pandas-docs/stable/reference/api/pandas.DataFrame.html)概念。Pandas将是操纵神经网络处理的数据的主要手段。\n"
      ]
    },
    {
      "cell_type": "markdown",
      "metadata": {
        "id": "V60MgAxRgv-8"
      },
      "source": [
        "## 1.加载数据\n",
        "Data Frame是pandas的一个重要组成部分，我们将使用它来访问UCI machine learning repository的[auto-mpg](https://archive.ics.uci.edu/ml/datasets/Auto+MPG)数据集。\n",
        "\n",
        "UCI从卡耐基梅隆大学维护的StatLib库中获取了这个数据集。1983年美国统计协会博览会使用了该数据集。它包含398辆车的数据，包括[mpg](https://en.wikipedia.org/wiki/Fuel_economy_in_automobiles)、[气缸](https://en.wikipedia.org/wiki/Cylinder_(engine))、[排量](https://en.wikipedia.org/wiki/Engine_displacement)、[马力](https://en.wikipedia.org/wiki/Horsepower)、重量、加速度、车型年份、产地和汽车名称。\n",
        "\n",
        "以下是将MPG数据集加载到data frame的代码：\n"
      ]
    },
    {
      "cell_type": "code",
      "metadata": {
        "id": "P6xO4qpOcqIS",
        "outputId": "d2fd6982-c0c4-4278-ffde-0443e5f374d6",
        "colab": {
          "base_uri": "https://localhost:8080/",
          "height": 151
        }
      },
      "source": [
        "import os\n",
        "import pandas as pd\n",
        "\n",
        "df = pd.read_csv(\"https://data.heatonresearch.com/data/t81-558/auto-mpg.csv\")\n",
        "\n",
        "print(df[0:5])"
      ],
      "execution_count": null,
      "outputs": [
        {
          "output_type": "stream",
          "text": [
            "    mpg  cylinders  displacement  ... year  origin                       name\n",
            "0  18.0          8         307.0  ...   70       1  chevrolet chevelle malibu\n",
            "1  15.0          8         350.0  ...   70       1          buick skylark 320\n",
            "2  18.0          8         318.0  ...   70       1         plymouth satellite\n",
            "3  16.0          8         304.0  ...   70       1              amc rebel sst\n",
            "4  17.0          8         302.0  ...   70       1                ford torino\n",
            "\n",
            "[5 rows x 9 columns]\n"
          ],
          "name": "stdout"
        }
      ]
    },
    {
      "cell_type": "markdown",
      "metadata": {
        "id": "wXezmUorXhEP"
      },
      "source": [
        "display()提供了比打印数据框更清晰的显示。指定最大行数和最大列数可以更好地控制显示"
      ]
    },
    {
      "cell_type": "code",
      "metadata": {
        "id": "s2tdrJbEXUHD",
        "outputId": "e6e0f00c-7fe1-4736-8da5-9b1e6c2022d1",
        "colab": {
          "base_uri": "https://localhost:8080/",
          "height": 224
        }
      },
      "source": [
        "pd.set_option('display.max_columns',3)\n",
        "pd.set_option('display.max_rows',5)\n",
        "\n",
        "display(df)"
      ],
      "execution_count": null,
      "outputs": [
        {
          "output_type": "display_data",
          "data": {
            "text/html": [
              "<div>\n",
              "<style scoped>\n",
              "    .dataframe tbody tr th:only-of-type {\n",
              "        vertical-align: middle;\n",
              "    }\n",
              "\n",
              "    .dataframe tbody tr th {\n",
              "        vertical-align: top;\n",
              "    }\n",
              "\n",
              "    .dataframe thead th {\n",
              "        text-align: right;\n",
              "    }\n",
              "</style>\n",
              "<table border=\"1\" class=\"dataframe\">\n",
              "  <thead>\n",
              "    <tr style=\"text-align: right;\">\n",
              "      <th></th>\n",
              "      <th>mpg</th>\n",
              "      <th>...</th>\n",
              "      <th>name</th>\n",
              "    </tr>\n",
              "  </thead>\n",
              "  <tbody>\n",
              "    <tr>\n",
              "      <th>0</th>\n",
              "      <td>18.0</td>\n",
              "      <td>...</td>\n",
              "      <td>chevrolet chevelle malibu</td>\n",
              "    </tr>\n",
              "    <tr>\n",
              "      <th>1</th>\n",
              "      <td>15.0</td>\n",
              "      <td>...</td>\n",
              "      <td>buick skylark 320</td>\n",
              "    </tr>\n",
              "    <tr>\n",
              "      <th>...</th>\n",
              "      <td>...</td>\n",
              "      <td>...</td>\n",
              "      <td>...</td>\n",
              "    </tr>\n",
              "    <tr>\n",
              "      <th>396</th>\n",
              "      <td>28.0</td>\n",
              "      <td>...</td>\n",
              "      <td>ford ranger</td>\n",
              "    </tr>\n",
              "    <tr>\n",
              "      <th>397</th>\n",
              "      <td>31.0</td>\n",
              "      <td>...</td>\n",
              "      <td>chevy s-10</td>\n",
              "    </tr>\n",
              "  </tbody>\n",
              "</table>\n",
              "<p>398 rows × 9 columns</p>\n",
              "</div>"
            ],
            "text/plain": [
              "      mpg  ...                       name\n",
              "0    18.0  ...  chevrolet chevelle malibu\n",
              "1    15.0  ...          buick skylark 320\n",
              "..    ...  ...                        ...\n",
              "396  28.0  ...                ford ranger\n",
              "397  31.0  ...                 chevy s-10\n",
              "\n",
              "[398 rows x 9 columns]"
            ]
          },
          "metadata": {
            "tags": []
          }
        }
      ]
    },
    {
      "cell_type": "markdown",
      "metadata": {
        "id": "maw_q7yvYH52"
      },
      "source": [
        "也可以生成第二个Data Frame来显示关于第一个Data frame的统计信息："
      ]
    },
    {
      "cell_type": "code",
      "metadata": {
        "id": "tBD9AzLsXw-A",
        "outputId": "177ef38d-f0ef-4573-bb55-d61af8ce9b6d",
        "colab": {
          "base_uri": "https://localhost:8080/",
          "height": 306
        }
      },
      "source": [
        "# 选择固定类型的数据\n",
        "df = df.select_dtypes(include=['int','float'])\n",
        "print(df)\n",
        "\n",
        "# df.columns.values获得每一列的值\n",
        "# 并且转换为列表\n",
        "headers = list(df.columns.values)\n",
        "print(headers)\n",
        "\n",
        "fields = []\n",
        "\n",
        "# 计算每一列的数据的相关信息(平均值、方差等)\n",
        "for field in headers:\n",
        "  fields.append({\n",
        "      'name':field,\n",
        "      'mean':df[field].mean(),\n",
        "      'var':df[field].var(),\n",
        "      'sdev':df[field].std()\n",
        "  })\n",
        "\n",
        "for field in fields:\n",
        "  print(field)"
      ],
      "execution_count": null,
      "outputs": [
        {
          "output_type": "stream",
          "text": [
            "      mpg  ...  origin\n",
            "0    18.0  ...       1\n",
            "1    15.0  ...       1\n",
            "..    ...  ...     ...\n",
            "396  28.0  ...       1\n",
            "397  31.0  ...       1\n",
            "\n",
            "[398 rows x 7 columns]\n",
            "['mpg', 'cylinders', 'displacement', 'weight', 'acceleration', 'year', 'origin']\n",
            "{'name': 'mpg', 'mean': 23.514572864321615, 'var': 61.089610774274405, 'sdev': 7.815984312565782}\n",
            "{'name': 'cylinders', 'mean': 5.454773869346734, 'var': 2.8934154399199943, 'sdev': 1.7010042445332094}\n",
            "{'name': 'displacement', 'mean': 193.42587939698493, 'var': 10872.199152247364, 'sdev': 104.26983817119581}\n",
            "{'name': 'weight', 'mean': 2970.424623115578, 'var': 717140.9905256768, 'sdev': 846.8417741973271}\n",
            "{'name': 'acceleration', 'mean': 15.568090452261291, 'var': 7.604848233611381, 'sdev': 2.7576889298126757}\n",
            "{'name': 'year', 'mean': 76.01005025125629, 'var': 13.672442818627143, 'sdev': 3.697626646732623}\n",
            "{'name': 'origin', 'mean': 1.5728643216080402, 'var': 0.6432920268850575, 'sdev': 0.8020548777266163}\n"
          ],
          "name": "stdout"
        }
      ]
    },
    {
      "cell_type": "markdown",
      "metadata": {
        "id": "2PFhWNsDZpSn"
      },
      "source": [
        "该代码输出保存此统计信息的词典列表。 此信息看起来类似于在Part1中看到的JSON代码。要正确使用JSON，程序应将这些记录添加到列表中，并调用Python JSON库的dumps命令。\n",
        "\n",
        "Python程序可以将此类似JSON的信息转换为Data frame，以更好地显示。"
      ]
    },
    {
      "cell_type": "code",
      "metadata": {
        "id": "-AcPjWwMYZAM",
        "outputId": "2f608707-c627-473b-a95f-4a2e56eecf06",
        "colab": {
          "base_uri": "https://localhost:8080/",
          "height": 241
        }
      },
      "source": [
        "print(type(fields))\n",
        "pd.set_option('display.max_columns',0)\n",
        "pd.set_option('display.max_rows',5)\n",
        "df2 = pd.DataFrame(fields)\n",
        "display(df2)"
      ],
      "execution_count": null,
      "outputs": [
        {
          "output_type": "stream",
          "text": [
            "<class 'list'>\n"
          ],
          "name": "stdout"
        },
        {
          "output_type": "display_data",
          "data": {
            "text/html": [
              "<div>\n",
              "<style scoped>\n",
              "    .dataframe tbody tr th:only-of-type {\n",
              "        vertical-align: middle;\n",
              "    }\n",
              "\n",
              "    .dataframe tbody tr th {\n",
              "        vertical-align: top;\n",
              "    }\n",
              "\n",
              "    .dataframe thead th {\n",
              "        text-align: right;\n",
              "    }\n",
              "</style>\n",
              "<table border=\"1\" class=\"dataframe\">\n",
              "  <thead>\n",
              "    <tr style=\"text-align: right;\">\n",
              "      <th></th>\n",
              "      <th>name</th>\n",
              "      <th>mean</th>\n",
              "      <th>var</th>\n",
              "      <th>sdev</th>\n",
              "    </tr>\n",
              "  </thead>\n",
              "  <tbody>\n",
              "    <tr>\n",
              "      <th>0</th>\n",
              "      <td>mpg</td>\n",
              "      <td>23.514573</td>\n",
              "      <td>61.089611</td>\n",
              "      <td>7.815984</td>\n",
              "    </tr>\n",
              "    <tr>\n",
              "      <th>1</th>\n",
              "      <td>cylinders</td>\n",
              "      <td>5.454774</td>\n",
              "      <td>2.893415</td>\n",
              "      <td>1.701004</td>\n",
              "    </tr>\n",
              "    <tr>\n",
              "      <th>...</th>\n",
              "      <td>...</td>\n",
              "      <td>...</td>\n",
              "      <td>...</td>\n",
              "      <td>...</td>\n",
              "    </tr>\n",
              "    <tr>\n",
              "      <th>5</th>\n",
              "      <td>year</td>\n",
              "      <td>76.010050</td>\n",
              "      <td>13.672443</td>\n",
              "      <td>3.697627</td>\n",
              "    </tr>\n",
              "    <tr>\n",
              "      <th>6</th>\n",
              "      <td>origin</td>\n",
              "      <td>1.572864</td>\n",
              "      <td>0.643292</td>\n",
              "      <td>0.802055</td>\n",
              "    </tr>\n",
              "  </tbody>\n",
              "</table>\n",
              "<p>7 rows × 4 columns</p>\n",
              "</div>"
            ],
            "text/plain": [
              "         name       mean        var      sdev\n",
              "0         mpg  23.514573  61.089611  7.815984\n",
              "1   cylinders   5.454774   2.893415  1.701004\n",
              "..        ...        ...        ...       ...\n",
              "5        year  76.010050  13.672443  3.697627\n",
              "6      origin   1.572864   0.643292  0.802055\n",
              "\n",
              "[7 rows x 4 columns]"
            ]
          },
          "metadata": {
            "tags": []
          }
        }
      ]
    },
    {
      "cell_type": "markdown",
      "metadata": {
        "id": "3Wul74Wya2he"
      },
      "source": [
        "## 2. 缺失值\n",
        "在机器学习中遇到缺失值是常态。在理想情况下，每一行数据将会有所有列的值，但是这在现实中几乎不可能。在mpg数据集中有大多数值，但是在马力这一列中会有缺失值。\n",
        "\n",
        "一种常见的做法是可以用该列的中位数(中值)来替换缺失值。\n",
        "\n",
        "以下代码是将马力列中的缺失值NA替换为中值："
      ]
    },
    {
      "cell_type": "code",
      "metadata": {
        "id": "KQZrjJMOZ0u8",
        "outputId": "143ae90a-36e4-429f-9fa0-3f396c82d948",
        "colab": {
          "base_uri": "https://localhost:8080/",
          "height": 269
        }
      },
      "source": [
        "import os\n",
        "import pandas as pd\n",
        "df = pd.read_csv(\n",
        "    \"https://data.heatonresearch.com/data/t81-558/auto-mpg.csv\", \n",
        "    na_values=['NA', '?'])\n",
        "print(df['horsepower'])\n",
        "print(pd.isnull(df['horsepower']))\n",
        "# pd.isnull(df...).values.any()用以判断是否存在缺失值\n",
        "# 如果有一个即返回True\n",
        "print(f\"Horsepower has na? {pd.isnull(df['horsepower']).values.any()}\")\n",
        "\n",
        "print(\"Filling missing values...\")\n",
        "med = df['horsepower'].median()\n",
        "# 将horsepower列中所有为Na的值变为med\n",
        "df['horsepower'] = df['horsepower'].fillna(med)\n",
        "\n",
        "print(f\"Horsepower has na? {pd.isnull(df['horsepower']).values.any()}\")"
      ],
      "execution_count": null,
      "outputs": [
        {
          "output_type": "stream",
          "text": [
            "0      130.0\n",
            "1      165.0\n",
            "       ...  \n",
            "396     79.0\n",
            "397     82.0\n",
            "Name: horsepower, Length: 398, dtype: float64\n",
            "0      False\n",
            "1      False\n",
            "       ...  \n",
            "396    False\n",
            "397    False\n",
            "Name: horsepower, Length: 398, dtype: bool\n",
            "Horsepower has na? True\n",
            "Filling missing values...\n",
            "Horsepower has na? False\n"
          ],
          "name": "stdout"
        }
      ]
    },
    {
      "cell_type": "markdown",
      "metadata": {
        "id": "FdNtPiald7dj"
      },
      "source": [
        "## 3. Outliers(离群值 or 异常值)\n",
        "离群值是过高或低的值。有时，离群值只是错误,这是观察误差的结果。 离群值也可以是确实较大或较小的值，可能难以解决。通常认为离群值是与均值有几个标准偏差的值。 \n",
        "\n",
        "实现以下函数可以删除这些值"
      ]
    },
    {
      "cell_type": "code",
      "metadata": {
        "id": "o82mu2PmcFTo"
      },
      "source": [
        "def remove_outliers(df,name,sd):\n",
        "  # 选择大于标准差sd倍的值\n",
        "  drop_rows = df.index[(np.abs(df[name]-df[name].mean())>= (sd*df[name].std()))]\n",
        "  print(drop_rows)\n",
        "  # 删除这些值\n",
        "  df.drop(drop_rows,axis=0,inplace= True)\n",
        "  print(df)"
      ],
      "execution_count": null,
      "outputs": []
    },
    {
      "cell_type": "markdown",
      "metadata": {
        "id": "3mg0k_gmfGlb"
      },
      "source": [
        "下面的代码将删除马力高于或低于平均值两个标准差以上的Auto MPG数据集中的每一行。"
      ]
    },
    {
      "cell_type": "code",
      "metadata": {
        "id": "OHv49cEee_MF",
        "outputId": "c3e76369-ae8c-4658-9d5c-8745abd4d864",
        "colab": {
          "base_uri": "https://localhost:8080/",
          "height": 429
        }
      },
      "source": [
        "import pandas as pd\n",
        "import os\n",
        "import numpy as np\n",
        "from sklearn import metrics\n",
        "from scipy.stats import zscore\n",
        "\n",
        "df = df = pd.read_csv(\n",
        "    \"https://data.heatonresearch.com/data/t81-558/auto-mpg.csv\",\n",
        "    na_values=['NA','?'])\n",
        "\n",
        "# 处理缺失值\n",
        "med = df['horsepower'].median()\n",
        "df['horsepower'] = df['horsepower'].fillna(med)\n",
        "\n",
        "# 删除名字这一列\n",
        "df.drop('name',1,inplace=True)\n",
        "\n",
        "# 处理outliers\n",
        "print(\"Length before MPG outliters dropped:{}\".format(len(df)))\n",
        "remove_outliers(df,'mpg',2)\n",
        "print('Length after MPG outliters dropped:{}'.format(len(df)))\n",
        "\n",
        "pd.set_option('display.max_columns',0)\n",
        "pd.set_option('display.max_rows',5)\n",
        "display(df)"
      ],
      "execution_count": null,
      "outputs": [
        {
          "output_type": "stream",
          "text": [
            "Length before MPG outliters dropped:398\n",
            "Int64Index([244, 247, 309, 322, 324, 325, 326, 329, 330, 394], dtype='int64')\n",
            "      mpg  cylinders  displacement  ...  acceleration  year  origin\n",
            "0    18.0          8         307.0  ...          12.0    70       1\n",
            "1    15.0          8         350.0  ...          11.5    70       1\n",
            "..    ...        ...           ...  ...           ...   ...     ...\n",
            "396  28.0          4         120.0  ...          18.6    82       1\n",
            "397  31.0          4         119.0  ...          19.4    82       1\n",
            "\n",
            "[388 rows x 8 columns]\n",
            "Length after MPG outliters dropped:388\n"
          ],
          "name": "stdout"
        },
        {
          "output_type": "display_data",
          "data": {
            "text/html": [
              "<div>\n",
              "<style scoped>\n",
              "    .dataframe tbody tr th:only-of-type {\n",
              "        vertical-align: middle;\n",
              "    }\n",
              "\n",
              "    .dataframe tbody tr th {\n",
              "        vertical-align: top;\n",
              "    }\n",
              "\n",
              "    .dataframe thead th {\n",
              "        text-align: right;\n",
              "    }\n",
              "</style>\n",
              "<table border=\"1\" class=\"dataframe\">\n",
              "  <thead>\n",
              "    <tr style=\"text-align: right;\">\n",
              "      <th></th>\n",
              "      <th>mpg</th>\n",
              "      <th>cylinders</th>\n",
              "      <th>displacement</th>\n",
              "      <th>horsepower</th>\n",
              "      <th>weight</th>\n",
              "      <th>acceleration</th>\n",
              "      <th>year</th>\n",
              "      <th>origin</th>\n",
              "    </tr>\n",
              "  </thead>\n",
              "  <tbody>\n",
              "    <tr>\n",
              "      <th>0</th>\n",
              "      <td>18.0</td>\n",
              "      <td>8</td>\n",
              "      <td>307.0</td>\n",
              "      <td>130.0</td>\n",
              "      <td>3504</td>\n",
              "      <td>12.0</td>\n",
              "      <td>70</td>\n",
              "      <td>1</td>\n",
              "    </tr>\n",
              "    <tr>\n",
              "      <th>1</th>\n",
              "      <td>15.0</td>\n",
              "      <td>8</td>\n",
              "      <td>350.0</td>\n",
              "      <td>165.0</td>\n",
              "      <td>3693</td>\n",
              "      <td>11.5</td>\n",
              "      <td>70</td>\n",
              "      <td>1</td>\n",
              "    </tr>\n",
              "    <tr>\n",
              "      <th>...</th>\n",
              "      <td>...</td>\n",
              "      <td>...</td>\n",
              "      <td>...</td>\n",
              "      <td>...</td>\n",
              "      <td>...</td>\n",
              "      <td>...</td>\n",
              "      <td>...</td>\n",
              "      <td>...</td>\n",
              "    </tr>\n",
              "    <tr>\n",
              "      <th>396</th>\n",
              "      <td>28.0</td>\n",
              "      <td>4</td>\n",
              "      <td>120.0</td>\n",
              "      <td>79.0</td>\n",
              "      <td>2625</td>\n",
              "      <td>18.6</td>\n",
              "      <td>82</td>\n",
              "      <td>1</td>\n",
              "    </tr>\n",
              "    <tr>\n",
              "      <th>397</th>\n",
              "      <td>31.0</td>\n",
              "      <td>4</td>\n",
              "      <td>119.0</td>\n",
              "      <td>82.0</td>\n",
              "      <td>2720</td>\n",
              "      <td>19.4</td>\n",
              "      <td>82</td>\n",
              "      <td>1</td>\n",
              "    </tr>\n",
              "  </tbody>\n",
              "</table>\n",
              "<p>388 rows × 8 columns</p>\n",
              "</div>"
            ],
            "text/plain": [
              "      mpg  cylinders  displacement  ...  acceleration  year  origin\n",
              "0    18.0          8         307.0  ...          12.0    70       1\n",
              "1    15.0          8         350.0  ...          11.5    70       1\n",
              "..    ...        ...           ...  ...           ...   ...     ...\n",
              "396  28.0          4         120.0  ...          18.6    82       1\n",
              "397  31.0          4         119.0  ...          19.4    82       1\n",
              "\n",
              "[388 rows x 8 columns]"
            ]
          },
          "metadata": {
            "tags": []
          }
        }
      ]
    },
    {
      "cell_type": "markdown",
      "metadata": {
        "id": "U4_vZeN3heG8"
      },
      "source": [
        "## 4.Dropping Fields(删除域)\n",
        "一些对神经网络没有价值的字段应该删除。\n",
        "\n",
        "下面的代码从MPG数据集中删除name列。"
      ]
    },
    {
      "cell_type": "code",
      "metadata": {
        "id": "jb1cIhgogh8n",
        "outputId": "cecb57b1-8945-4e7e-a9cc-e37de592e676",
        "colab": {
          "base_uri": "https://localhost:8080/",
          "height": 70
        }
      },
      "source": [
        "import os\n",
        "import pandas as pd\n",
        "\n",
        "df = pd.read_csv(\n",
        "    \"https://data.heatonresearch.com/data/t81-558/auto-mpg.csv\",\n",
        "    na_values=['NA','?'])\n",
        "\n",
        "print(f\"Before drop:{list(df.columns)}\")\n",
        "# 在Pandas中axis=1指的是对列进行处理\n",
        "df.drop('name',1,inplace=True)\n",
        "print(f\"After drop:{list(df.columns)}\")"
      ],
      "execution_count": null,
      "outputs": [
        {
          "output_type": "stream",
          "text": [
            "Before drop:['mpg', 'cylinders', 'displacement', 'horsepower', 'weight', 'acceleration', 'year', 'origin', 'name']\n",
            "After drop:['mpg', 'cylinders', 'displacement', 'horsepower', 'weight', 'acceleration', 'year', 'origin']\n"
          ],
          "name": "stdout"
        }
      ]
    },
    {
      "cell_type": "markdown",
      "metadata": {
        "id": "7ROIctN3iavs"
      },
      "source": [
        "## 5.连接行和列\n",
        "Python可以将行和列连接在一起以形成新的数据帧(data frames)。\n",
        "\n",
        "下面的代码将从Auto MPG数据集的name和horsepower列创建一个新的data frames。\n",
        "该程序通过将两列连接在一起来实现这一点。\n",
        "\n"
      ]
    },
    {
      "cell_type": "code",
      "metadata": {
        "id": "edi9Tk37iIP1",
        "outputId": "892e7c68-4686-4972-cc18-889a47a052ab",
        "colab": {
          "base_uri": "https://localhost:8080/",
          "height": 325
        }
      },
      "source": [
        "import os\n",
        "import pandas as pd\n",
        "\n",
        "\n",
        "df = pd.read_csv(\n",
        "    \"https://data.heatonresearch.com/data/t81-558/auto-mpg.csv\",\n",
        "    na_values=['NA','?'])\n",
        "\n",
        "col_horsepower = df['horsepower']\n",
        "col_name = df['name']\n",
        "print(col_name)\n",
        "# axis=1对列操作\n",
        "result = pd.concat([col_name,col_horsepower],axis=1)\n",
        "\n",
        "pd.set_option('display.max_columns',0)\n",
        "pd.set_option('display.max_rows',5)\n",
        "display(result)"
      ],
      "execution_count": null,
      "outputs": [
        {
          "output_type": "stream",
          "text": [
            "0      chevrolet chevelle malibu\n",
            "1              buick skylark 320\n",
            "                 ...            \n",
            "396                  ford ranger\n",
            "397                   chevy s-10\n",
            "Name: name, Length: 398, dtype: object\n"
          ],
          "name": "stdout"
        },
        {
          "output_type": "display_data",
          "data": {
            "text/html": [
              "<div>\n",
              "<style scoped>\n",
              "    .dataframe tbody tr th:only-of-type {\n",
              "        vertical-align: middle;\n",
              "    }\n",
              "\n",
              "    .dataframe tbody tr th {\n",
              "        vertical-align: top;\n",
              "    }\n",
              "\n",
              "    .dataframe thead th {\n",
              "        text-align: right;\n",
              "    }\n",
              "</style>\n",
              "<table border=\"1\" class=\"dataframe\">\n",
              "  <thead>\n",
              "    <tr style=\"text-align: right;\">\n",
              "      <th></th>\n",
              "      <th>name</th>\n",
              "      <th>horsepower</th>\n",
              "    </tr>\n",
              "  </thead>\n",
              "  <tbody>\n",
              "    <tr>\n",
              "      <th>0</th>\n",
              "      <td>chevrolet chevelle malibu</td>\n",
              "      <td>130.0</td>\n",
              "    </tr>\n",
              "    <tr>\n",
              "      <th>1</th>\n",
              "      <td>buick skylark 320</td>\n",
              "      <td>165.0</td>\n",
              "    </tr>\n",
              "    <tr>\n",
              "      <th>...</th>\n",
              "      <td>...</td>\n",
              "      <td>...</td>\n",
              "    </tr>\n",
              "    <tr>\n",
              "      <th>396</th>\n",
              "      <td>ford ranger</td>\n",
              "      <td>79.0</td>\n",
              "    </tr>\n",
              "    <tr>\n",
              "      <th>397</th>\n",
              "      <td>chevy s-10</td>\n",
              "      <td>82.0</td>\n",
              "    </tr>\n",
              "  </tbody>\n",
              "</table>\n",
              "<p>398 rows × 2 columns</p>\n",
              "</div>"
            ],
            "text/plain": [
              "                          name  horsepower\n",
              "0    chevrolet chevelle malibu       130.0\n",
              "1            buick skylark 320       165.0\n",
              "..                         ...         ...\n",
              "396                ford ranger        79.0\n",
              "397                 chevy s-10        82.0\n",
              "\n",
              "[398 rows x 2 columns]"
            ]
          },
          "metadata": {
            "tags": []
          }
        }
      ]
    },
    {
      "cell_type": "markdown",
      "metadata": {
        "id": "eQ0LIxMMjURn"
      },
      "source": [
        "concat()还可以将两行连接在一起。\n",
        "\n",
        "以下代码连接了Auto MPG数据集的前两行和后两行。"
      ]
    },
    {
      "cell_type": "code",
      "metadata": {
        "id": "KcjphzNPi5CF",
        "outputId": "f0589f3b-e1c8-49d6-b89c-675f86f27890",
        "colab": {
          "base_uri": "https://localhost:8080/",
          "height": 194
        }
      },
      "source": [
        "import os\n",
        "import pandas as pd\n",
        "\n",
        "df = pd.read_csv(\n",
        "    \"https://data.heatonresearch.com/data/t81-558/auto-mpg.csv\",\n",
        "    na_values=['NA','?'])\n",
        "\n",
        "# axis=0对行操作\n",
        "result = pd.concat([df[0:2],df[-2:]],axis=0)\n",
        "\n",
        "pd.set_option('display.max_columns',7)\n",
        "pd.set_option('display.max_rows',0)\n",
        "display(result)"
      ],
      "execution_count": null,
      "outputs": [
        {
          "output_type": "display_data",
          "data": {
            "text/html": [
              "<div>\n",
              "<style scoped>\n",
              "    .dataframe tbody tr th:only-of-type {\n",
              "        vertical-align: middle;\n",
              "    }\n",
              "\n",
              "    .dataframe tbody tr th {\n",
              "        vertical-align: top;\n",
              "    }\n",
              "\n",
              "    .dataframe thead th {\n",
              "        text-align: right;\n",
              "    }\n",
              "</style>\n",
              "<table border=\"1\" class=\"dataframe\">\n",
              "  <thead>\n",
              "    <tr style=\"text-align: right;\">\n",
              "      <th></th>\n",
              "      <th>mpg</th>\n",
              "      <th>cylinders</th>\n",
              "      <th>displacement</th>\n",
              "      <th>...</th>\n",
              "      <th>year</th>\n",
              "      <th>origin</th>\n",
              "      <th>name</th>\n",
              "    </tr>\n",
              "  </thead>\n",
              "  <tbody>\n",
              "    <tr>\n",
              "      <th>0</th>\n",
              "      <td>18.0</td>\n",
              "      <td>8</td>\n",
              "      <td>307.0</td>\n",
              "      <td>...</td>\n",
              "      <td>70</td>\n",
              "      <td>1</td>\n",
              "      <td>chevrolet chevelle malibu</td>\n",
              "    </tr>\n",
              "    <tr>\n",
              "      <th>1</th>\n",
              "      <td>15.0</td>\n",
              "      <td>8</td>\n",
              "      <td>350.0</td>\n",
              "      <td>...</td>\n",
              "      <td>70</td>\n",
              "      <td>1</td>\n",
              "      <td>buick skylark 320</td>\n",
              "    </tr>\n",
              "    <tr>\n",
              "      <th>396</th>\n",
              "      <td>28.0</td>\n",
              "      <td>4</td>\n",
              "      <td>120.0</td>\n",
              "      <td>...</td>\n",
              "      <td>82</td>\n",
              "      <td>1</td>\n",
              "      <td>ford ranger</td>\n",
              "    </tr>\n",
              "    <tr>\n",
              "      <th>397</th>\n",
              "      <td>31.0</td>\n",
              "      <td>4</td>\n",
              "      <td>119.0</td>\n",
              "      <td>...</td>\n",
              "      <td>82</td>\n",
              "      <td>1</td>\n",
              "      <td>chevy s-10</td>\n",
              "    </tr>\n",
              "  </tbody>\n",
              "</table>\n",
              "<p>4 rows × 9 columns</p>\n",
              "</div>"
            ],
            "text/plain": [
              "      mpg  cylinders  displacement  ...  year  origin  \\\n",
              "0    18.0          8         307.0  ...    70       1   \n",
              "1    15.0          8         350.0  ...    70       1   \n",
              "396  28.0          4         120.0  ...    82       1   \n",
              "397  31.0          4         119.0  ...    82       1   \n",
              "\n",
              "                          name  \n",
              "0    chevrolet chevelle malibu  \n",
              "1            buick skylark 320  \n",
              "396                ford ranger  \n",
              "397                 chevy s-10  \n",
              "\n",
              "[4 rows x 9 columns]"
            ]
          },
          "metadata": {
            "tags": []
          }
        }
      ]
    },
    {
      "cell_type": "markdown",
      "metadata": {
        "id": "X2a8YDM4j47D"
      },
      "source": [
        "## 6. 训练集和验证集\n",
        "我们必须根据机器学习模型预测从未见过的数据的能力来评估它。因此，我们经常将训练数据划分为验证集和训练集。机器学习模型会从训练数据中学习，但最终会基于验证数据进行评估。\n",
        "\n",
        "* **训练数据**-样本数据中，神经网络用来训练的数据。\n",
        "\n",
        "* **验证数据**-样本数据外，机器学习模型适合训练数据后对其进行评估的数据。\n",
        "\n",
        "有两种处理训练和验证数据的有效方法：\n",
        "\n",
        "* 训练/验证拆分-程序根据训练和验证（保留）集之间的某种比率来拆分数据。 典型的比率是80％的培训和20％的验证。\n",
        "\n",
        "* K折交叉验证-该程序将数据分为几个折和模型。 由于该程序创建与折页数量相同的模型，因此该程序可以生成整个数据集的样本外预测。\n",
        "\n",
        "以下代码将MPG数据分为训练和验证集。 训练集使用80％的数据，而验证集使用20％的数据。 \n",
        "\n",
        "图2.TRN-VAL显示了如何在80％的数据上训练模型，然后针对其余20％的数据进行验证。\n",
        "![Training and Validation](https://raw.githubusercontent.com/jeffheaton/t81_558_deep_learning/master/images/class_1_train_val.png \"Training and Validation\")\n"
      ]
    },
    {
      "cell_type": "code",
      "metadata": {
        "id": "cLkFEDG-jvTM",
        "outputId": "ac256817-ffbb-48ab-c8e3-07c308a54e02",
        "colab": {
          "base_uri": "https://localhost:8080/",
          "height": 454
        }
      },
      "source": [
        "import os\n",
        "import pandas as pd\n",
        "import numpy as np\n",
        "\n",
        "df = pd.read_csv(\n",
        "    \"https://data.heatonresearch.com/data/t81-558/auto-mpg.csv\",\n",
        "    na_values=['NA','?'])\n",
        "\n",
        "print(df[0:5])\n",
        "# 将df里的数据随机化\n",
        "df = df.reindex(np.random.permutation(df.index))\n",
        "print(df[0:5])\n",
        "\n",
        "# 随机选择80%的df的训练数据和20%的验证数据\n",
        "mask = np.random.rand(len(df)) < 0.8\n",
        "print(mask.shape)\n",
        "trainDF = pd.DataFrame(df[mask])\n",
        "validationDF = pd.DataFrame(df[~mask])\n",
        "\n",
        "print(f\"Training DF：{len(trainDF)}\")\n",
        "print(f\"Validation DF：{len(validationDF)}\")"
      ],
      "execution_count": null,
      "outputs": [
        {
          "output_type": "stream",
          "text": [
            "    mpg  cylinders  displacement  ...  year  origin                       name\n",
            "0  18.0          8         307.0  ...    70       1  chevrolet chevelle malibu\n",
            "1  15.0          8         350.0  ...    70       1          buick skylark 320\n",
            "2  18.0          8         318.0  ...    70       1         plymouth satellite\n",
            "3  16.0          8         304.0  ...    70       1              amc rebel sst\n",
            "4  17.0          8         302.0  ...    70       1                ford torino\n",
            "\n",
            "[5 rows x 9 columns]\n",
            "      mpg  cylinders  displacement  ...  year  origin  \\\n",
            "393  27.0          4         140.0  ...    82       1   \n",
            "260  18.6          6         225.0  ...    78       1   \n",
            "204  32.0          4          85.0  ...    76       3   \n",
            "10   15.0          8         383.0  ...    70       1   \n",
            "262  19.2          8         305.0  ...    78       1   \n",
            "\n",
            "                             name  \n",
            "393               ford mustang gl  \n",
            "260                   dodge aspen  \n",
            "204                  datsun b-210  \n",
            "10            dodge challenger se  \n",
            "262  chevrolet monte carlo landau  \n",
            "\n",
            "[5 rows x 9 columns]\n",
            "(398,)\n",
            "Training DF：322\n",
            "Validation DF：76\n"
          ],
          "name": "stdout"
        }
      ]
    },
    {
      "cell_type": "markdown",
      "metadata": {
        "id": "CxwY-cvIiFjy"
      },
      "source": [
        "## 7.将数据帧(Dataframe)转换成矩阵(Martix)\n",
        "神经网络不能直接处理Python的Data frame类型数据，需要将其转换为数值矩阵。\n",
        "\n",
        "以下代码使用Data frame的值属性将数据转换为矩阵。"
      ]
    },
    {
      "cell_type": "code",
      "metadata": {
        "id": "XPXtfA8Rlpqx",
        "outputId": "89cd130c-64e3-4f17-bdf3-a5b7df4ce1fb",
        "colab": {
          "base_uri": "https://localhost:8080/",
          "height": 134
        }
      },
      "source": [
        "df.values"
      ],
      "execution_count": null,
      "outputs": [
        {
          "output_type": "execute_result",
          "data": {
            "text/plain": [
              "array([[27.0, 4, 140.0, ..., 82, 1, 'ford mustang gl'],\n",
              "       [18.6, 6, 225.0, ..., 78, 1, 'dodge aspen'],\n",
              "       [32.0, 4, 85.0, ..., 76, 3, 'datsun b-210'],\n",
              "       ...,\n",
              "       [24.0, 4, 134.0, ..., 75, 3, 'toyota corona'],\n",
              "       [20.6, 6, 231.0, ..., 78, 1, 'buick century special'],\n",
              "       [19.0, 4, 120.0, ..., 76, 2, 'peugeot 504']], dtype=object)"
            ]
          },
          "metadata": {
            "tags": []
          },
          "execution_count": 13
        }
      ]
    },
    {
      "cell_type": "markdown",
      "metadata": {
        "id": "WZvyoq_Yk7z7"
      },
      "source": [
        "如果只希望转换其中一些列，而不需要name列，请使用以下代码。"
      ]
    },
    {
      "cell_type": "code",
      "metadata": {
        "id": "tESZrUsGk7U1",
        "outputId": "66c8fbfc-3b68-44c6-8b8e-6d9c4f102f5c",
        "colab": {
          "base_uri": "https://localhost:8080/",
          "height": 134
        }
      },
      "source": [
        "df[['mpg', 'cylinders', 'displacement', 'horsepower', 'weight',\n",
        "       'acceleration', 'year', 'origin']].values"
      ],
      "execution_count": null,
      "outputs": [
        {
          "output_type": "execute_result",
          "data": {
            "text/plain": [
              "array([[ 27. ,   4. , 140. , ...,  15.6,  82. ,   1. ],\n",
              "       [ 18.6,   6. , 225. , ...,  18.7,  78. ,   1. ],\n",
              "       [ 32. ,   4. ,  85. , ...,  17. ,  76. ,   3. ],\n",
              "       ...,\n",
              "       [ 24. ,   4. , 134. , ...,  13.5,  75. ,   3. ],\n",
              "       [ 20.6,   6. , 231. , ...,  15.8,  78. ,   1. ],\n",
              "       [ 19. ,   4. , 120. , ...,  21.9,  76. ,   2. ]])"
            ]
          },
          "metadata": {
            "tags": []
          },
          "execution_count": 14
        }
      ]
    },
    {
      "cell_type": "markdown",
      "metadata": {
        "id": "-Cik0WW6lkvc"
      },
      "source": [
        "## 8. 将Data frame数据保存为CSV类型文件\n"
      ]
    },
    {
      "cell_type": "code",
      "metadata": {
        "id": "_tiNmZ_gkts3",
        "outputId": "0d6e6a4e-e84d-4673-a168-3328206718be",
        "colab": {
          "base_uri": "https://localhost:8080/",
          "height": 50
        }
      },
      "source": [
        "import os\n",
        "import pandas as pd\n",
        "import numpy as np\n",
        "\n",
        "path = '.'\n",
        "df = pd.read_csv(\n",
        "    \"https://data.heatonresearch.com/data/t81-558/auto-mpg.csv\",\n",
        "    na_values=['NA','?'])\n",
        "\n",
        "# 获得文件要写入的路径\n",
        "filename_write = os.path.join(path,'auto-mpg-shuffle.csv')\n",
        "print(filename_write)\n",
        "# 打乱df数据集\n",
        "df = df.reindex(np.random.permutation(df.index))\n",
        "\n",
        "# 将数据保存到文件中\n",
        "# index = False不写入行索引到文件中\n",
        "df.to_csv(filename_write,index=False)\n",
        "print(\"Done\")"
      ],
      "execution_count": null,
      "outputs": [
        {
          "output_type": "stream",
          "text": [
            "./auto-mpg-shuffle.csv\n",
            "Done\n"
          ],
          "name": "stdout"
        }
      ]
    },
    {
      "cell_type": "markdown",
      "metadata": {
        "id": "Zb2FB3dqohqK"
      },
      "source": [
        "将数据保存在Google Drive云盘中。"
      ]
    },
    {
      "cell_type": "code",
      "metadata": {
        "id": "IJLnJngBm1WP",
        "outputId": "55bd0f74-de6a-4e13-cabd-504066040f22",
        "colab": {
          "base_uri": "https://localhost:8080/",
          "height": 34
        }
      },
      "source": [
        "from google.colab import drive\n",
        "drive.mount('/content/drive')"
      ],
      "execution_count": null,
      "outputs": [
        {
          "output_type": "stream",
          "text": [
            "Mounted at /content/drive\n"
          ],
          "name": "stdout"
        }
      ]
    },
    {
      "cell_type": "code",
      "metadata": {
        "id": "8kWIjzCtnzd8",
        "outputId": "55f45a27-9187-46cf-d28e-6a365ac09fed",
        "colab": {
          "base_uri": "https://localhost:8080/",
          "height": 72
        }
      },
      "source": [
        "import os\n",
        "path = \"/content/drive/My Drive/DeepLearning_AI_Course/T81_558_Deep_learning_JeffHeaton/\"\n",
        "\n",
        "# 更改当前系统的路径\n",
        "os.chdir(path)\n",
        "# 显示当前路径的文件夹名字\n",
        "print(os.listdir())\n",
        "# 获得当前路径\n",
        "os.getcwd()"
      ],
      "execution_count": null,
      "outputs": [
        {
          "output_type": "stream",
          "text": [
            "['Part2.1_Python_pandas.ipynb', 'Part1.1_Course_Overview', 'Part1.2_Intro_python.ipynb', 'Part1.3_python_collections.ipynb', 'Part1.4_python_files.ipynb', 'Part1.5_Python_functional.ipynb']\n"
          ],
          "name": "stdout"
        },
        {
          "output_type": "execute_result",
          "data": {
            "application/vnd.google.colaboratory.intrinsic+json": {
              "type": "string"
            },
            "text/plain": [
              "'/content/drive/My Drive/DeepLearning_AI_Course/T81_558_Deep_learning_JeffHeaton'"
            ]
          },
          "metadata": {
            "tags": []
          },
          "execution_count": 20
        }
      ]
    },
    {
      "cell_type": "code",
      "metadata": {
        "id": "32yGxn_MoOKi",
        "outputId": "59675171-1189-41c1-b7cc-251dac7cdaa8",
        "colab": {
          "base_uri": "https://localhost:8080/",
          "height": 50
        }
      },
      "source": [
        "path = '.'\n",
        "df = pd.read_csv(\n",
        "    \"https://data.heatonresearch.com/data/t81-558/auto-mpg.csv\",\n",
        "    na_values=['NA','?'])\n",
        "\n",
        "# 获得文件要写入的路径\n",
        "filename_write = os.path.join(path,'auto-mpg-shuffle.csv')\n",
        "print(filename_write)\n",
        "# 打乱df数据集\n",
        "df = df.reindex(np.random.permutation(df.index))\n",
        "\n",
        "# 将数据保存到文件中\n",
        "# index = False不写入行索引到文件中\n",
        "df.to_csv(filename_write,index=False)\n",
        "print(\"Done\")"
      ],
      "execution_count": null,
      "outputs": [
        {
          "output_type": "stream",
          "text": [
            "./auto-mpg-shuffle.csv\n",
            "Done\n"
          ],
          "name": "stdout"
        }
      ]
    },
    {
      "cell_type": "markdown",
      "metadata": {
        "id": "b0gUP8yepQ1D"
      },
      "source": [
        "## 9.将Data frame保存为Pickle类型文件\n",
        "各种软件程序都可以使用存储为CSV的文本文件。但是，它们确实需要更长的时间来生成，并且有时会在转换中丢失少量的精度。另一种格式是[Pickle](https://docs.python.org/3/library/pickle.html)。通常是将数据输出到CSV，因为它非常兼容，甚至在Python之外也是如此。\n",
        "\n",
        "下面的代码是用来将Data frame数据存储为Pickle文件"
      ]
    },
    {
      "cell_type": "code",
      "metadata": {
        "id": "icGWe5e4okmt",
        "outputId": "69f1d19b-c3c9-44e3-fdee-68a2c124d995",
        "colab": {
          "base_uri": "https://localhost:8080/",
          "height": 34
        }
      },
      "source": [
        "import os\n",
        "import pandas as pd\n",
        "import numpy as np\n",
        "import pickle\n",
        "\n",
        "path = \".\"\n",
        "\n",
        "df = pd.read_csv(\n",
        "    \"https://data.heatonresearch.com/data/t81-558/auto-mpg.csv\",\n",
        "    na_values=['NA','?'])\n",
        "\n",
        "filename_write = os.path.join(path, \"auto-mpg-shuffle.pkl\")\n",
        "df = df.reindex(np.random.permutation(df.index))\n",
        "\n",
        "with open(filename_write,'wb') as fp:\n",
        "  pickle.dump(df,fp)\n",
        "print(\"Done\")"
      ],
      "execution_count": null,
      "outputs": [
        {
          "output_type": "stream",
          "text": [
            "Done\n"
          ],
          "name": "stdout"
        }
      ]
    },
    {
      "cell_type": "markdown",
      "metadata": {
        "id": "qt3vjyycqYDW"
      },
      "source": [
        "通过以下代码行将pickle文件加载回内存中。 \n",
        "\n",
        "**注：**索引编号是否仍与之前的随机排序混杂在一起？ \n",
        "* 加载重建的CSV（在最后一步中）不会保留这些值。\n",
        "* 但是Pickle会"
      ]
    },
    {
      "cell_type": "code",
      "metadata": {
        "id": "BOxsRWGaqGoV",
        "outputId": "b19e44bd-d53f-40eb-d93e-93630adc196c",
        "colab": {
          "base_uri": "https://localhost:8080/",
          "height": 224
        }
      },
      "source": [
        "import os \n",
        "import pandas as pd\n",
        "import numpy as np\n",
        "import pickle\n",
        "\n",
        "path = \".\"\n",
        "\n",
        "df = pd.read_csv(\n",
        "    \"https://data.heatonresearch.com/data/t81-558/auto-mpg.csv\",\n",
        "    na_values=['NA','?'])\n",
        "\n",
        "filename_read = os.path.join(path, \"auto-mpg-shuffle.pkl\")\n",
        "\n",
        "with open(filename_write,'rb') as fp:\n",
        "  df = pickle.load(fp)\n",
        "\n",
        "pd.set_option(\"display.max_columns\",7)\n",
        "pd.set_option(\"display.max_rows\",5)\n",
        "display(df)"
      ],
      "execution_count": null,
      "outputs": [
        {
          "output_type": "display_data",
          "data": {
            "text/html": [
              "<div>\n",
              "<style scoped>\n",
              "    .dataframe tbody tr th:only-of-type {\n",
              "        vertical-align: middle;\n",
              "    }\n",
              "\n",
              "    .dataframe tbody tr th {\n",
              "        vertical-align: top;\n",
              "    }\n",
              "\n",
              "    .dataframe thead th {\n",
              "        text-align: right;\n",
              "    }\n",
              "</style>\n",
              "<table border=\"1\" class=\"dataframe\">\n",
              "  <thead>\n",
              "    <tr style=\"text-align: right;\">\n",
              "      <th></th>\n",
              "      <th>mpg</th>\n",
              "      <th>cylinders</th>\n",
              "      <th>displacement</th>\n",
              "      <th>...</th>\n",
              "      <th>year</th>\n",
              "      <th>origin</th>\n",
              "      <th>name</th>\n",
              "    </tr>\n",
              "  </thead>\n",
              "  <tbody>\n",
              "    <tr>\n",
              "      <th>394</th>\n",
              "      <td>44.0</td>\n",
              "      <td>4</td>\n",
              "      <td>97.0</td>\n",
              "      <td>...</td>\n",
              "      <td>82</td>\n",
              "      <td>2</td>\n",
              "      <td>vw pickup</td>\n",
              "    </tr>\n",
              "    <tr>\n",
              "      <th>304</th>\n",
              "      <td>37.3</td>\n",
              "      <td>4</td>\n",
              "      <td>91.0</td>\n",
              "      <td>...</td>\n",
              "      <td>79</td>\n",
              "      <td>2</td>\n",
              "      <td>fiat strada custom</td>\n",
              "    </tr>\n",
              "    <tr>\n",
              "      <th>...</th>\n",
              "      <td>...</td>\n",
              "      <td>...</td>\n",
              "      <td>...</td>\n",
              "      <td>...</td>\n",
              "      <td>...</td>\n",
              "      <td>...</td>\n",
              "      <td>...</td>\n",
              "    </tr>\n",
              "    <tr>\n",
              "      <th>104</th>\n",
              "      <td>12.0</td>\n",
              "      <td>8</td>\n",
              "      <td>400.0</td>\n",
              "      <td>...</td>\n",
              "      <td>73</td>\n",
              "      <td>1</td>\n",
              "      <td>ford country</td>\n",
              "    </tr>\n",
              "    <tr>\n",
              "      <th>312</th>\n",
              "      <td>37.2</td>\n",
              "      <td>4</td>\n",
              "      <td>86.0</td>\n",
              "      <td>...</td>\n",
              "      <td>80</td>\n",
              "      <td>3</td>\n",
              "      <td>datsun 310</td>\n",
              "    </tr>\n",
              "  </tbody>\n",
              "</table>\n",
              "<p>398 rows × 9 columns</p>\n",
              "</div>"
            ],
            "text/plain": [
              "      mpg  cylinders  displacement  ...  year  origin                name\n",
              "394  44.0          4          97.0  ...    82       2           vw pickup\n",
              "304  37.3          4          91.0  ...    79       2  fiat strada custom\n",
              "..    ...        ...           ...  ...   ...     ...                 ...\n",
              "104  12.0          8         400.0  ...    73       1        ford country\n",
              "312  37.2          4          86.0  ...    80       3          datsun 310\n",
              "\n",
              "[398 rows x 9 columns]"
            ]
          },
          "metadata": {
            "tags": []
          }
        }
      ]
    },
    {
      "cell_type": "code",
      "metadata": {
        "id": "H18qToKHq622"
      },
      "source": [
        ""
      ],
      "execution_count": null,
      "outputs": []
    }
  ]
}