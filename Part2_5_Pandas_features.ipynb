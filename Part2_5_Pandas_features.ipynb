{
  "nbformat": 4,
  "nbformat_minor": 0,
  "metadata": {
    "colab": {
      "name": "Part2.5_Pandas_features.ipynb",
      "provenance": [],
      "collapsed_sections": [],
      "authorship_tag": "ABX9TyMi6Whti3gZZX/IWp9gn8A8",
      "include_colab_link": true
    },
    "kernelspec": {
      "name": "python3",
      "display_name": "Python 3"
    }
  },
  "cells": [
    {
      "cell_type": "markdown",
      "metadata": {
        "id": "view-in-github",
        "colab_type": "text"
      },
      "source": [
        "<a href=\"https://colab.research.google.com/github/YinGuoX/Deep_Learning_T81_558/blob/master/Part2_5_Pandas_features.ipynb\" target=\"_parent\"><img src=\"https://colab.research.google.com/assets/colab-badge.svg\" alt=\"Open In Colab\"/></a>"
      ]
    },
    {
      "cell_type": "markdown",
      "metadata": {
        "id": "qiKWNikR2c-Y"
      },
      "source": [
        "# Part2.5 : Feature Engineering\n",
        "特征工程是机器学习的重要组成部分。现在，我们将手工设计特征。然而，在本课程的后面，我们将看到一些自动特征工程的技术"
      ]
    },
    {
      "cell_type": "markdown",
      "metadata": {
        "id": "8tf3N4KR26A_"
      },
      "source": [
        "## 1. Calculated Fields\n",
        "可以将新字段添加到程序从其他字段计算出的dataframes中。 我们可以创建一个新列，以千克为单位给出重量。 给定重量（磅），计算公制重量的公式为：\n",
        "\n",
        "$ m_{(kg)} = m_{(lb)} \\times 0.45359237 $\n",
        "\n",
        "下面的Python代码执行此转换"
      ]
    },
    {
      "cell_type": "code",
      "metadata": {
        "id": "znFnsorJ2ClZ",
        "outputId": "b8bd6987-16d7-4e21-d4d7-bf6155cc4abb",
        "colab": {
          "base_uri": "https://localhost:8080/",
          "height": 431
        }
      },
      "source": [
        "import os\n",
        "import pandas as pd\n",
        "pd.set_option('display.max_columns', 6)\n",
        "pd.set_option('display.max_rows', 5)\n",
        "df = pd.read_csv(\n",
        "    \"https://data.heatonresearch.com/data/t81-558/auto-mpg.csv\", \n",
        "    na_values=['NA', '?'])\n",
        "display(df)\n",
        "# 计算'weight'列的数据，并且转换为int类型\n",
        "# 在添加到'weight_kg'列上\n",
        "# 0：插入到第0列\n",
        "df.insert(0,'weight_kg',(df['weight']*0.45359237).astype(int))\n",
        "display(df)"
      ],
      "execution_count": null,
      "outputs": [
        {
          "output_type": "display_data",
          "data": {
            "text/html": [
              "<div>\n",
              "<style scoped>\n",
              "    .dataframe tbody tr th:only-of-type {\n",
              "        vertical-align: middle;\n",
              "    }\n",
              "\n",
              "    .dataframe tbody tr th {\n",
              "        vertical-align: top;\n",
              "    }\n",
              "\n",
              "    .dataframe thead th {\n",
              "        text-align: right;\n",
              "    }\n",
              "</style>\n",
              "<table border=\"1\" class=\"dataframe\">\n",
              "  <thead>\n",
              "    <tr style=\"text-align: right;\">\n",
              "      <th></th>\n",
              "      <th>mpg</th>\n",
              "      <th>cylinders</th>\n",
              "      <th>displacement</th>\n",
              "      <th>...</th>\n",
              "      <th>year</th>\n",
              "      <th>origin</th>\n",
              "      <th>name</th>\n",
              "    </tr>\n",
              "  </thead>\n",
              "  <tbody>\n",
              "    <tr>\n",
              "      <th>0</th>\n",
              "      <td>18.0</td>\n",
              "      <td>8</td>\n",
              "      <td>307.0</td>\n",
              "      <td>...</td>\n",
              "      <td>70</td>\n",
              "      <td>1</td>\n",
              "      <td>chevrolet chevelle malibu</td>\n",
              "    </tr>\n",
              "    <tr>\n",
              "      <th>1</th>\n",
              "      <td>15.0</td>\n",
              "      <td>8</td>\n",
              "      <td>350.0</td>\n",
              "      <td>...</td>\n",
              "      <td>70</td>\n",
              "      <td>1</td>\n",
              "      <td>buick skylark 320</td>\n",
              "    </tr>\n",
              "    <tr>\n",
              "      <th>...</th>\n",
              "      <td>...</td>\n",
              "      <td>...</td>\n",
              "      <td>...</td>\n",
              "      <td>...</td>\n",
              "      <td>...</td>\n",
              "      <td>...</td>\n",
              "      <td>...</td>\n",
              "    </tr>\n",
              "    <tr>\n",
              "      <th>396</th>\n",
              "      <td>28.0</td>\n",
              "      <td>4</td>\n",
              "      <td>120.0</td>\n",
              "      <td>...</td>\n",
              "      <td>82</td>\n",
              "      <td>1</td>\n",
              "      <td>ford ranger</td>\n",
              "    </tr>\n",
              "    <tr>\n",
              "      <th>397</th>\n",
              "      <td>31.0</td>\n",
              "      <td>4</td>\n",
              "      <td>119.0</td>\n",
              "      <td>...</td>\n",
              "      <td>82</td>\n",
              "      <td>1</td>\n",
              "      <td>chevy s-10</td>\n",
              "    </tr>\n",
              "  </tbody>\n",
              "</table>\n",
              "<p>398 rows × 9 columns</p>\n",
              "</div>"
            ],
            "text/plain": [
              "      mpg  cylinders  displacement  ...  year  origin  \\\n",
              "0    18.0          8         307.0  ...    70       1   \n",
              "1    15.0          8         350.0  ...    70       1   \n",
              "..    ...        ...           ...  ...   ...     ...   \n",
              "396  28.0          4         120.0  ...    82       1   \n",
              "397  31.0          4         119.0  ...    82       1   \n",
              "\n",
              "                          name  \n",
              "0    chevrolet chevelle malibu  \n",
              "1            buick skylark 320  \n",
              "..                         ...  \n",
              "396                ford ranger  \n",
              "397                 chevy s-10  \n",
              "\n",
              "[398 rows x 9 columns]"
            ]
          },
          "metadata": {
            "tags": []
          }
        },
        {
          "output_type": "display_data",
          "data": {
            "text/html": [
              "<div>\n",
              "<style scoped>\n",
              "    .dataframe tbody tr th:only-of-type {\n",
              "        vertical-align: middle;\n",
              "    }\n",
              "\n",
              "    .dataframe tbody tr th {\n",
              "        vertical-align: top;\n",
              "    }\n",
              "\n",
              "    .dataframe thead th {\n",
              "        text-align: right;\n",
              "    }\n",
              "</style>\n",
              "<table border=\"1\" class=\"dataframe\">\n",
              "  <thead>\n",
              "    <tr style=\"text-align: right;\">\n",
              "      <th></th>\n",
              "      <th>weight_kg</th>\n",
              "      <th>mpg</th>\n",
              "      <th>cylinders</th>\n",
              "      <th>...</th>\n",
              "      <th>year</th>\n",
              "      <th>origin</th>\n",
              "      <th>name</th>\n",
              "    </tr>\n",
              "  </thead>\n",
              "  <tbody>\n",
              "    <tr>\n",
              "      <th>0</th>\n",
              "      <td>1589</td>\n",
              "      <td>18.0</td>\n",
              "      <td>8</td>\n",
              "      <td>...</td>\n",
              "      <td>70</td>\n",
              "      <td>1</td>\n",
              "      <td>chevrolet chevelle malibu</td>\n",
              "    </tr>\n",
              "    <tr>\n",
              "      <th>1</th>\n",
              "      <td>1675</td>\n",
              "      <td>15.0</td>\n",
              "      <td>8</td>\n",
              "      <td>...</td>\n",
              "      <td>70</td>\n",
              "      <td>1</td>\n",
              "      <td>buick skylark 320</td>\n",
              "    </tr>\n",
              "    <tr>\n",
              "      <th>...</th>\n",
              "      <td>...</td>\n",
              "      <td>...</td>\n",
              "      <td>...</td>\n",
              "      <td>...</td>\n",
              "      <td>...</td>\n",
              "      <td>...</td>\n",
              "      <td>...</td>\n",
              "    </tr>\n",
              "    <tr>\n",
              "      <th>396</th>\n",
              "      <td>1190</td>\n",
              "      <td>28.0</td>\n",
              "      <td>4</td>\n",
              "      <td>...</td>\n",
              "      <td>82</td>\n",
              "      <td>1</td>\n",
              "      <td>ford ranger</td>\n",
              "    </tr>\n",
              "    <tr>\n",
              "      <th>397</th>\n",
              "      <td>1233</td>\n",
              "      <td>31.0</td>\n",
              "      <td>4</td>\n",
              "      <td>...</td>\n",
              "      <td>82</td>\n",
              "      <td>1</td>\n",
              "      <td>chevy s-10</td>\n",
              "    </tr>\n",
              "  </tbody>\n",
              "</table>\n",
              "<p>398 rows × 10 columns</p>\n",
              "</div>"
            ],
            "text/plain": [
              "     weight_kg   mpg  cylinders  ...  year  origin                       name\n",
              "0         1589  18.0          8  ...    70       1  chevrolet chevelle malibu\n",
              "1         1675  15.0          8  ...    70       1          buick skylark 320\n",
              "..         ...   ...        ...  ...   ...     ...                        ...\n",
              "396       1190  28.0          4  ...    82       1                ford ranger\n",
              "397       1233  31.0          4  ...    82       1                 chevy s-10\n",
              "\n",
              "[398 rows x 10 columns]"
            ]
          },
          "metadata": {
            "tags": []
          }
        }
      ]
    },
    {
      "cell_type": "markdown",
      "metadata": {
        "id": "3uf35eEc6yLR"
      },
      "source": [
        "## 2.Google API Keys\n",
        " 有时，您将使用外部API来获取数据。 以下示例显示了如何使用Google API密钥对地址进行编码以用于神经网络。 要使用它们，您将需要自己的Google API密钥。 我下面的密钥不是真实的密钥； 您需要将自己的设备放在那里。 Google会要求您提供信用卡，但是除非您使用大量查询，否则不会产生任何实际费用。 您无需获取此类的Google API密钥； 这只会告诉你如何。 如果您想获取Google API密钥，请访问此网站并获取一个地理编码。\n",
        "\n",
        "您可以从以下链接获取自己的密钥：[Google API Keys.](https://developers.google.com/maps/documentation/embed/get-api-key)"
      ]
    },
    {
      "cell_type": "code",
      "metadata": {
        "id": "VXh6zvyn6zgZ"
      },
      "source": [
        "GOOGLE_KEY = '反正我是失败了，应该是没钱的原因'"
      ],
      "execution_count": null,
      "outputs": []
    },
    {
      "cell_type": "markdown",
      "metadata": {
        "id": "cjeKlYiJ4MpI"
      },
      "source": [
        "## 3. 其他例子：处理地址\n",
        "地址编码成神经网络是很困难的。有许多不同的方法对地址进行编码，但是必须考虑如何将地址转换成更有意义的东西。地图坐标可能是一个很好的方法。[经纬度](https://en.wikipedia.org/wiki/Geographic_coordinate_system)可能是一种有用的编码。由于互联网的强大功能，将地址转换为纬度和经度值相对容易一些。\n",
        "\n",
        "下面的代码示例如何华盛顿大学的坐标："
      ]
    },
    {
      "cell_type": "code",
      "metadata": {
        "id": "AnkdIDxD3zDc",
        "outputId": "b7b740a2-e8d1-4a8e-d3d8-42682c5a3ac5",
        "colab": {
          "base_uri": "https://localhost:8080/",
          "height": 70
        }
      },
      "source": [
        "import requests\n",
        "\n",
        "import requests\n",
        "\n",
        "address = \"1 Brookings Dr, St. Louis, MO 63130\"\n",
        "\n",
        "response = requests.get(\n",
        "    'https://maps.googleapis.com/maps/api/geocode/json?key={}&address={}' \\\n",
        "    .format(GOOGLE_KEY,address))\n",
        "\n",
        "resp_json_payload = response.json()\n",
        "print(resp_json_payload)\n",
        "if 'error_message' in resp_json_payload:\n",
        "    print(resp_json_payload['error_message'])\n",
        "else:\n",
        "    print(resp_json_payload['results'][0]['geometry']['location'])\n"
      ],
      "execution_count": null,
      "outputs": [
        {
          "output_type": "stream",
          "text": [
            "{'error_message': 'This API project is not authorized to use this API.', 'results': [], 'status': 'REQUEST_DENIED'}\n",
            "This API project is not authorized to use this API.\n"
          ],
          "name": "stdout"
        }
      ]
    },
    {
      "cell_type": "markdown",
      "metadata": {
        "id": "u5cQRG7J85dx"
      },
      "source": [
        "如果经度和纬度作为两个特征输入到神经网络中，它们可能没有太大的帮助。这两个值将允许您的神经网络对地图上的位置进行聚类。有时，地图上的集群位置可能很有用。图2。SMK显示了美国各州吸烟人口的百分比。\n",
        "\n",
        "图2：每个州的吸烟者\n",
        "![Smokers by State](https://raw.githubusercontent.com/jeffheaton/t81_558_deep_learning/master/images/class_6_smokers.png \"Smokers by State\")\n",
        "\n",
        "上面的地图显示，某些行为，如吸烟，可以按全球区域聚集。但是，通常您会希望将坐标转换为距离。使用球面上任意两点之间的大圆距离来估计地球上任意两点之间的距离是相当容易的:下面的代码实现了这个公式\n",
        "\n",
        "$\\Delta\\sigma=\\arccos\\bigl(\\sin\\phi_1\\cdot\\sin\\phi_2+\\cos\\phi_1\\cdot\\cos\\phi_2\\cdot\\cos(\\Delta\\lambda)\\bigr)$\n",
        "\n",
        "$d = r \\, \\Delta\\sigma$"
      ]
    },
    {
      "cell_type": "code",
      "metadata": {
        "id": "dkRwx0pO7TXm",
        "outputId": "52400127-0da4-45a5-e2f4-1f09437502f3",
        "colab": {
          "base_uri": "https://localhost:8080/",
          "height": 132
        }
      },
      "source": [
        "from math import sin, cos, sqrt, atan2, radians\n",
        "\n",
        "URL='https://maps.googleapis.com' + \\\n",
        "    '/maps/api/geocode/json?key={}&address={}'\n",
        "\n",
        "# Distance function\n",
        "def distance_lat_lng(lat1,lng1,lat2,lng2):\n",
        "    # approximate radius of earth in km\n",
        "    R = 6373.0\n",
        "\n",
        "    # degrees to radians (lat/lon are in degrees)\n",
        "    lat1 = radians(lat1)\n",
        "    lng1 = radians(lng1)\n",
        "    lat2 = radians(lat2)\n",
        "    lng2 = radians(lng2)\n",
        "\n",
        "    dlng = lng2 - lng1\n",
        "    dlat = lat2 - lat1\n",
        "\n",
        "    a = sin(dlat / 2)**2 + cos(lat1) * cos(lat2) * sin(dlng / 2)**2\n",
        "    c = 2 * atan2(sqrt(a), sqrt(1 - a))\n",
        "\n",
        "    return R * c\n",
        "\n",
        "# Find lat lon for address\n",
        "def lookup_lat_lng(address):\n",
        "    response = requests.get( \\\n",
        "        URL) \\\n",
        "        .format(GOOGLE_KEY,address))\n",
        "    json = response.json()\n",
        "    if len(json['results']) == 0:\n",
        "        print(\"Can't find: {}\".format(address))\n",
        "        return 0,0\n",
        "    map = json['results'][0]['geometry']['location']\n",
        "    return map['lat'],map['lng']\n",
        "\n",
        "\n",
        "# Distance between two locations\n",
        "\n",
        "import requests\n",
        "\n",
        "address1 = \"1 Brookings Dr, St. Louis, MO 63130\" \n",
        "address2 = \"3301 College Ave, Fort Lauderdale, FL 33314\"\n",
        "\n",
        "lat1, lng1 = lookup_lat_lng(address1)\n",
        "lat2, lng2 = lookup_lat_lng(address2)\n",
        "\n",
        "print(\"Distance, St. Louis, MO to Ft. Lauderdale, FL: {} km\".format(\n",
        "        distance_lat_lng(lat1,lng1,lat2,lng2)))"
      ],
      "execution_count": null,
      "outputs": [
        {
          "output_type": "error",
          "ename": "SyntaxError",
          "evalue": "ignored",
          "traceback": [
            "\u001b[0;36m  File \u001b[0;32m\"<ipython-input-11-61bf8b7b3db9>\"\u001b[0;36m, line \u001b[0;32m26\u001b[0m\n\u001b[0;31m    response = requests.get(         URL)         .format(GOOGLE_KEY,address))\u001b[0m\n\u001b[0m                                                                             ^\u001b[0m\n\u001b[0;31mSyntaxError\u001b[0m\u001b[0;31m:\u001b[0m invalid syntax\n"
          ]
        }
      ]
    },
    {
      "cell_type": "markdown",
      "metadata": {
        "id": "SJ3ZrLyc9YAs"
      },
      "source": [
        "距离可能是编码地址的有用方法。 如果您考虑了什么距离可能对您的数据集有用，那将会有所帮助。 考虑：\n",
        "\n",
        "* 到主要都会区的距离\n",
        "\n",
        "* 到竞争对手的距离\n",
        "\n",
        "* 到配送中心的距离\n",
        "\n",
        "* 到零售店的距离\n",
        "\n",
        "以下代码计算了10所大学与圣路易斯华盛顿大学之间的距离："
      ]
    },
    {
      "cell_type": "code",
      "metadata": {
        "id": "qFSt5ix19RGj",
        "outputId": "a41c8093-8d77-472b-e3c1-aefcaf558dfd",
        "colab": {
          "base_uri": "https://localhost:8080/",
          "height": 233
        }
      },
      "source": [
        "# Encoding other universities by their distance to Washington University\n",
        "\n",
        "schools = [\n",
        "    [\"Princeton University, Princeton, NJ 08544\", 'Princeton'],\n",
        "    [\"Massachusetts Hall, Cambridge, MA 02138\", 'Harvard'],\n",
        "    [\"5801 S Ellis Ave, Chicago, IL 60637\", 'University of Chicago'],\n",
        "    [\"Yale, New Haven, CT 06520\", 'Yale'],\n",
        "    [\"116th St & Broadway, New York, NY 10027\", 'Columbia University'],\n",
        "    [\"450 Serra Mall, Stanford, CA 94305\", 'Stanford'],\n",
        "    [\"77 Massachusetts Ave, Cambridge, MA 02139\", 'MIT'],\n",
        "    [\"Duke University, Durham, NC 27708\", 'Duke University'],\n",
        "    [\"University of Pennsylvania, Philadelphia, PA 19104\", \n",
        "         'University of Pennsylvania'],\n",
        "    [\"Johns Hopkins University, Baltimore, MD 21218\", 'Johns Hopkins']\n",
        "]\n",
        "\n",
        "lat1, lng1 = lookup_lat_lng(\"1 Brookings Dr, St. Louis, MO 63130\")\n",
        "\n",
        "for address, name in schools:\n",
        "    lat2,lng2 = lookup_lat_lng(address)\n",
        "    dist = distance_lat_lng(lat1,lng1,lat2,lng2)\n",
        "    print(\"School '{}', distance to wustl is: {}\".format(name,dist))"
      ],
      "execution_count": null,
      "outputs": [
        {
          "output_type": "error",
          "ename": "NameError",
          "evalue": "ignored",
          "traceback": [
            "\u001b[0;31m---------------------------------------------------------------------------\u001b[0m",
            "\u001b[0;31mNameError\u001b[0m                                 Traceback (most recent call last)",
            "\u001b[0;32m<ipython-input-12-af9bc1a8aa11>\u001b[0m in \u001b[0;36m<module>\u001b[0;34m()\u001b[0m\n\u001b[1;32m     15\u001b[0m ]\n\u001b[1;32m     16\u001b[0m \u001b[0;34m\u001b[0m\u001b[0m\n\u001b[0;32m---> 17\u001b[0;31m \u001b[0mlat1\u001b[0m\u001b[0;34m,\u001b[0m \u001b[0mlng1\u001b[0m \u001b[0;34m=\u001b[0m \u001b[0mlookup_lat_lng\u001b[0m\u001b[0;34m(\u001b[0m\u001b[0;34m\"1 Brookings Dr, St. Louis, MO 63130\"\u001b[0m\u001b[0;34m)\u001b[0m\u001b[0;34m\u001b[0m\u001b[0;34m\u001b[0m\u001b[0m\n\u001b[0m\u001b[1;32m     18\u001b[0m \u001b[0;34m\u001b[0m\u001b[0m\n\u001b[1;32m     19\u001b[0m \u001b[0;32mfor\u001b[0m \u001b[0maddress\u001b[0m\u001b[0;34m,\u001b[0m \u001b[0mname\u001b[0m \u001b[0;32min\u001b[0m \u001b[0mschools\u001b[0m\u001b[0;34m:\u001b[0m\u001b[0;34m\u001b[0m\u001b[0;34m\u001b[0m\u001b[0m\n",
            "\u001b[0;31mNameError\u001b[0m: name 'lookup_lat_lng' is not defined"
          ]
        }
      ]
    },
    {
      "cell_type": "code",
      "metadata": {
        "id": "zCPSUbc29g27"
      },
      "source": [
        ""
      ],
      "execution_count": null,
      "outputs": []
    }
  ]
}